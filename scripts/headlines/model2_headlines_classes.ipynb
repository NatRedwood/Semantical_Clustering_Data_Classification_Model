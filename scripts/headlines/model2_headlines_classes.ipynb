{
 "cells": [
  {
   "cell_type": "code",
   "execution_count": 4,
   "metadata": {},
   "outputs": [],
   "source": [
    "import numpy as np\n",
    "import pandas as pd \n",
    "import matplotlib.pyplot as plt\n",
    "import importlib, import_ipynb\n",
    "import data_clean_order_combined as data\n",
    "import tensorflow as tf\n",
    "from tensorflow.data import experimental\n",
    "from tensorflow import keras\n",
    "from keras.callbacks import ModelCheckpoint\n",
    "from keras.preprocessing.text import Tokenizer\n",
    "from sklearn.model_selection import train_test_split, cross_val_score\n",
    "from tensorflow.keras.preprocessing.sequence import pad_sequences\n",
    "from tensorflow.keras.utils import to_categorical\n",
    "from sklearn.preprocessing import LabelEncoder\n",
    "\n",
    "# model building imports\n",
    "from keras.layers import Embedding, Flatten, Dense, Dropout\n",
    "from keras.layers import Conv1D, SimpleRNN, Bidirectional, MaxPooling1D, GlobalMaxPool1D, LSTM, GRU\n",
    "from keras.models import Sequential\n",
    "from keras.regularizers import L1L2\n",
    "\n",
    "%matplotlib inline\n",
    "\n",
    "# matplotlib defaults\n",
    "plt.style.use(\"ggplot\")\n",
    "plt.rc(\"figure\", autolayout=True)\n",
    "plt.rc(\n",
    "    \"axes\",\n",
    "    labelweight=\"bold\",\n",
    "    labelsize=\"large\",\n",
    "    titleweight=\"bold\",\n",
    "    titlesize=14,\n",
    "    titlepad=10,\n",
    ")\n",
    "\n",
    "import warnings \n",
    "warnings.filterwarnings('ignore')\n",
    "\n",
    "from sklearn.metrics import confusion_matrix, classification_report\n",
    "import seaborn as sns\n",
    "sns.set_style('darkgrid')\n",
    "warnings.filterwarnings('ignore')"
   ]
  },
  {
   "cell_type": "code",
   "execution_count": 5,
   "metadata": {},
   "outputs": [],
   "source": [
    "%store -r rand_shuffled_text\n",
    "%store -r ordered_super_alpha_text\n",
    "%store -r ordered_class_alpha_text\n",
    "%store -r ordered_sem_clusters_desc_text\n",
    "%store -r ordered_sem_clusters_asc_text\n",
    "%store -r ordered_sem_clusters_shuffled_per_superclass_text\n",
    "%store -r test_df"
   ]
  },
  {
   "cell_type": "code",
   "execution_count": 6,
   "metadata": {},
   "outputs": [],
   "source": [
    "# Experimental data orderings on headlines TRAIN EXAMPLES\n",
    "XB_train = rand_shuffled_text['cleaned_headline']\n",
    "X1_train = ordered_super_alpha_text['cleaned_headline']\n",
    "X2_train = ordered_class_alpha_text['cleaned_headline']\n",
    "X3_train = ordered_sem_clusters_desc_text['cleaned_headline']\n",
    "X4_train = ordered_sem_clusters_asc_text['cleaned_headline']\n",
    "X5_train = ordered_sem_clusters_shuffled_per_superclass_text['cleaned_headline']\n",
    "\n",
    "# TRAIN LABELS\n",
    "YB_train = rand_shuffled_text['class']\n",
    "Y1_train = ordered_super_alpha_text['class']\n",
    "Y2_train = ordered_class_alpha_text['class']\n",
    "Y3_train = ordered_sem_clusters_desc_text['class']\n",
    "Y4_train = ordered_sem_clusters_asc_text['class']\n",
    "Y5_train = ordered_sem_clusters_shuffled_per_superclass_text['class']\n",
    "\n",
    "# TEST EXAMPLES\n",
    "X_test = test_df['cleaned_headline']\n",
    "Y_test = test_df['class']"
   ]
  },
  {
   "cell_type": "markdown",
   "metadata": {},
   "source": [
    "## Tokenization and Vectorization"
   ]
  },
  {
   "cell_type": "markdown",
   "metadata": {},
   "source": [
    "\n",
    "### One-hot encoding and indexing of train and test data"
   ]
  },
  {
   "cell_type": "code",
   "execution_count": 9,
   "metadata": {},
   "outputs": [
    {
     "name": "stdout",
     "output_type": "stream",
     "text": [
      "shape of input data:  (41905,)\n",
      "shape of target variable:  (41905,)\n",
      "Length of word index: 77553\n"
     ]
    }
   ],
   "source": [
    "# TEST DATA\n",
    "\n",
    "# one hot encoding using keras tokenizer and pad sequencing\n",
    "encoder = LabelEncoder()\n",
    "Y_test = encoder.fit_transform(Y_test)\n",
    "print(\"shape of input data: \", X_test.shape)\n",
    "print(\"shape of target variable: \", Y_test.shape)\n",
    "\n",
    "tokenizer = Tokenizer(num_words=1000000, oov_token='<00V>') \n",
    "tokenizer.fit_on_texts(X_test) # build the word index\n",
    "# padding X_test text input data\n",
    "test_seq = tokenizer.texts_to_sequences(X_test) # converts strinfs into integer lists\n",
    "test_padseq = pad_sequences(test_seq, maxlen=20) # pads the integer lists to 2D integer tensor \n",
    "\n",
    "word_index = tokenizer.word_index\n",
    "max_words = 150000000  # total number of words to consider in embedding layer\n",
    "total_words = len(word_index)\n",
    "maxlen = 20 # max length of sequence \n",
    "Y_test = to_categorical(Y_test, num_classes=42)\n",
    "print(\"Length of word index:\", total_words)"
   ]
  },
  {
   "cell_type": "code",
   "execution_count": 10,
   "metadata": {},
   "outputs": [],
   "source": [
    "def plot_loss_accuracy(history):\n",
    "\n",
    "    # create object of arrays of accuracy and loss\n",
    "    acc = history.history['accuracy']\n",
    "    val_acc = history.history['val_accuracy']\n",
    "    loss = history.history['loss']\n",
    "    val_loss = history.history['val_loss']\n",
    "    \n",
    "    # number of epochs in our model\n",
    "    epochs = range(1 ,len(acc) + 1)\n",
    "    \n",
    "    # call matplolib figure object and plot loss and accuracy curves\n",
    "    plt.figure(figsize=(15,6))\n",
    "    \n",
    "    plt.subplot(121)\n",
    "    plt.plot(epochs, acc, 'bo', label='Training acc')\n",
    "    plt.plot(epochs, val_acc, 'b', label='Validation acc')\n",
    "    plt.title(\"Training and validation accuracy\", fontsize=15)\n",
    "    plt.xlabel('epochs', fontsize=14)\n",
    "    plt.ylabel(\"accuracy\", fontsize=14)\n",
    "    plt.legend()\n",
    "    \n",
    "    plt.subplot(122)\n",
    "    plt.plot(epochs, loss, 'bo', label='Training loss')\n",
    "    plt.plot(epochs, val_loss, 'b', label='Validation loss')\n",
    "    plt.title(\"Training and validation loss\", fontsize=15)\n",
    "    plt.xlabel('epochs', fontsize=14)\n",
    "    plt.ylabel(\"loss\", fontsize=14)\n",
    "    plt.legend()\n",
    "    \n",
    "    plt.show()"
   ]
  },
  {
   "cell_type": "markdown",
   "metadata": {},
   "source": [
    "# BASELINE ORDER - RAND SHUFFLED"
   ]
  },
  {
   "cell_type": "code",
   "execution_count": 11,
   "metadata": {},
   "outputs": [
    {
     "name": "stdout",
     "output_type": "stream",
     "text": [
      "shape of input data:  (167616,)\n",
      "shape of target variable:  (167616,)\n",
      "Length of word index: 217923\n"
     ]
    }
   ],
   "source": [
    "# BASELINE TRAIN DATA\n",
    "X_train = XB_train\n",
    "Y_train = YB_train\n",
    "\n",
    "# one hot encoding using keras tokenizer and pad sequencing\n",
    "encoder = LabelEncoder()\n",
    "Y_train = encoder.fit_transform(Y_train)\n",
    "print(\"shape of input data: \", X_train.shape)\n",
    "print(\"shape of target variable: \", Y_train.shape)\n",
    "\n",
    "tokenizer = Tokenizer(num_words=1000000, oov_token='<00V>') \n",
    "tokenizer.fit_on_texts(X_train) # build the word index\n",
    "# padding X_train text input data\n",
    "train_seq = tokenizer.texts_to_sequences(X_train) # converts strinfs into integer lists\n",
    "train_padseq = pad_sequences(train_seq, maxlen=20) # pads the integer lists to 2D integer tensor \n",
    "\n",
    "word_index = tokenizer.word_index\n",
    "max_words = 15000000  # total number of words to consider in embedding layer\n",
    "total_words = len(word_index) + 1000\n",
    "maxlen = 20 # max length of sequence \n",
    "Y_train = to_categorical(Y_train, num_classes=42)\n",
    "print(\"Length of word index:\", total_words)"
   ]
  },
  {
   "attachments": {},
   "cell_type": "markdown",
   "metadata": {},
   "source": [
    "### Model 2, training using Conv1D, Bi-directional RNN, LSTMs and GRU layer"
   ]
  },
  {
   "cell_type": "code",
   "execution_count": 12,
   "metadata": {},
   "outputs": [
    {
     "name": "stdout",
     "output_type": "stream",
     "text": [
      "Model: \"sequential\"\n",
      "_________________________________________________________________\n",
      " Layer (type)                Output Shape              Param #   \n",
      "=================================================================\n",
      " embedding (Embedding)       (None, 20, 100)           21792300  \n",
      "                                                                 \n",
      " bidirectional (Bidirectiona  (None, 20, 128)          84480     \n",
      " l)                                                              \n",
      "                                                                 \n",
      " bidirectional_1 (Bidirectio  (None, 20, 128)          98816     \n",
      " nal)                                                            \n",
      "                                                                 \n",
      " bidirectional_2 (Bidirectio  (None, 20, 128)          24704     \n",
      " nal)                                                            \n",
      "                                                                 \n",
      " conv1d (Conv1D)             (None, 18, 72)            27720     \n",
      "                                                                 \n",
      " max_pooling1d (MaxPooling1D  (None, 9, 72)            0         \n",
      " )                                                               \n",
      "                                                                 \n",
      " simple_rnn_1 (SimpleRNN)    (None, 9, 64)             8768      \n",
      "                                                                 \n",
      " gru (GRU)                   (None, 64)                24960     \n",
      "                                                                 \n",
      " dropout (Dropout)           (None, 64)                0         \n",
      "                                                                 \n",
      " dense (Dense)               (None, 42)                2730      \n",
      "                                                                 \n",
      "=================================================================\n",
      "Total params: 22,064,478\n",
      "Trainable params: 22,064,478\n",
      "Non-trainable params: 0\n",
      "_________________________________________________________________\n"
     ]
    }
   ],
   "source": [
    "model2B = Sequential()\n",
    "model2B.add(Embedding(total_words, 100, input_length=maxlen))\n",
    "model2B.add(Bidirectional(LSTM(64, dropout=0.1, recurrent_dropout=0.10, activation='tanh', return_sequences=True)))\n",
    "model2B.add(Bidirectional(LSTM(64, dropout=0.2, recurrent_dropout=0.20, activation='tanh', return_sequences=True)))\n",
    "model2B.add(Bidirectional(SimpleRNN(64, dropout=0.2, recurrent_dropout=0.20, activation='tanh', return_sequences=True)))\n",
    "model2B.add(Conv1D(72, 3, activation='relu'))\n",
    "model2B.add(MaxPooling1D(2))\n",
    "model2B.add(SimpleRNN(64, activation='tanh', dropout=0.2, recurrent_dropout=0.20, return_sequences=True))\n",
    "model2B.add(GRU(64, recurrent_dropout=0.20, recurrent_regularizer='l1_l2'))\n",
    "model2B.add(Dropout(0.2))\n",
    "model2B.add(Dense(42, activation='softmax'))\n",
    "model2B.summary()"
   ]
  },
  {
   "cell_type": "code",
   "execution_count": 13,
   "metadata": {},
   "outputs": [
    {
     "name": "stdout",
     "output_type": "stream",
     "text": [
      "Epoch 1/15\n",
      "1048/1048 [==============================] - 404s 356ms/step - loss: 2.9606 - accuracy: 0.3330 - val_loss: 2.2560 - val_accuracy: 0.4388\n",
      "Epoch 2/15\n",
      "1048/1048 [==============================] - 386s 368ms/step - loss: 2.0538 - accuracy: 0.4880 - val_loss: 1.9629 - val_accuracy: 0.5094\n",
      "Epoch 3/15\n",
      "1048/1048 [==============================] - 336s 321ms/step - loss: 1.7717 - accuracy: 0.5529 - val_loss: 1.9196 - val_accuracy: 0.5203\n",
      "Epoch 4/15\n",
      "1048/1048 [==============================] - 337s 322ms/step - loss: 1.5791 - accuracy: 0.5984 - val_loss: 1.8993 - val_accuracy: 0.5317\n",
      "Epoch 5/15\n",
      "1048/1048 [==============================] - 388s 370ms/step - loss: 1.4176 - accuracy: 0.6392 - val_loss: 1.9058 - val_accuracy: 0.5328\n",
      "Epoch 6/15\n",
      "1048/1048 [==============================] - 387s 369ms/step - loss: 1.2712 - accuracy: 0.6777 - val_loss: 1.9255 - val_accuracy: 0.5342\n",
      "Epoch 7/15\n",
      "1048/1048 [==============================] - 381s 363ms/step - loss: 1.1238 - accuracy: 0.7168 - val_loss: 1.9903 - val_accuracy: 0.5240\n",
      "Epoch 8/15\n",
      " 733/1048 [===================>..........] - ETA: 1:46 - loss: 0.9710 - accuracy: 0.7590"
     ]
    }
   ],
   "source": [
    "model2B.compile(optimizer='rmsprop',\n",
    "            loss='categorical_crossentropy',\n",
    "            metrics=['accuracy']\n",
    "            )\n",
    "#SETUP A EARLY STOPPING CALL and model check point API\n",
    "earlystopping = keras.callbacks.EarlyStopping(monitor='accuracy',\n",
    "                                             patience=5,\n",
    "                                              verbose=1,\n",
    "                                              mode='min'\n",
    "                                             )\n",
    "checkpointer = ModelCheckpoint(filepath='bestvalue',moniter='val_loss', verbose=0, save_best_only=True)\n",
    "callback_list = [checkpointer, earlystopping]\n",
    "callback_list = [earlystopping]\n",
    "\n",
    "# fit model to the data\n",
    "history2B = model2B.fit(train_padseq, Y_train, \n",
    "                   batch_size=128, \n",
    "                    epochs=15,\n",
    "                    validation_split=0.2\n",
    "                   )"
   ]
  },
  {
   "cell_type": "code",
   "execution_count": null,
   "metadata": {},
   "outputs": [],
   "source": [
    "# evalute the model\n",
    "test_loss, test_acc = model2B.evaluate(test_padseq, Y_test, verbose=0)\n",
    "print(\"Test loss and accuracy:\", test_loss, test_acc)\n",
    "\n",
    "plot_loss_accuracy(history2B)\n",
    "\n",
    "Y_pred = model2B.predict(test_padseq)\n",
    "Y_pred = np.argmax(Y_pred,axis=1)\n",
    "Y_test = np.argmax(Y_test,axis=1)\n",
    "print(Y_test.shape, Y_pred.shape)\n",
    "print(Y_test[:5], Y_pred[:5])\n",
    "\n",
    "print(classification_report(Y_test, Y_pred))\n",
    "\n",
    "plt.figure(figsize=(10, 10))\n",
    "sns.heatmap(confusion_matrix(Y_test, Y_pred), annot=True);\n",
    "plt.title('Confusion Matrix', fontsize=20);"
   ]
  },
  {
   "attachments": {},
   "cell_type": "markdown",
   "metadata": {},
   "source": [
    "Stopped: \n",
    "\n",
    "Best training accuracy:\n",
    "\n",
    "Best validation accuracy: \n",
    "\n",
    "Test accuracy:\n",
    "\n",
    "Training time:"
   ]
  },
  {
   "cell_type": "markdown",
   "metadata": {},
   "source": [
    "# EXPERIMENT ORDER 1"
   ]
  },
  {
   "cell_type": "code",
   "execution_count": 6,
   "metadata": {},
   "outputs": [
    {
     "name": "stdout",
     "output_type": "stream",
     "text": [
      "shape of input data:  (167616,)\n",
      "shape of target variable:  (167616,)\n",
      "Length of word index: 53645\n"
     ]
    }
   ],
   "source": [
    "# ORDER 1 TRAIN DATA\n",
    "X_train = X1_train\n",
    "Y_train = Y1_train\n",
    "\n",
    "# one hot encoding using keras tokenizer and pad sequencing\n",
    "encoder = LabelEncoder()\n",
    "Y_train = encoder.fit_transform(Y_train)\n",
    "print(\"shape of input data: \", X_train.shape)\n",
    "print(\"shape of target variable: \", Y_train.shape)\n",
    "\n",
    "tokenizer = Tokenizer(num_words=1000000, oov_token='<00V>') \n",
    "tokenizer.fit_on_texts(X_train) # build the word index\n",
    "# padding X_train text input data\n",
    "train_seq = tokenizer.texts_to_sequences(X_train) # converts strinfs into integer lists\n",
    "train_padseq = pad_sequences(train_seq, maxlen=20) # pads the integer lists to 2D integer tensor \n",
    "\n",
    "word_index = tokenizer.word_index\n",
    "max_words = 15000000  # total number of words to consider in embedding layer\n",
    "total_words = len(word_index) + 1000\n",
    "maxlen = 20 # max length of sequence \n",
    "Y_train = to_categorical(Y_train, num_classes=42)\n",
    "print(\"Length of word index:\", total_words)"
   ]
  },
  {
   "cell_type": "markdown",
   "metadata": {},
   "source": [
    "### Model 2, training using Conv1D, Bi-directional RNN, LSTMs and GRU layer"
   ]
  },
  {
   "cell_type": "code",
   "execution_count": 7,
   "metadata": {},
   "outputs": [
    {
     "name": "stdout",
     "output_type": "stream",
     "text": [
      "Model: \"sequential\"\n",
      "_________________________________________________________________\n",
      " Layer (type)                Output Shape              Param #   \n",
      "=================================================================\n",
      " embedding (Embedding)       (None, 20, 100)           5364500   \n",
      "                                                                 \n",
      " bidirectional (Bidirectiona  (None, 20, 128)          84480     \n",
      " l)                                                              \n",
      "                                                                 \n",
      " bidirectional_1 (Bidirectio  (None, 20, 128)          98816     \n",
      " nal)                                                            \n",
      "                                                                 \n",
      " bidirectional_2 (Bidirectio  (None, 20, 128)          24704     \n",
      " nal)                                                            \n",
      "                                                                 \n",
      " conv1d (Conv1D)             (None, 18, 72)            27720     \n",
      "                                                                 \n",
      " max_pooling1d (MaxPooling1D  (None, 9, 72)            0         \n",
      " )                                                               \n",
      "                                                                 \n",
      " simple_rnn_1 (SimpleRNN)    (None, 9, 64)             8768      \n",
      "                                                                 \n",
      " gru (GRU)                   (None, 64)                24960     \n",
      "                                                                 \n",
      " dropout (Dropout)           (None, 64)                0         \n",
      "                                                                 \n",
      " dense (Dense)               (None, 9)                 585       \n",
      "                                                                 \n",
      "=================================================================\n",
      "Total params: 5,634,533\n",
      "Trainable params: 5,634,533\n",
      "Non-trainable params: 0\n",
      "_________________________________________________________________\n"
     ]
    }
   ],
   "source": [
    "model1 = Sequential()\n",
    "model1.add(Embedding(total_words, 100, input_length=maxlen))\n",
    "model1.add(Bidirectional(LSTM(64, dropout=0.1, recurrent_dropout=0.10, activation='tanh', return_sequences=True)))\n",
    "model1.add(Bidirectional(LSTM(64, dropout=0.2, recurrent_dropout=0.20, activation='tanh', return_sequences=True)))\n",
    "model1.add(Bidirectional(SimpleRNN(64, dropout=0.2, recurrent_dropout=0.20, activation='tanh', return_sequences=True)))\n",
    "model1.add(Conv1D(72, 3, activation='relu'))\n",
    "model1.add(MaxPooling1D(2))\n",
    "model1.add(SimpleRNN(64, activation='tanh', dropout=0.2, recurrent_dropout=0.20, return_sequences=True))\n",
    "model1.add(GRU(64, recurrent_dropout=0.20, recurrent_regularizer='l1_l2'))\n",
    "model1.add(Dropout(0.2))\n",
    "model1.add(Dense(42, activation='softmax'))\n",
    "model1.summary()"
   ]
  },
  {
   "cell_type": "code",
   "execution_count": 8,
   "metadata": {},
   "outputs": [
    {
     "name": "stdout",
     "output_type": "stream",
     "text": [
      "Epoch 1/15\n",
      "1310/1310 [==============================] - 384s 263ms/step - loss: 1.6671 - accuracy: 0.5452\n",
      "Epoch 2/15\n",
      "1310/1310 [==============================] - 309s 236ms/step - loss: 1.1044 - accuracy: 0.6694\n",
      "Epoch 3/15\n",
      "1310/1310 [==============================] - 310s 236ms/step - loss: 1.0005 - accuracy: 0.7041\n",
      "Epoch 4/15\n",
      "1310/1310 [==============================] - 301s 230ms/step - loss: 0.9293 - accuracy: 0.7279\n",
      "Epoch 5/15\n",
      "1310/1310 [==============================] - 303s 231ms/step - loss: 0.8714 - accuracy: 0.7470\n",
      "Epoch 6/15\n",
      "1310/1310 [==============================] - 317s 242ms/step - loss: 0.8183 - accuracy: 0.7638\n",
      "Epoch 7/15\n",
      "1310/1310 [==============================] - 331s 253ms/step - loss: 0.7736 - accuracy: 0.7801\n",
      "Epoch 8/15\n",
      "1310/1310 [==============================] - 350s 267ms/step - loss: 0.7349 - accuracy: 0.7930\n",
      "Epoch 9/15\n",
      "1310/1310 [==============================] - 346s 264ms/step - loss: 0.7009 - accuracy: 0.8040\n",
      "Epoch 10/15\n",
      "1310/1310 [==============================] - 344s 263ms/step - loss: 0.6727 - accuracy: 0.8138\n",
      "Epoch 11/15\n",
      "1310/1310 [==============================] - 352s 269ms/step - loss: 0.6484 - accuracy: 0.8220\n",
      "Epoch 12/15\n",
      "1310/1310 [==============================] - 349s 266ms/step - loss: 0.6258 - accuracy: 0.8281\n",
      "Epoch 13/15\n",
      "1310/1310 [==============================] - 346s 264ms/step - loss: 0.6060 - accuracy: 0.8351\n",
      "Epoch 14/15\n",
      "1310/1310 [==============================] - 352s 269ms/step - loss: 0.5909 - accuracy: 0.8403\n",
      "Epoch 15/15\n",
      "1310/1310 [==============================] - 345s 263ms/step - loss: 0.5737 - accuracy: 0.8458\n",
      "test loss and accuracy: 3.310349702835083 0.20186135172843933\n"
     ]
    }
   ],
   "source": [
    "model1.compile(optimizer='rmsprop',\n",
    "            loss='categorical_crossentropy',\n",
    "            metrics=['accuracy']\n",
    "            )\n",
    "#SETUP A EARLY STOPPING CALL and model check point API\n",
    "earlystopping = keras.callbacks.EarlyStopping(monitor='accuracy',\n",
    "                                             patience=5,\n",
    "                                              verbose=1,\n",
    "                                              mode='min'\n",
    "                                             )\n",
    "checkpointer = ModelCheckpoint(filepath='bestvalue',moniter='val_loss', verbose=0, save_best_only=True)\n",
    "callback_list = [checkpointer, earlystopping]\n",
    "callback_list = [earlystopping]\n",
    "\n",
    "# fit model to the data\n",
    "history1 = model1.fit(train_padseq, Y_train, \n",
    "                   batch_size=128, \n",
    "                    epochs=15,\n",
    "                    validation_split=0.2\n",
    "                   )"
   ]
  },
  {
   "cell_type": "code",
   "execution_count": 10,
   "metadata": {},
   "outputs": [
    {
     "data": {
      "image/png": "[encoded data removed]",
      "image/svg+xml": "<?xml version=\"1.0\" encoding=\"utf-8\" standalone=\"no\"?>\n<!DOCTYPE svg PUBLIC \"-//W3C//DTD SVG 1.1//EN\"\n  \"http://www.w3.org/Graphics/SVG/1.1/DTD/svg11.dtd\">\n<svg xmlns:xlink=\"http://www.w3.org/1999/xlink\" width=\"1072.8pt\" height=\"424.8pt\" viewBox=\"0 0 1072.8 424.8\" xmlns=\"http://www.w3.org/2000/svg\" version=\"1.1\">\n <metadata>\n  <rdf:RDF xmlns:dc=\"http://purl.org/dc/elements/1.1/\" xmlns:cc=\"http://creativecommons.org/ns#\" xmlns:rdf=\"http://www.w3.org/1999/02/22-rdf-syntax-ns#\">\n   <cc:Work>\n    <dc:type rdf:resource=\"http://purl.org/dc/dcmitype/StillImage\"/>\n    <dc:date>2023-04-16T18:34:53.009981</dc:date>\n    <dc:format>image/svg+xml</dc:format>\n    <dc:creator>\n     <cc:Agent>\n      <dc:title>Matplotlib v3.5.1, https://matplotlib.org/</dc:title>\n     </cc:Agent>\n    </dc:creator>\n   </cc:Work>\n  </rdf:RDF>\n </metadata>\n <defs>\n  <style type=\"text/css\">*{stroke-linejoin: round; stroke-linecap: butt}</style>\n </defs>\n <g id=\"figure_1\">\n  <g id=\"patch_1\">\n   <path d=\"M 0 424.8 \nL 1072.8 424.8 \nL 1072.8 0 \nL 0 0 \nz\n\" style=\"fill: #ffffff\"/>\n  </g>\n  <g id=\"axes_1\">\n   <g id=\"patch_2\">\n    <path d=\"M 54.015 383.3725 \nL 534.18125 383.3725 \nL 534.18125 28.597656 \nL 54.015 28.597656 \nz\n\" style=\"fill: #e5e5e5\"/>\n   </g>\n   <g id=\"matplotlib.axis_1\">\n    <g id=\"xtick_1\">\n     <g id=\"line2d_1\">\n      <path d=\"M 107.020365 383.3725 \nL 107.020365 28.597656 \n\" clip-path=\"url(#p744353df86)\" style=\"fill: none; stroke: #ffffff; stroke-width: 0.8; stroke-linecap: square\"/>\n     </g>\n     <g id=\"line2d_2\">\n      <defs>\n       <path id=\"m7b38018373\" d=\"M 0 0 \nL 0 3.5 \n\" style=\"stroke: #555555; stroke-width: 0.8\"/>\n      </defs>\n      <g>\n       <use xlink:href=\"#m7b38018373\" x=\"107.020365\" y=\"383.3725\" style=\"fill: #555555; stroke: #555555; stroke-width: 0.8\"/>\n      </g>\n     </g>\n     <g id=\"text_1\">\n      <!-- 2 -->\n      <g style=\"fill: #555555\" transform=\"translate(103.839115 397.970937)scale(0.1 -0.1)\">\n       <defs>\n        <path id=\"DejaVuSans-32\" d=\"M 1228 531 \nL 3431 531 \nL 3431 0 \nL 469 0 \nL 469 531 \nQ 828 903 1448 1529 \nQ 2069 2156 2228 2338 \nQ 2531 2678 2651 2914 \nQ 2772 3150 2772 3378 \nQ 2772 3750 2511 3984 \nQ 2250 4219 1831 4219 \nQ 1534 4219 1204 4116 \nQ 875 4013 500 3803 \nL 500 4441 \nQ 881 4594 1212 4672 \nQ 1544 4750 1819 4750 \nQ 2544 4750 2975 4387 \nQ 3406 4025 3406 3419 \nQ 3406 3131 3298 2873 \nQ 3191 2616 2906 2266 \nQ 2828 2175 2409 1742 \nQ 1991 1309 1228 531 \nz\n\" transform=\"scale(0.015625)\"/>\n       </defs>\n       <use xlink:href=\"#DejaVuSans-32\"/>\n      </g>\n     </g>\n    </g>\n    <g id=\"xtick_2\">\n     <g id=\"line2d_3\">\n      <path d=\"M 169.379619 383.3725 \nL 169.379619 28.597656 \n\" clip-path=\"url(#p744353df86)\" style=\"fill: none; stroke: #ffffff; stroke-width: 0.8; stroke-linecap: square\"/>\n     </g>\n     <g id=\"line2d_4\">\n      <g>\n       <use xlink:href=\"#m7b38018373\" x=\"169.379619\" y=\"383.3725\" style=\"fill: #555555; stroke: #555555; stroke-width: 0.8\"/>\n      </g>\n     </g>\n     <g id=\"text_2\">\n      <!-- 4 -->\n      <g style=\"fill: #555555\" transform=\"translate(166.198369 397.970937)scale(0.1 -0.1)\">\n       <defs>\n        <path id=\"DejaVuSans-34\" d=\"M 2419 4116 \nL 825 1625 \nL 2419 1625 \nL 2419 4116 \nz\nM 2253 4666 \nL 3047 4666 \nL 3047 1625 \nL 3713 1625 \nL 3713 1100 \nL 3047 1100 \nL 3047 0 \nL 2419 0 \nL 2419 1100 \nL 313 1100 \nL 313 1709 \nL 2253 4666 \nz\n\" transform=\"scale(0.015625)\"/>\n       </defs>\n       <use xlink:href=\"#DejaVuSans-34\"/>\n      </g>\n     </g>\n    </g>\n    <g id=\"xtick_3\">\n     <g id=\"line2d_5\">\n      <path d=\"M 231.738872 383.3725 \nL 231.738872 28.597656 \n\" clip-path=\"url(#p744353df86)\" style=\"fill: none; stroke: #ffffff; stroke-width: 0.8; stroke-linecap: square\"/>\n     </g>\n     <g id=\"line2d_6\">\n      <g>\n       <use xlink:href=\"#m7b38018373\" x=\"231.738872\" y=\"383.3725\" style=\"fill: #555555; stroke: #555555; stroke-width: 0.8\"/>\n      </g>\n     </g>\n     <g id=\"text_3\">\n      <!-- 6 -->\n      <g style=\"fill: #555555\" transform=\"translate(228.557622 397.970937)scale(0.1 -0.1)\">\n       <defs>\n        <path id=\"DejaVuSans-36\" d=\"M 2113 2584 \nQ 1688 2584 1439 2293 \nQ 1191 2003 1191 1497 \nQ 1191 994 1439 701 \nQ 1688 409 2113 409 \nQ 2538 409 2786 701 \nQ 3034 994 3034 1497 \nQ 3034 2003 2786 2293 \nQ 2538 2584 2113 2584 \nz\nM 3366 4563 \nL 3366 3988 \nQ 3128 4100 2886 4159 \nQ 2644 4219 2406 4219 \nQ 1781 4219 1451 3797 \nQ 1122 3375 1075 2522 \nQ 1259 2794 1537 2939 \nQ 1816 3084 2150 3084 \nQ 2853 3084 3261 2657 \nQ 3669 2231 3669 1497 \nQ 3669 778 3244 343 \nQ 2819 -91 2113 -91 \nQ 1303 -91 875 529 \nQ 447 1150 447 2328 \nQ 447 3434 972 4092 \nQ 1497 4750 2381 4750 \nQ 2619 4750 2861 4703 \nQ 3103 4656 3366 4563 \nz\n\" transform=\"scale(0.015625)\"/>\n       </defs>\n       <use xlink:href=\"#DejaVuSans-36\"/>\n      </g>\n     </g>\n    </g>\n    <g id=\"xtick_4\">\n     <g id=\"line2d_7\">\n      <path d=\"M 294.098125 383.3725 \nL 294.098125 28.597656 \n\" clip-path=\"url(#p744353df86)\" style=\"fill: none; stroke: #ffffff; stroke-width: 0.8; stroke-linecap: square\"/>\n     </g>\n     <g id=\"line2d_8\">\n      <g>\n       <use xlink:href=\"#m7b38018373\" x=\"294.098125\" y=\"383.3725\" style=\"fill: #555555; stroke: #555555; stroke-width: 0.8\"/>\n      </g>\n     </g>\n     <g id=\"text_4\">\n      <!-- 8 -->\n      <g style=\"fill: #555555\" transform=\"translate(290.916875 397.970937)scale(0.1 -0.1)\">\n       <defs>\n        <path id=\"DejaVuSans-38\" d=\"M 2034 2216 \nQ 1584 2216 1326 1975 \nQ 1069 1734 1069 1313 \nQ 1069 891 1326 650 \nQ 1584 409 2034 409 \nQ 2484 409 2743 651 \nQ 3003 894 3003 1313 \nQ 3003 1734 2745 1975 \nQ 2488 2216 2034 2216 \nz\nM 1403 2484 \nQ 997 2584 770 2862 \nQ 544 3141 544 3541 \nQ 544 4100 942 4425 \nQ 1341 4750 2034 4750 \nQ 2731 4750 3128 4425 \nQ 3525 4100 3525 3541 \nQ 3525 3141 3298 2862 \nQ 3072 2584 2669 2484 \nQ 3125 2378 3379 2068 \nQ 3634 1759 3634 1313 \nQ 3634 634 3220 271 \nQ 2806 -91 2034 -91 \nQ 1263 -91 848 271 \nQ 434 634 434 1313 \nQ 434 1759 690 2068 \nQ 947 2378 1403 2484 \nz\nM 1172 3481 \nQ 1172 3119 1398 2916 \nQ 1625 2713 2034 2713 \nQ 2441 2713 2670 2916 \nQ 2900 3119 2900 3481 \nQ 2900 3844 2670 4047 \nQ 2441 4250 2034 4250 \nQ 1625 4250 1398 4047 \nQ 1172 3844 1172 3481 \nz\n\" transform=\"scale(0.015625)\"/>\n       </defs>\n       <use xlink:href=\"#DejaVuSans-38\"/>\n      </g>\n     </g>\n    </g>\n    <g id=\"xtick_5\">\n     <g id=\"line2d_9\">\n      <path d=\"M 356.457378 383.3725 \nL 356.457378 28.597656 \n\" clip-path=\"url(#p744353df86)\" style=\"fill: none; stroke: #ffffff; stroke-width: 0.8; stroke-linecap: square\"/>\n     </g>\n     <g id=\"line2d_10\">\n      <g>\n       <use xlink:href=\"#m7b38018373\" x=\"356.457378\" y=\"383.3725\" style=\"fill: #555555; stroke: #555555; stroke-width: 0.8\"/>\n      </g>\n     </g>\n     <g id=\"text_5\">\n      <!-- 10 -->\n      <g style=\"fill: #555555\" transform=\"translate(350.094878 397.970937)scale(0.1 -0.1)\">\n       <defs>\n        <path id=\"DejaVuSans-31\" d=\"M 794 531 \nL 1825 531 \nL 1825 4091 \nL 703 3866 \nL 703 4441 \nL 1819 4666 \nL 2450 4666 \nL 2450 531 \nL 3481 531 \nL 3481 0 \nL 794 0 \nL 794 531 \nz\n\" transform=\"scale(0.015625)\"/>\n        <path id=\"DejaVuSans-30\" d=\"M 2034 4250 \nQ 1547 4250 1301 3770 \nQ 1056 3291 1056 2328 \nQ 1056 1369 1301 889 \nQ 1547 409 2034 409 \nQ 2525 409 2770 889 \nQ 3016 1369 3016 2328 \nQ 3016 3291 2770 3770 \nQ 2525 4250 2034 4250 \nz\nM 2034 4750 \nQ 2819 4750 3233 4129 \nQ 3647 3509 3647 2328 \nQ 3647 1150 3233 529 \nQ 2819 -91 2034 -91 \nQ 1250 -91 836 529 \nQ 422 1150 422 2328 \nQ 422 3509 836 4129 \nQ 1250 4750 2034 4750 \nz\n\" transform=\"scale(0.015625)\"/>\n       </defs>\n       <use xlink:href=\"#DejaVuSans-31\"/>\n       <use xlink:href=\"#DejaVuSans-30\" x=\"63.623047\"/>\n      </g>\n     </g>\n    </g>\n    <g id=\"xtick_6\">\n     <g id=\"line2d_11\">\n      <path d=\"M 418.816631 383.3725 \nL 418.816631 28.597656 \n\" clip-path=\"url(#p744353df86)\" style=\"fill: none; stroke: #ffffff; stroke-width: 0.8; stroke-linecap: square\"/>\n     </g>\n     <g id=\"line2d_12\">\n      <g>\n       <use xlink:href=\"#m7b38018373\" x=\"418.816631\" y=\"383.3725\" style=\"fill: #555555; stroke: #555555; stroke-width: 0.8\"/>\n      </g>\n     </g>\n     <g id=\"text_6\">\n      <!-- 12 -->\n      <g style=\"fill: #555555\" transform=\"translate(412.454131 397.970937)scale(0.1 -0.1)\">\n       <use xlink:href=\"#DejaVuSans-31\"/>\n       <use xlink:href=\"#DejaVuSans-32\" x=\"63.623047\"/>\n      </g>\n     </g>\n    </g>\n    <g id=\"xtick_7\">\n     <g id=\"line2d_13\">\n      <path d=\"M 481.175885 383.3725 \nL 481.175885 28.597656 \n\" clip-path=\"url(#p744353df86)\" style=\"fill: none; stroke: #ffffff; stroke-width: 0.8; stroke-linecap: square\"/>\n     </g>\n     <g id=\"line2d_14\">\n      <g>\n       <use xlink:href=\"#m7b38018373\" x=\"481.175885\" y=\"383.3725\" style=\"fill: #555555; stroke: #555555; stroke-width: 0.8\"/>\n      </g>\n     </g>\n     <g id=\"text_7\">\n      <!-- 14 -->\n      <g style=\"fill: #555555\" transform=\"translate(474.813385 397.970937)scale(0.1 -0.1)\">\n       <use xlink:href=\"#DejaVuSans-31\"/>\n       <use xlink:href=\"#DejaVuSans-34\" x=\"63.623047\"/>\n      </g>\n     </g>\n    </g>\n    <g id=\"text_8\">\n     <!-- epochs -->\n     <g style=\"fill: #555555\" transform=\"translate(266.231562 414.688437)scale(0.14 -0.14)\">\n      <defs>\n       <path id=\"DejaVuSans-Bold-65\" d=\"M 4031 1759 \nL 4031 1441 \nL 1416 1441 \nQ 1456 1047 1700 850 \nQ 1944 653 2381 653 \nQ 2734 653 3104 758 \nQ 3475 863 3866 1075 \nL 3866 213 \nQ 3469 63 3072 -14 \nQ 2675 -91 2278 -91 \nQ 1328 -91 801 392 \nQ 275 875 275 1747 \nQ 275 2603 792 3093 \nQ 1309 3584 2216 3584 \nQ 3041 3584 3536 3087 \nQ 4031 2591 4031 1759 \nz\nM 2881 2131 \nQ 2881 2450 2695 2645 \nQ 2509 2841 2209 2841 \nQ 1884 2841 1681 2658 \nQ 1478 2475 1428 2131 \nL 2881 2131 \nz\n\" transform=\"scale(0.015625)\"/>\n       <path id=\"DejaVuSans-Bold-70\" d=\"M 1656 506 \nL 1656 -1331 \nL 538 -1331 \nL 538 3500 \nL 1656 3500 \nL 1656 2988 \nQ 1888 3294 2169 3439 \nQ 2450 3584 2816 3584 \nQ 3463 3584 3878 3070 \nQ 4294 2556 4294 1747 \nQ 4294 938 3878 423 \nQ 3463 -91 2816 -91 \nQ 2450 -91 2169 54 \nQ 1888 200 1656 506 \nz\nM 2400 2772 \nQ 2041 2772 1848 2508 \nQ 1656 2244 1656 1747 \nQ 1656 1250 1848 986 \nQ 2041 722 2400 722 \nQ 2759 722 2948 984 \nQ 3138 1247 3138 1747 \nQ 3138 2247 2948 2509 \nQ 2759 2772 2400 2772 \nz\n\" transform=\"scale(0.015625)\"/>\n       <path id=\"DejaVuSans-Bold-6f\" d=\"M 2203 2784 \nQ 1831 2784 1636 2517 \nQ 1441 2250 1441 1747 \nQ 1441 1244 1636 976 \nQ 1831 709 2203 709 \nQ 2569 709 2762 976 \nQ 2956 1244 2956 1747 \nQ 2956 2250 2762 2517 \nQ 2569 2784 2203 2784 \nz\nM 2203 3584 \nQ 3106 3584 3614 3096 \nQ 4122 2609 4122 1747 \nQ 4122 884 3614 396 \nQ 3106 -91 2203 -91 \nQ 1297 -91 786 396 \nQ 275 884 275 1747 \nQ 275 2609 786 3096 \nQ 1297 3584 2203 3584 \nz\n\" transform=\"scale(0.015625)\"/>\n       <path id=\"DejaVuSans-Bold-63\" d=\"M 3366 3391 \nL 3366 2478 \nQ 3138 2634 2908 2709 \nQ 2678 2784 2431 2784 \nQ 1963 2784 1702 2511 \nQ 1441 2238 1441 1747 \nQ 1441 1256 1702 982 \nQ 1963 709 2431 709 \nQ 2694 709 2930 787 \nQ 3166 866 3366 1019 \nL 3366 103 \nQ 3103 6 2833 -42 \nQ 2563 -91 2291 -91 \nQ 1344 -91 809 395 \nQ 275 881 275 1747 \nQ 275 2613 809 3098 \nQ 1344 3584 2291 3584 \nQ 2566 3584 2833 3536 \nQ 3100 3488 3366 3391 \nz\n\" transform=\"scale(0.015625)\"/>\n       <path id=\"DejaVuSans-Bold-68\" d=\"M 4056 2131 \nL 4056 0 \nL 2931 0 \nL 2931 347 \nL 2931 1625 \nQ 2931 2084 2911 2256 \nQ 2891 2428 2841 2509 \nQ 2775 2619 2662 2680 \nQ 2550 2741 2406 2741 \nQ 2056 2741 1856 2470 \nQ 1656 2200 1656 1722 \nL 1656 0 \nL 538 0 \nL 538 4863 \nL 1656 4863 \nL 1656 2988 \nQ 1909 3294 2193 3439 \nQ 2478 3584 2822 3584 \nQ 3428 3584 3742 3212 \nQ 4056 2841 4056 2131 \nz\n\" transform=\"scale(0.015625)\"/>\n       <path id=\"DejaVuSans-Bold-73\" d=\"M 3272 3391 \nL 3272 2541 \nQ 2913 2691 2578 2766 \nQ 2244 2841 1947 2841 \nQ 1628 2841 1473 2761 \nQ 1319 2681 1319 2516 \nQ 1319 2381 1436 2309 \nQ 1553 2238 1856 2203 \nL 2053 2175 \nQ 2913 2066 3209 1816 \nQ 3506 1566 3506 1031 \nQ 3506 472 3093 190 \nQ 2681 -91 1863 -91 \nQ 1516 -91 1145 -36 \nQ 775 19 384 128 \nL 384 978 \nQ 719 816 1070 734 \nQ 1422 653 1784 653 \nQ 2113 653 2278 743 \nQ 2444 834 2444 1013 \nQ 2444 1163 2330 1236 \nQ 2216 1309 1875 1350 \nL 1678 1375 \nQ 931 1469 631 1722 \nQ 331 1975 331 2491 \nQ 331 3047 712 3315 \nQ 1094 3584 1881 3584 \nQ 2191 3584 2531 3537 \nQ 2872 3491 3272 3391 \nz\n\" transform=\"scale(0.015625)\"/>\n      </defs>\n      <use xlink:href=\"#DejaVuSans-Bold-65\"/>\n      <use xlink:href=\"#DejaVuSans-Bold-70\" x=\"67.822266\"/>\n      <use xlink:href=\"#DejaVuSans-Bold-6f\" x=\"139.404297\"/>\n      <use xlink:href=\"#DejaVuSans-Bold-63\" x=\"208.105469\"/>\n      <use xlink:href=\"#DejaVuSans-Bold-68\" x=\"267.382812\"/>\n      <use xlink:href=\"#DejaVuSans-Bold-73\" x=\"338.574219\"/>\n     </g>\n    </g>\n   </g>\n   <g id=\"matplotlib.axis_2\">\n    <g id=\"ytick_1\">\n     <g id=\"line2d_15\">\n      <path d=\"M 54.015 362.08915 \nL 534.18125 362.08915 \n\" clip-path=\"url(#p744353df86)\" style=\"fill: none; stroke: #ffffff; stroke-width: 0.8; stroke-linecap: square\"/>\n     </g>\n     <g id=\"line2d_16\">\n      <defs>\n       <path id=\"mfaa736683a\" d=\"M 0 0 \nL -3.5 0 \n\" style=\"stroke: #555555; stroke-width: 0.8\"/>\n      </defs>\n      <g>\n       <use xlink:href=\"#mfaa736683a\" x=\"54.015\" y=\"362.08915\" style=\"fill: #555555; stroke: #555555; stroke-width: 0.8\"/>\n      </g>\n     </g>\n     <g id=\"text_9\">\n      <!-- 0.55 -->\n      <g style=\"fill: #555555\" transform=\"translate(24.749375 365.888369)scale(0.1 -0.1)\">\n       <defs>\n        <path id=\"DejaVuSans-2e\" d=\"M 684 794 \nL 1344 794 \nL 1344 0 \nL 684 0 \nL 684 794 \nz\n\" transform=\"scale(0.015625)\"/>\n        <path id=\"DejaVuSans-35\" d=\"M 691 4666 \nL 3169 4666 \nL 3169 4134 \nL 1269 4134 \nL 1269 2991 \nQ 1406 3038 1543 3061 \nQ 1681 3084 1819 3084 \nQ 2600 3084 3056 2656 \nQ 3513 2228 3513 1497 \nQ 3513 744 3044 326 \nQ 2575 -91 1722 -91 \nQ 1428 -91 1123 -41 \nQ 819 9 494 109 \nL 494 744 \nQ 775 591 1075 516 \nQ 1375 441 1709 441 \nQ 2250 441 2565 725 \nQ 2881 1009 2881 1497 \nQ 2881 1984 2565 2268 \nQ 2250 2553 1709 2553 \nQ 1456 2553 1204 2497 \nQ 953 2441 691 2322 \nL 691 4666 \nz\n\" transform=\"scale(0.015625)\"/>\n       </defs>\n       <use xlink:href=\"#DejaVuSans-30\"/>\n       <use xlink:href=\"#DejaVuSans-2e\" x=\"63.623047\"/>\n       <use xlink:href=\"#DejaVuSans-35\" x=\"95.410156\"/>\n       <use xlink:href=\"#DejaVuSans-35\" x=\"159.033203\"/>\n      </g>\n     </g>\n    </g>\n    <g id=\"ytick_2\">\n     <g id=\"line2d_17\">\n      <path d=\"M 54.015 308.450803 \nL 534.18125 308.450803 \n\" clip-path=\"url(#p744353df86)\" style=\"fill: none; stroke: #ffffff; stroke-width: 0.8; stroke-linecap: square\"/>\n     </g>\n     <g id=\"line2d_18\">\n      <g>\n       <use xlink:href=\"#mfaa736683a\" x=\"54.015\" y=\"308.450803\" style=\"fill: #555555; stroke: #555555; stroke-width: 0.8\"/>\n      </g>\n     </g>\n     <g id=\"text_10\">\n      <!-- 0.60 -->\n      <g style=\"fill: #555555\" transform=\"translate(24.749375 312.250022)scale(0.1 -0.1)\">\n       <use xlink:href=\"#DejaVuSans-30\"/>\n       <use xlink:href=\"#DejaVuSans-2e\" x=\"63.623047\"/>\n       <use xlink:href=\"#DejaVuSans-36\" x=\"95.410156\"/>\n       <use xlink:href=\"#DejaVuSans-30\" x=\"159.033203\"/>\n      </g>\n     </g>\n    </g>\n    <g id=\"ytick_3\">\n     <g id=\"line2d_19\">\n      <path d=\"M 54.015 254.812456 \nL 534.18125 254.812456 \n\" clip-path=\"url(#p744353df86)\" style=\"fill: none; stroke: #ffffff; stroke-width: 0.8; stroke-linecap: square\"/>\n     </g>\n     <g id=\"line2d_20\">\n      <g>\n       <use xlink:href=\"#mfaa736683a\" x=\"54.015\" y=\"254.812456\" style=\"fill: #555555; stroke: #555555; stroke-width: 0.8\"/>\n      </g>\n     </g>\n     <g id=\"text_11\">\n      <!-- 0.65 -->\n      <g style=\"fill: #555555\" transform=\"translate(24.749375 258.611675)scale(0.1 -0.1)\">\n       <use xlink:href=\"#DejaVuSans-30\"/>\n       <use xlink:href=\"#DejaVuSans-2e\" x=\"63.623047\"/>\n       <use xlink:href=\"#DejaVuSans-36\" x=\"95.410156\"/>\n       <use xlink:href=\"#DejaVuSans-35\" x=\"159.033203\"/>\n      </g>\n     </g>\n    </g>\n    <g id=\"ytick_4\">\n     <g id=\"line2d_21\">\n      <path d=\"M 54.015 201.174109 \nL 534.18125 201.174109 \n\" clip-path=\"url(#p744353df86)\" style=\"fill: none; stroke: #ffffff; stroke-width: 0.8; stroke-linecap: square\"/>\n     </g>\n     <g id=\"line2d_22\">\n      <g>\n       <use xlink:href=\"#mfaa736683a\" x=\"54.015\" y=\"201.174109\" style=\"fill: #555555; stroke: #555555; stroke-width: 0.8\"/>\n      </g>\n     </g>\n     <g id=\"text_12\">\n      <!-- 0.70 -->\n      <g style=\"fill: #555555\" transform=\"translate(24.749375 204.973328)scale(0.1 -0.1)\">\n       <defs>\n        <path id=\"DejaVuSans-37\" d=\"M 525 4666 \nL 3525 4666 \nL 3525 4397 \nL 1831 0 \nL 1172 0 \nL 2766 4134 \nL 525 4134 \nL 525 4666 \nz\n\" transform=\"scale(0.015625)\"/>\n       </defs>\n       <use xlink:href=\"#DejaVuSans-30\"/>\n       <use xlink:href=\"#DejaVuSans-2e\" x=\"63.623047\"/>\n       <use xlink:href=\"#DejaVuSans-37\" x=\"95.410156\"/>\n       <use xlink:href=\"#DejaVuSans-30\" x=\"159.033203\"/>\n      </g>\n     </g>\n    </g>\n    <g id=\"ytick_5\">\n     <g id=\"line2d_23\">\n      <path d=\"M 54.015 147.535762 \nL 534.18125 147.535762 \n\" clip-path=\"url(#p744353df86)\" style=\"fill: none; stroke: #ffffff; stroke-width: 0.8; stroke-linecap: square\"/>\n     </g>\n     <g id=\"line2d_24\">\n      <g>\n       <use xlink:href=\"#mfaa736683a\" x=\"54.015\" y=\"147.535762\" style=\"fill: #555555; stroke: #555555; stroke-width: 0.8\"/>\n      </g>\n     </g>\n     <g id=\"text_13\">\n      <!-- 0.75 -->\n      <g style=\"fill: #555555\" transform=\"translate(24.749375 151.334981)scale(0.1 -0.1)\">\n       <use xlink:href=\"#DejaVuSans-30\"/>\n       <use xlink:href=\"#DejaVuSans-2e\" x=\"63.623047\"/>\n       <use xlink:href=\"#DejaVuSans-37\" x=\"95.410156\"/>\n       <use xlink:href=\"#DejaVuSans-35\" x=\"159.033203\"/>\n      </g>\n     </g>\n    </g>\n    <g id=\"ytick_6\">\n     <g id=\"line2d_25\">\n      <path d=\"M 54.015 93.897415 \nL 534.18125 93.897415 \n\" clip-path=\"url(#p744353df86)\" style=\"fill: none; stroke: #ffffff; stroke-width: 0.8; stroke-linecap: square\"/>\n     </g>\n     <g id=\"line2d_26\">\n      <g>\n       <use xlink:href=\"#mfaa736683a\" x=\"54.015\" y=\"93.897415\" style=\"fill: #555555; stroke: #555555; stroke-width: 0.8\"/>\n      </g>\n     </g>\n     <g id=\"text_14\">\n      <!-- 0.80 -->\n      <g style=\"fill: #555555\" transform=\"translate(24.749375 97.696634)scale(0.1 -0.1)\">\n       <use xlink:href=\"#DejaVuSans-30\"/>\n       <use xlink:href=\"#DejaVuSans-2e\" x=\"63.623047\"/>\n       <use xlink:href=\"#DejaVuSans-38\" x=\"95.410156\"/>\n       <use xlink:href=\"#DejaVuSans-30\" x=\"159.033203\"/>\n      </g>\n     </g>\n    </g>\n    <g id=\"ytick_7\">\n     <g id=\"line2d_27\">\n      <path d=\"M 54.015 40.259068 \nL 534.18125 40.259068 \n\" clip-path=\"url(#p744353df86)\" style=\"fill: none; stroke: #ffffff; stroke-width: 0.8; stroke-linecap: square\"/>\n     </g>\n     <g id=\"line2d_28\">\n      <g>\n       <use xlink:href=\"#mfaa736683a\" x=\"54.015\" y=\"40.259068\" style=\"fill: #555555; stroke: #555555; stroke-width: 0.8\"/>\n      </g>\n     </g>\n     <g id=\"text_15\">\n      <!-- 0.85 -->\n      <g style=\"fill: #555555\" transform=\"translate(24.749375 44.058287)scale(0.1 -0.1)\">\n       <use xlink:href=\"#DejaVuSans-30\"/>\n       <use xlink:href=\"#DejaVuSans-2e\" x=\"63.623047\"/>\n       <use xlink:href=\"#DejaVuSans-38\" x=\"95.410156\"/>\n       <use xlink:href=\"#DejaVuSans-35\" x=\"159.033203\"/>\n      </g>\n     </g>\n    </g>\n    <g id=\"text_16\">\n     <!-- accuracy -->\n     <g style=\"fill: #555555\" transform=\"translate(17.728437 240.880078)rotate(-90)scale(0.14 -0.14)\">\n      <defs>\n       <path id=\"DejaVuSans-Bold-61\" d=\"M 2106 1575 \nQ 1756 1575 1579 1456 \nQ 1403 1338 1403 1106 \nQ 1403 894 1545 773 \nQ 1688 653 1941 653 \nQ 2256 653 2472 879 \nQ 2688 1106 2688 1447 \nL 2688 1575 \nL 2106 1575 \nz\nM 3816 1997 \nL 3816 0 \nL 2688 0 \nL 2688 519 \nQ 2463 200 2181 54 \nQ 1900 -91 1497 -91 \nQ 953 -91 614 226 \nQ 275 544 275 1050 \nQ 275 1666 698 1953 \nQ 1122 2241 2028 2241 \nL 2688 2241 \nL 2688 2328 \nQ 2688 2594 2478 2717 \nQ 2269 2841 1825 2841 \nQ 1466 2841 1156 2769 \nQ 847 2697 581 2553 \nL 581 3406 \nQ 941 3494 1303 3539 \nQ 1666 3584 2028 3584 \nQ 2975 3584 3395 3211 \nQ 3816 2838 3816 1997 \nz\n\" transform=\"scale(0.015625)\"/>\n       <path id=\"DejaVuSans-Bold-75\" d=\"M 500 1363 \nL 500 3500 \nL 1625 3500 \nL 1625 3150 \nQ 1625 2866 1622 2436 \nQ 1619 2006 1619 1863 \nQ 1619 1441 1641 1255 \nQ 1663 1069 1716 984 \nQ 1784 875 1895 815 \nQ 2006 756 2150 756 \nQ 2500 756 2700 1025 \nQ 2900 1294 2900 1772 \nL 2900 3500 \nL 4019 3500 \nL 4019 0 \nL 2900 0 \nL 2900 506 \nQ 2647 200 2364 54 \nQ 2081 -91 1741 -91 \nQ 1134 -91 817 281 \nQ 500 653 500 1363 \nz\n\" transform=\"scale(0.015625)\"/>\n       <path id=\"DejaVuSans-Bold-72\" d=\"M 3138 2547 \nQ 2991 2616 2845 2648 \nQ 2700 2681 2553 2681 \nQ 2122 2681 1889 2404 \nQ 1656 2128 1656 1613 \nL 1656 0 \nL 538 0 \nL 538 3500 \nL 1656 3500 \nL 1656 2925 \nQ 1872 3269 2151 3426 \nQ 2431 3584 2822 3584 \nQ 2878 3584 2943 3579 \nQ 3009 3575 3134 3559 \nL 3138 2547 \nz\n\" transform=\"scale(0.015625)\"/>\n       <path id=\"DejaVuSans-Bold-79\" d=\"M 78 3500 \nL 1197 3500 \nL 2138 1125 \nL 2938 3500 \nL 4056 3500 \nL 2584 -331 \nQ 2363 -916 2067 -1148 \nQ 1772 -1381 1288 -1381 \nL 641 -1381 \nL 641 -647 \nL 991 -647 \nQ 1275 -647 1404 -556 \nQ 1534 -466 1606 -231 \nL 1638 -134 \nL 78 3500 \nz\n\" transform=\"scale(0.015625)\"/>\n      </defs>\n      <use xlink:href=\"#DejaVuSans-Bold-61\"/>\n      <use xlink:href=\"#DejaVuSans-Bold-63\" x=\"67.480469\"/>\n      <use xlink:href=\"#DejaVuSans-Bold-63\" x=\"126.757812\"/>\n      <use xlink:href=\"#DejaVuSans-Bold-75\" x=\"186.035156\"/>\n      <use xlink:href=\"#DejaVuSans-Bold-72\" x=\"257.226562\"/>\n      <use xlink:href=\"#DejaVuSans-Bold-61\" x=\"306.542969\"/>\n      <use xlink:href=\"#DejaVuSans-Bold-63\" x=\"374.023438\"/>\n      <use xlink:href=\"#DejaVuSans-Bold-79\" x=\"433.300781\"/>\n     </g>\n    </g>\n   </g>\n   <g id=\"line2d_29\">\n    <defs>\n     <path id=\"m0c3a7e5e67\" d=\"M 0 3 \nC 0.795609 3 1.55874 2.683901 2.12132 2.12132 \nC 2.683901 1.55874 3 0.795609 3 0 \nC 3 -0.795609 2.683901 -1.55874 2.12132 -2.12132 \nC 1.55874 -2.683901 0.795609 -3 0 -3 \nC -0.795609 -3 -1.55874 -2.683901 -2.12132 -2.12132 \nC -2.683901 -1.55874 -3 -0.795609 -3 0 \nC -3 0.795609 -2.683901 1.55874 -2.12132 2.12132 \nC -1.55874 2.683901 -0.795609 3 0 3 \nz\n\" style=\"stroke: #0000ff\"/>\n    </defs>\n    <g clip-path=\"url(#p744353df86)\">\n     <use xlink:href=\"#m0c3a7e5e67\" x=\"75.840739\" y=\"367.246371\" style=\"fill: #0000ff; stroke: #0000ff\"/>\n     <use xlink:href=\"#m0c3a7e5e67\" x=\"107.020365\" y=\"233.995368\" style=\"fill: #0000ff; stroke: #0000ff\"/>\n     <use xlink:href=\"#m0c3a7e5e67\" x=\"138.199992\" y=\"196.746466\" style=\"fill: #0000ff; stroke: #0000ff\"/>\n     <use xlink:href=\"#m0c3a7e5e67\" x=\"169.379619\" y=\"171.273934\" style=\"fill: #0000ff; stroke: #0000ff\"/>\n     <use xlink:href=\"#m0c3a7e5e67\" x=\"200.559245\" y=\"150.780622\" style=\"fill: #0000ff; stroke: #0000ff\"/>\n     <use xlink:href=\"#m0c3a7e5e67\" x=\"231.738872\" y=\"132.719403\" style=\"fill: #0000ff; stroke: #0000ff\"/>\n     <use xlink:href=\"#m0c3a7e5e67\" x=\"262.918498\" y=\"115.202202\" style=\"fill: #0000ff; stroke: #0000ff\"/>\n     <use xlink:href=\"#m0c3a7e5e67\" x=\"294.098125\" y=\"101.409936\" style=\"fill: #0000ff; stroke: #0000ff\"/>\n     <use xlink:href=\"#m0c3a7e5e67\" x=\"325.277752\" y=\"89.582412\" style=\"fill: #0000ff; stroke: #0000ff\"/>\n     <use xlink:href=\"#m0c3a7e5e67\" x=\"356.457378\" y=\"79.111799\" style=\"fill: #0000ff; stroke: #0000ff\"/>\n     <use xlink:href=\"#m0c3a7e5e67\" x=\"387.637005\" y=\"70.311604\" style=\"fill: #0000ff; stroke: #0000ff\"/>\n     <use xlink:href=\"#m0c3a7e5e67\" x=\"418.816631\" y=\"63.745028\" style=\"fill: #0000ff; stroke: #0000ff\"/>\n     <use xlink:href=\"#m0c3a7e5e67\" x=\"449.996258\" y=\"56.212097\" style=\"fill: #0000ff; stroke: #0000ff\"/>\n     <use xlink:href=\"#m0c3a7e5e67\" x=\"481.175885\" y=\"50.611939\" style=\"fill: #0000ff; stroke: #0000ff\"/>\n     <use xlink:href=\"#m0c3a7e5e67\" x=\"512.355511\" y=\"44.723786\" style=\"fill: #0000ff; stroke: #0000ff\"/>\n    </g>\n   </g>\n   <g id=\"patch_3\">\n    <path d=\"M 54.015 383.3725 \nL 54.015 28.597656 \n\" style=\"fill: none; stroke: #ffffff; stroke-linejoin: miter; stroke-linecap: square\"/>\n   </g>\n   <g id=\"patch_4\">\n    <path d=\"M 534.18125 383.3725 \nL 534.18125 28.597656 \n\" style=\"fill: none; stroke: #ffffff; stroke-linejoin: miter; stroke-linecap: square\"/>\n   </g>\n   <g id=\"patch_5\">\n    <path d=\"M 54.015 383.3725 \nL 534.18125 383.3725 \n\" style=\"fill: none; stroke: #ffffff; stroke-linejoin: miter; stroke-linecap: square\"/>\n   </g>\n   <g id=\"patch_6\">\n    <path d=\"M 54.015 28.597656 \nL 534.18125 28.597656 \n\" style=\"fill: none; stroke: #ffffff; stroke-linejoin: miter; stroke-linecap: square\"/>\n   </g>\n   <g id=\"text_17\">\n    <!-- Training accuracy -->\n    <g transform=\"translate(219.859844 18.597656)scale(0.15 -0.15)\">\n     <defs>\n      <path id=\"DejaVuSans-Bold-54\" d=\"M 31 4666 \nL 4331 4666 \nL 4331 3756 \nL 2784 3756 \nL 2784 0 \nL 1581 0 \nL 1581 3756 \nL 31 3756 \nL 31 4666 \nz\n\" transform=\"scale(0.015625)\"/>\n      <path id=\"DejaVuSans-Bold-69\" d=\"M 538 3500 \nL 1656 3500 \nL 1656 0 \nL 538 0 \nL 538 3500 \nz\nM 538 4863 \nL 1656 4863 \nL 1656 3950 \nL 538 3950 \nL 538 4863 \nz\n\" transform=\"scale(0.015625)\"/>\n      <path id=\"DejaVuSans-Bold-6e\" d=\"M 4056 2131 \nL 4056 0 \nL 2931 0 \nL 2931 347 \nL 2931 1631 \nQ 2931 2084 2911 2256 \nQ 2891 2428 2841 2509 \nQ 2775 2619 2662 2680 \nQ 2550 2741 2406 2741 \nQ 2056 2741 1856 2470 \nQ 1656 2200 1656 1722 \nL 1656 0 \nL 538 0 \nL 538 3500 \nL 1656 3500 \nL 1656 2988 \nQ 1909 3294 2193 3439 \nQ 2478 3584 2822 3584 \nQ 3428 3584 3742 3212 \nQ 4056 2841 4056 2131 \nz\n\" transform=\"scale(0.015625)\"/>\n      <path id=\"DejaVuSans-Bold-67\" d=\"M 2919 594 \nQ 2688 288 2409 144 \nQ 2131 0 1766 0 \nQ 1125 0 706 504 \nQ 288 1009 288 1791 \nQ 288 2575 706 3076 \nQ 1125 3578 1766 3578 \nQ 2131 3578 2409 3434 \nQ 2688 3291 2919 2981 \nL 2919 3500 \nL 4044 3500 \nL 4044 353 \nQ 4044 -491 3511 -936 \nQ 2978 -1381 1966 -1381 \nQ 1638 -1381 1331 -1331 \nQ 1025 -1281 716 -1178 \nL 716 -306 \nQ 1009 -475 1290 -558 \nQ 1572 -641 1856 -641 \nQ 2406 -641 2662 -400 \nQ 2919 -159 2919 353 \nL 2919 594 \nz\nM 2181 2772 \nQ 1834 2772 1640 2515 \nQ 1447 2259 1447 1791 \nQ 1447 1309 1634 1061 \nQ 1822 813 2181 813 \nQ 2531 813 2725 1069 \nQ 2919 1325 2919 1791 \nQ 2919 2259 2725 2515 \nQ 2531 2772 2181 2772 \nz\n\" transform=\"scale(0.015625)\"/>\n      <path id=\"DejaVuSans-Bold-20\" transform=\"scale(0.015625)\"/>\n     </defs>\n     <use xlink:href=\"#DejaVuSans-Bold-54\"/>\n     <use xlink:href=\"#DejaVuSans-Bold-72\" x=\"57.212891\"/>\n     <use xlink:href=\"#DejaVuSans-Bold-61\" x=\"106.529297\"/>\n     <use xlink:href=\"#DejaVuSans-Bold-69\" x=\"174.009766\"/>\n     <use xlink:href=\"#DejaVuSans-Bold-6e\" x=\"208.287109\"/>\n     <use xlink:href=\"#DejaVuSans-Bold-69\" x=\"279.478516\"/>\n     <use xlink:href=\"#DejaVuSans-Bold-6e\" x=\"313.755859\"/>\n     <use xlink:href=\"#DejaVuSans-Bold-67\" x=\"384.947266\"/>\n     <use xlink:href=\"#DejaVuSans-Bold-20\" x=\"456.529297\"/>\n     <use xlink:href=\"#DejaVuSans-Bold-61\" x=\"491.34375\"/>\n     <use xlink:href=\"#DejaVuSans-Bold-63\" x=\"558.824219\"/>\n     <use xlink:href=\"#DejaVuSans-Bold-63\" x=\"618.101562\"/>\n     <use xlink:href=\"#DejaVuSans-Bold-75\" x=\"677.378906\"/>\n     <use xlink:href=\"#DejaVuSans-Bold-72\" x=\"748.570312\"/>\n     <use xlink:href=\"#DejaVuSans-Bold-61\" x=\"797.886719\"/>\n     <use xlink:href=\"#DejaVuSans-Bold-63\" x=\"865.367188\"/>\n     <use xlink:href=\"#DejaVuSans-Bold-79\" x=\"924.644531\"/>\n    </g>\n   </g>\n   <g id=\"legend_1\">\n    <g id=\"patch_7\">\n     <path d=\"M 61.015 51.275781 \nL 152.769688 51.275781 \nQ 154.769688 51.275781 154.769688 49.275781 \nL 154.769688 35.597656 \nQ 154.769688 33.597656 152.769688 33.597656 \nL 61.015 33.597656 \nQ 59.015 33.597656 59.015 35.597656 \nL 59.015 49.275781 \nQ 59.015 51.275781 61.015 51.275781 \nz\n\" style=\"fill: #e5e5e5; opacity: 0.8; stroke: #cccccc; stroke-width: 0.5; stroke-linejoin: miter\"/>\n    </g>\n    <g id=\"line2d_30\">\n     <g>\n      <use xlink:href=\"#m0c3a7e5e67\" x=\"73.015\" y=\"41.696094\" style=\"fill: #0000ff; stroke: #0000ff\"/>\n     </g>\n    </g>\n    <g id=\"text_18\">\n     <!-- Training acc -->\n     <g transform=\"translate(91.015 45.196094)scale(0.1 -0.1)\">\n      <defs>\n       <path id=\"DejaVuSans-54\" d=\"M -19 4666 \nL 3928 4666 \nL 3928 4134 \nL 2272 4134 \nL 2272 0 \nL 1638 0 \nL 1638 4134 \nL -19 4134 \nL -19 4666 \nz\n\" transform=\"scale(0.015625)\"/>\n       <path id=\"DejaVuSans-72\" d=\"M 2631 2963 \nQ 2534 3019 2420 3045 \nQ 2306 3072 2169 3072 \nQ 1681 3072 1420 2755 \nQ 1159 2438 1159 1844 \nL 1159 0 \nL 581 0 \nL 581 3500 \nL 1159 3500 \nL 1159 2956 \nQ 1341 3275 1631 3429 \nQ 1922 3584 2338 3584 \nQ 2397 3584 2469 3576 \nQ 2541 3569 2628 3553 \nL 2631 2963 \nz\n\" transform=\"scale(0.015625)\"/>\n       <path id=\"DejaVuSans-61\" d=\"M 2194 1759 \nQ 1497 1759 1228 1600 \nQ 959 1441 959 1056 \nQ 959 750 1161 570 \nQ 1363 391 1709 391 \nQ 2188 391 2477 730 \nQ 2766 1069 2766 1631 \nL 2766 1759 \nL 2194 1759 \nz\nM 3341 1997 \nL 3341 0 \nL 2766 0 \nL 2766 531 \nQ 2569 213 2275 61 \nQ 1981 -91 1556 -91 \nQ 1019 -91 701 211 \nQ 384 513 384 1019 \nQ 384 1609 779 1909 \nQ 1175 2209 1959 2209 \nL 2766 2209 \nL 2766 2266 \nQ 2766 2663 2505 2880 \nQ 2244 3097 1772 3097 \nQ 1472 3097 1187 3025 \nQ 903 2953 641 2809 \nL 641 3341 \nQ 956 3463 1253 3523 \nQ 1550 3584 1831 3584 \nQ 2591 3584 2966 3190 \nQ 3341 2797 3341 1997 \nz\n\" transform=\"scale(0.015625)\"/>\n       <path id=\"DejaVuSans-69\" d=\"M 603 3500 \nL 1178 3500 \nL 1178 0 \nL 603 0 \nL 603 3500 \nz\nM 603 4863 \nL 1178 4863 \nL 1178 4134 \nL 603 4134 \nL 603 4863 \nz\n\" transform=\"scale(0.015625)\"/>\n       <path id=\"DejaVuSans-6e\" d=\"M 3513 2113 \nL 3513 0 \nL 2938 0 \nL 2938 2094 \nQ 2938 2591 2744 2837 \nQ 2550 3084 2163 3084 \nQ 1697 3084 1428 2787 \nQ 1159 2491 1159 1978 \nL 1159 0 \nL 581 0 \nL 581 3500 \nL 1159 3500 \nL 1159 2956 \nQ 1366 3272 1645 3428 \nQ 1925 3584 2291 3584 \nQ 2894 3584 3203 3211 \nQ 3513 2838 3513 2113 \nz\n\" transform=\"scale(0.015625)\"/>\n       <path id=\"DejaVuSans-67\" d=\"M 2906 1791 \nQ 2906 2416 2648 2759 \nQ 2391 3103 1925 3103 \nQ 1463 3103 1205 2759 \nQ 947 2416 947 1791 \nQ 947 1169 1205 825 \nQ 1463 481 1925 481 \nQ 2391 481 2648 825 \nQ 2906 1169 2906 1791 \nz\nM 3481 434 \nQ 3481 -459 3084 -895 \nQ 2688 -1331 1869 -1331 \nQ 1566 -1331 1297 -1286 \nQ 1028 -1241 775 -1147 \nL 775 -588 \nQ 1028 -725 1275 -790 \nQ 1522 -856 1778 -856 \nQ 2344 -856 2625 -561 \nQ 2906 -266 2906 331 \nL 2906 616 \nQ 2728 306 2450 153 \nQ 2172 0 1784 0 \nQ 1141 0 747 490 \nQ 353 981 353 1791 \nQ 353 2603 747 3093 \nQ 1141 3584 1784 3584 \nQ 2172 3584 2450 3431 \nQ 2728 3278 2906 2969 \nL 2906 3500 \nL 3481 3500 \nL 3481 434 \nz\n\" transform=\"scale(0.015625)\"/>\n       <path id=\"DejaVuSans-20\" transform=\"scale(0.015625)\"/>\n       <path id=\"DejaVuSans-63\" d=\"M 3122 3366 \nL 3122 2828 \nQ 2878 2963 2633 3030 \nQ 2388 3097 2138 3097 \nQ 1578 3097 1268 2742 \nQ 959 2388 959 1747 \nQ 959 1106 1268 751 \nQ 1578 397 2138 397 \nQ 2388 397 2633 464 \nQ 2878 531 3122 666 \nL 3122 134 \nQ 2881 22 2623 -34 \nQ 2366 -91 2075 -91 \nQ 1284 -91 818 406 \nQ 353 903 353 1747 \nQ 353 2603 823 3093 \nQ 1294 3584 2113 3584 \nQ 2378 3584 2631 3529 \nQ 2884 3475 3122 3366 \nz\n\" transform=\"scale(0.015625)\"/>\n      </defs>\n      <use xlink:href=\"#DejaVuSans-54\"/>\n      <use xlink:href=\"#DejaVuSans-72\" x=\"46.333984\"/>\n      <use xlink:href=\"#DejaVuSans-61\" x=\"87.447266\"/>\n      <use xlink:href=\"#DejaVuSans-69\" x=\"148.726562\"/>\n      <use xlink:href=\"#DejaVuSans-6e\" x=\"176.509766\"/>\n      <use xlink:href=\"#DejaVuSans-69\" x=\"239.888672\"/>\n      <use xlink:href=\"#DejaVuSans-6e\" x=\"267.671875\"/>\n      <use xlink:href=\"#DejaVuSans-67\" x=\"331.050781\"/>\n      <use xlink:href=\"#DejaVuSans-20\" x=\"394.527344\"/>\n      <use xlink:href=\"#DejaVuSans-61\" x=\"426.314453\"/>\n      <use xlink:href=\"#DejaVuSans-63\" x=\"487.59375\"/>\n      <use xlink:href=\"#DejaVuSans-63\" x=\"542.574219\"/>\n     </g>\n    </g>\n   </g>\n  </g>\n  <g id=\"axes_2\">\n   <g id=\"patch_8\">\n    <path d=\"M 585.43375 383.3725 \nL 1065.6 383.3725 \nL 1065.6 28.597656 \nL 585.43375 28.597656 \nz\n\" style=\"fill: #e5e5e5\"/>\n   </g>\n   <g id=\"matplotlib.axis_3\">\n    <g id=\"xtick_8\">\n     <g id=\"line2d_31\">\n      <path d=\"M 638.439115 383.3725 \nL 638.439115 28.597656 \n\" clip-path=\"url(#p01ea727d6a)\" style=\"fill: none; stroke: #ffffff; stroke-width: 0.8; stroke-linecap: square\"/>\n     </g>\n     <g id=\"line2d_32\">\n      <g>\n       <use xlink:href=\"#m7b38018373\" x=\"638.439115\" y=\"383.3725\" style=\"fill: #555555; stroke: #555555; stroke-width: 0.8\"/>\n      </g>\n     </g>\n     <g id=\"text_19\">\n      <!-- 2 -->\n      <g style=\"fill: #555555\" transform=\"translate(635.257865 397.970937)scale(0.1 -0.1)\">\n       <use xlink:href=\"#DejaVuSans-32\"/>\n      </g>\n     </g>\n    </g>\n    <g id=\"xtick_9\">\n     <g id=\"line2d_33\">\n      <path d=\"M 700.798369 383.3725 \nL 700.798369 28.597656 \n\" clip-path=\"url(#p01ea727d6a)\" style=\"fill: none; stroke: #ffffff; stroke-width: 0.8; stroke-linecap: square\"/>\n     </g>\n     <g id=\"line2d_34\">\n      <g>\n       <use xlink:href=\"#m7b38018373\" x=\"700.798369\" y=\"383.3725\" style=\"fill: #555555; stroke: #555555; stroke-width: 0.8\"/>\n      </g>\n     </g>\n     <g id=\"text_20\">\n      <!-- 4 -->\n      <g style=\"fill: #555555\" transform=\"translate(697.617119 397.970937)scale(0.1 -0.1)\">\n       <use xlink:href=\"#DejaVuSans-34\"/>\n      </g>\n     </g>\n    </g>\n    <g id=\"xtick_10\">\n     <g id=\"line2d_35\">\n      <path d=\"M 763.157622 383.3725 \nL 763.157622 28.597656 \n\" clip-path=\"url(#p01ea727d6a)\" style=\"fill: none; stroke: #ffffff; stroke-width: 0.8; stroke-linecap: square\"/>\n     </g>\n     <g id=\"line2d_36\">\n      <g>\n       <use xlink:href=\"#m7b38018373\" x=\"763.157622\" y=\"383.3725\" style=\"fill: #555555; stroke: #555555; stroke-width: 0.8\"/>\n      </g>\n     </g>\n     <g id=\"text_21\">\n      <!-- 6 -->\n      <g style=\"fill: #555555\" transform=\"translate(759.976372 397.970937)scale(0.1 -0.1)\">\n       <use xlink:href=\"#DejaVuSans-36\"/>\n      </g>\n     </g>\n    </g>\n    <g id=\"xtick_11\">\n     <g id=\"line2d_37\">\n      <path d=\"M 825.516875 383.3725 \nL 825.516875 28.597656 \n\" clip-path=\"url(#p01ea727d6a)\" style=\"fill: none; stroke: #ffffff; stroke-width: 0.8; stroke-linecap: square\"/>\n     </g>\n     <g id=\"line2d_38\">\n      <g>\n       <use xlink:href=\"#m7b38018373\" x=\"825.516875\" y=\"383.3725\" style=\"fill: #555555; stroke: #555555; stroke-width: 0.8\"/>\n      </g>\n     </g>\n     <g id=\"text_22\">\n      <!-- 8 -->\n      <g style=\"fill: #555555\" transform=\"translate(822.335625 397.970937)scale(0.1 -0.1)\">\n       <use xlink:href=\"#DejaVuSans-38\"/>\n      </g>\n     </g>\n    </g>\n    <g id=\"xtick_12\">\n     <g id=\"line2d_39\">\n      <path d=\"M 887.876128 383.3725 \nL 887.876128 28.597656 \n\" clip-path=\"url(#p01ea727d6a)\" style=\"fill: none; stroke: #ffffff; stroke-width: 0.8; stroke-linecap: square\"/>\n     </g>\n     <g id=\"line2d_40\">\n      <g>\n       <use xlink:href=\"#m7b38018373\" x=\"887.876128\" y=\"383.3725\" style=\"fill: #555555; stroke: #555555; stroke-width: 0.8\"/>\n      </g>\n     </g>\n     <g id=\"text_23\">\n      <!-- 10 -->\n      <g style=\"fill: #555555\" transform=\"translate(881.513628 397.970937)scale(0.1 -0.1)\">\n       <use xlink:href=\"#DejaVuSans-31\"/>\n       <use xlink:href=\"#DejaVuSans-30\" x=\"63.623047\"/>\n      </g>\n     </g>\n    </g>\n    <g id=\"xtick_13\">\n     <g id=\"line2d_41\">\n      <path d=\"M 950.235381 383.3725 \nL 950.235381 28.597656 \n\" clip-path=\"url(#p01ea727d6a)\" style=\"fill: none; stroke: #ffffff; stroke-width: 0.8; stroke-linecap: square\"/>\n     </g>\n     <g id=\"line2d_42\">\n      <g>\n       <use xlink:href=\"#m7b38018373\" x=\"950.235381\" y=\"383.3725\" style=\"fill: #555555; stroke: #555555; stroke-width: 0.8\"/>\n      </g>\n     </g>\n     <g id=\"text_24\">\n      <!-- 12 -->\n      <g style=\"fill: #555555\" transform=\"translate(943.872881 397.970937)scale(0.1 -0.1)\">\n       <use xlink:href=\"#DejaVuSans-31\"/>\n       <use xlink:href=\"#DejaVuSans-32\" x=\"63.623047\"/>\n      </g>\n     </g>\n    </g>\n    <g id=\"xtick_14\">\n     <g id=\"line2d_43\">\n      <path d=\"M 1012.594635 383.3725 \nL 1012.594635 28.597656 \n\" clip-path=\"url(#p01ea727d6a)\" style=\"fill: none; stroke: #ffffff; stroke-width: 0.8; stroke-linecap: square\"/>\n     </g>\n     <g id=\"line2d_44\">\n      <g>\n       <use xlink:href=\"#m7b38018373\" x=\"1012.594635\" y=\"383.3725\" style=\"fill: #555555; stroke: #555555; stroke-width: 0.8\"/>\n      </g>\n     </g>\n     <g id=\"text_25\">\n      <!-- 14 -->\n      <g style=\"fill: #555555\" transform=\"translate(1006.232135 397.970937)scale(0.1 -0.1)\">\n       <use xlink:href=\"#DejaVuSans-31\"/>\n       <use xlink:href=\"#DejaVuSans-34\" x=\"63.623047\"/>\n      </g>\n     </g>\n    </g>\n    <g id=\"text_26\">\n     <!-- epochs -->\n     <g style=\"fill: #555555\" transform=\"translate(797.650313 414.688437)scale(0.14 -0.14)\">\n      <use xlink:href=\"#DejaVuSans-Bold-65\"/>\n      <use xlink:href=\"#DejaVuSans-Bold-70\" x=\"67.822266\"/>\n      <use xlink:href=\"#DejaVuSans-Bold-6f\" x=\"139.404297\"/>\n      <use xlink:href=\"#DejaVuSans-Bold-63\" x=\"208.105469\"/>\n      <use xlink:href=\"#DejaVuSans-Bold-68\" x=\"267.382812\"/>\n      <use xlink:href=\"#DejaVuSans-Bold-73\" x=\"338.574219\"/>\n     </g>\n    </g>\n   </g>\n   <g id=\"matplotlib.axis_4\">\n    <g id=\"ytick_8\">\n     <g id=\"line2d_45\">\n      <path d=\"M 585.43375 359.489379 \nL 1065.6 359.489379 \n\" clip-path=\"url(#p01ea727d6a)\" style=\"fill: none; stroke: #ffffff; stroke-width: 0.8; stroke-linecap: square\"/>\n     </g>\n     <g id=\"line2d_46\">\n      <g>\n       <use xlink:href=\"#mfaa736683a\" x=\"585.43375\" y=\"359.489379\" style=\"fill: #555555; stroke: #555555; stroke-width: 0.8\"/>\n      </g>\n     </g>\n     <g id=\"text_27\">\n      <!-- 0.6 -->\n      <g style=\"fill: #555555\" transform=\"translate(562.530625 363.288597)scale(0.1 -0.1)\">\n       <use xlink:href=\"#DejaVuSans-30\"/>\n       <use xlink:href=\"#DejaVuSans-2e\" x=\"63.623047\"/>\n       <use xlink:href=\"#DejaVuSans-36\" x=\"95.410156\"/>\n      </g>\n     </g>\n    </g>\n    <g id=\"ytick_9\">\n     <g id=\"line2d_47\">\n      <path d=\"M 585.43375 300.494537 \nL 1065.6 300.494537 \n\" clip-path=\"url(#p01ea727d6a)\" style=\"fill: none; stroke: #ffffff; stroke-width: 0.8; stroke-linecap: square\"/>\n     </g>\n     <g id=\"line2d_48\">\n      <g>\n       <use xlink:href=\"#mfaa736683a\" x=\"585.43375\" y=\"300.494537\" style=\"fill: #555555; stroke: #555555; stroke-width: 0.8\"/>\n      </g>\n     </g>\n     <g id=\"text_28\">\n      <!-- 0.8 -->\n      <g style=\"fill: #555555\" transform=\"translate(562.530625 304.293756)scale(0.1 -0.1)\">\n       <use xlink:href=\"#DejaVuSans-30\"/>\n       <use xlink:href=\"#DejaVuSans-2e\" x=\"63.623047\"/>\n       <use xlink:href=\"#DejaVuSans-38\" x=\"95.410156\"/>\n      </g>\n     </g>\n    </g>\n    <g id=\"ytick_10\">\n     <g id=\"line2d_49\">\n      <path d=\"M 585.43375 241.499695 \nL 1065.6 241.499695 \n\" clip-path=\"url(#p01ea727d6a)\" style=\"fill: none; stroke: #ffffff; stroke-width: 0.8; stroke-linecap: square\"/>\n     </g>\n     <g id=\"line2d_50\">\n      <g>\n       <use xlink:href=\"#mfaa736683a\" x=\"585.43375\" y=\"241.499695\" style=\"fill: #555555; stroke: #555555; stroke-width: 0.8\"/>\n      </g>\n     </g>\n     <g id=\"text_29\">\n      <!-- 1.0 -->\n      <g style=\"fill: #555555\" transform=\"translate(562.530625 245.298914)scale(0.1 -0.1)\">\n       <use xlink:href=\"#DejaVuSans-31\"/>\n       <use xlink:href=\"#DejaVuSans-2e\" x=\"63.623047\"/>\n       <use xlink:href=\"#DejaVuSans-30\" x=\"95.410156\"/>\n      </g>\n     </g>\n    </g>\n    <g id=\"ytick_11\">\n     <g id=\"line2d_51\">\n      <path d=\"M 585.43375 182.504853 \nL 1065.6 182.504853 \n\" clip-path=\"url(#p01ea727d6a)\" style=\"fill: none; stroke: #ffffff; stroke-width: 0.8; stroke-linecap: square\"/>\n     </g>\n     <g id=\"line2d_52\">\n      <g>\n       <use xlink:href=\"#mfaa736683a\" x=\"585.43375\" y=\"182.504853\" style=\"fill: #555555; stroke: #555555; stroke-width: 0.8\"/>\n      </g>\n     </g>\n     <g id=\"text_30\">\n      <!-- 1.2 -->\n      <g style=\"fill: #555555\" transform=\"translate(562.530625 186.304072)scale(0.1 -0.1)\">\n       <use xlink:href=\"#DejaVuSans-31\"/>\n       <use xlink:href=\"#DejaVuSans-2e\" x=\"63.623047\"/>\n       <use xlink:href=\"#DejaVuSans-32\" x=\"95.410156\"/>\n      </g>\n     </g>\n    </g>\n    <g id=\"ytick_12\">\n     <g id=\"line2d_53\">\n      <path d=\"M 585.43375 123.510011 \nL 1065.6 123.510011 \n\" clip-path=\"url(#p01ea727d6a)\" style=\"fill: none; stroke: #ffffff; stroke-width: 0.8; stroke-linecap: square\"/>\n     </g>\n     <g id=\"line2d_54\">\n      <g>\n       <use xlink:href=\"#mfaa736683a\" x=\"585.43375\" y=\"123.510011\" style=\"fill: #555555; stroke: #555555; stroke-width: 0.8\"/>\n      </g>\n     </g>\n     <g id=\"text_31\">\n      <!-- 1.4 -->\n      <g style=\"fill: #555555\" transform=\"translate(562.530625 127.30923)scale(0.1 -0.1)\">\n       <use xlink:href=\"#DejaVuSans-31\"/>\n       <use xlink:href=\"#DejaVuSans-2e\" x=\"63.623047\"/>\n       <use xlink:href=\"#DejaVuSans-34\" x=\"95.410156\"/>\n      </g>\n     </g>\n    </g>\n    <g id=\"ytick_13\">\n     <g id=\"line2d_55\">\n      <path d=\"M 585.43375 64.51517 \nL 1065.6 64.51517 \n\" clip-path=\"url(#p01ea727d6a)\" style=\"fill: none; stroke: #ffffff; stroke-width: 0.8; stroke-linecap: square\"/>\n     </g>\n     <g id=\"line2d_56\">\n      <g>\n       <use xlink:href=\"#mfaa736683a\" x=\"585.43375\" y=\"64.51517\" style=\"fill: #555555; stroke: #555555; stroke-width: 0.8\"/>\n      </g>\n     </g>\n     <g id=\"text_32\">\n      <!-- 1.6 -->\n      <g style=\"fill: #555555\" transform=\"translate(562.530625 68.314388)scale(0.1 -0.1)\">\n       <use xlink:href=\"#DejaVuSans-31\"/>\n       <use xlink:href=\"#DejaVuSans-2e\" x=\"63.623047\"/>\n       <use xlink:href=\"#DejaVuSans-36\" x=\"95.410156\"/>\n      </g>\n     </g>\n    </g>\n    <g id=\"text_33\">\n     <!-- loss -->\n     <g style=\"fill: #555555\" transform=\"translate(555.619062 221.526172)rotate(-90)scale(0.14 -0.14)\">\n      <defs>\n       <path id=\"DejaVuSans-Bold-6c\" d=\"M 538 4863 \nL 1656 4863 \nL 1656 0 \nL 538 0 \nL 538 4863 \nz\n\" transform=\"scale(0.015625)\"/>\n      </defs>\n      <use xlink:href=\"#DejaVuSans-Bold-6c\"/>\n      <use xlink:href=\"#DejaVuSans-Bold-6f\" x=\"34.277344\"/>\n      <use xlink:href=\"#DejaVuSans-Bold-73\" x=\"102.978516\"/>\n      <use xlink:href=\"#DejaVuSans-Bold-73\" x=\"162.5\"/>\n     </g>\n    </g>\n   </g>\n   <g id=\"line2d_57\">\n    <g clip-path=\"url(#p01ea727d6a)\">\n     <use xlink:href=\"#m0c3a7e5e67\" x=\"607.259489\" y=\"44.723786\" style=\"fill: #0000ff; stroke: #0000ff\"/>\n     <use xlink:href=\"#m0c3a7e5e67\" x=\"638.439115\" y=\"210.7074\" style=\"fill: #0000ff; stroke: #0000ff\"/>\n     <use xlink:href=\"#m0c3a7e5e67\" x=\"669.618742\" y=\"241.362275\" style=\"fill: #0000ff; stroke: #0000ff\"/>\n     <use xlink:href=\"#m0c3a7e5e67\" x=\"700.798369\" y=\"262.349041\" style=\"fill: #0000ff; stroke: #0000ff\"/>\n     <use xlink:href=\"#m0c3a7e5e67\" x=\"731.977995\" y=\"279.424869\" style=\"fill: #0000ff; stroke: #0000ff\"/>\n     <use xlink:href=\"#m0c3a7e5e67\" x=\"763.157622\" y=\"295.092163\" style=\"fill: #0000ff; stroke: #0000ff\"/>\n     <use xlink:href=\"#m0c3a7e5e67\" x=\"794.337248\" y=\"308.269958\" style=\"fill: #0000ff; stroke: #0000ff\"/>\n     <use xlink:href=\"#m0c3a7e5e67\" x=\"825.516875\" y=\"319.712039\" style=\"fill: #0000ff; stroke: #0000ff\"/>\n     <use xlink:href=\"#m0c3a7e5e67\" x=\"856.696502\" y=\"329.729429\" style=\"fill: #0000ff; stroke: #0000ff\"/>\n     <use xlink:href=\"#m0c3a7e5e67\" x=\"887.876128\" y=\"338.05019\" style=\"fill: #0000ff; stroke: #0000ff\"/>\n     <use xlink:href=\"#m0c3a7e5e67\" x=\"919.055755\" y=\"345.210128\" style=\"fill: #0000ff; stroke: #0000ff\"/>\n     <use xlink:href=\"#m0c3a7e5e67\" x=\"950.235381\" y=\"351.893141\" style=\"fill: #0000ff; stroke: #0000ff\"/>\n     <use xlink:href=\"#m0c3a7e5e67\" x=\"981.415008\" y=\"357.70624\" style=\"fill: #0000ff; stroke: #0000ff\"/>\n     <use xlink:href=\"#m0c3a7e5e67\" x=\"1012.594635\" y=\"362.178566\" style=\"fill: #0000ff; stroke: #0000ff\"/>\n     <use xlink:href=\"#m0c3a7e5e67\" x=\"1043.774261\" y=\"367.246371\" style=\"fill: #0000ff; stroke: #0000ff\"/>\n    </g>\n   </g>\n   <g id=\"patch_9\">\n    <path d=\"M 585.43375 383.3725 \nL 585.43375 28.597656 \n\" style=\"fill: none; stroke: #ffffff; stroke-linejoin: miter; stroke-linecap: square\"/>\n   </g>\n   <g id=\"patch_10\">\n    <path d=\"M 1065.6 383.3725 \nL 1065.6 28.597656 \n\" style=\"fill: none; stroke: #ffffff; stroke-linejoin: miter; stroke-linecap: square\"/>\n   </g>\n   <g id=\"patch_11\">\n    <path d=\"M 585.43375 383.3725 \nL 1065.6 383.3725 \n\" style=\"fill: none; stroke: #ffffff; stroke-linejoin: miter; stroke-linecap: square\"/>\n   </g>\n   <g id=\"patch_12\">\n    <path d=\"M 585.43375 28.597656 \nL 1065.6 28.597656 \n\" style=\"fill: none; stroke: #ffffff; stroke-linejoin: miter; stroke-linecap: square\"/>\n   </g>\n   <g id=\"text_34\">\n    <!-- Training loss -->\n    <g transform=\"translate(772.014922 18.597656)scale(0.15 -0.15)\">\n     <use xlink:href=\"#DejaVuSans-Bold-54\"/>\n     <use xlink:href=\"#DejaVuSans-Bold-72\" x=\"57.212891\"/>\n     <use xlink:href=\"#DejaVuSans-Bold-61\" x=\"106.529297\"/>\n     <use xlink:href=\"#DejaVuSans-Bold-69\" x=\"174.009766\"/>\n     <use xlink:href=\"#DejaVuSans-Bold-6e\" x=\"208.287109\"/>\n     <use xlink:href=\"#DejaVuSans-Bold-69\" x=\"279.478516\"/>\n     <use xlink:href=\"#DejaVuSans-Bold-6e\" x=\"313.755859\"/>\n     <use xlink:href=\"#DejaVuSans-Bold-67\" x=\"384.947266\"/>\n     <use xlink:href=\"#DejaVuSans-Bold-20\" x=\"456.529297\"/>\n     <use xlink:href=\"#DejaVuSans-Bold-6c\" x=\"491.34375\"/>\n     <use xlink:href=\"#DejaVuSans-Bold-6f\" x=\"525.621094\"/>\n     <use xlink:href=\"#DejaVuSans-Bold-73\" x=\"594.322266\"/>\n     <use xlink:href=\"#DejaVuSans-Bold-73\" x=\"653.84375\"/>\n    </g>\n   </g>\n   <g id=\"legend_2\">\n    <g id=\"patch_13\">\n     <path d=\"M 964.654688 51.275781 \nL 1058.6 51.275781 \nQ 1060.6 51.275781 1060.6 49.275781 \nL 1060.6 35.597656 \nQ 1060.6 33.597656 1058.6 33.597656 \nL 964.654688 33.597656 \nQ 962.654688 33.597656 962.654688 35.597656 \nL 962.654688 49.275781 \nQ 962.654688 51.275781 964.654688 51.275781 \nz\n\" style=\"fill: #e5e5e5; opacity: 0.8; stroke: #cccccc; stroke-width: 0.5; stroke-linejoin: miter\"/>\n    </g>\n    <g id=\"line2d_58\">\n     <g>\n      <use xlink:href=\"#m0c3a7e5e67\" x=\"976.654688\" y=\"41.696094\" style=\"fill: #0000ff; stroke: #0000ff\"/>\n     </g>\n    </g>\n    <g id=\"text_35\">\n     <!-- Training loss -->\n     <g transform=\"translate(994.654688 45.196094)scale(0.1 -0.1)\">\n      <defs>\n       <path id=\"DejaVuSans-6c\" d=\"M 603 4863 \nL 1178 4863 \nL 1178 0 \nL 603 0 \nL 603 4863 \nz\n\" transform=\"scale(0.015625)\"/>\n       <path id=\"DejaVuSans-6f\" d=\"M 1959 3097 \nQ 1497 3097 1228 2736 \nQ 959 2375 959 1747 \nQ 959 1119 1226 758 \nQ 1494 397 1959 397 \nQ 2419 397 2687 759 \nQ 2956 1122 2956 1747 \nQ 2956 2369 2687 2733 \nQ 2419 3097 1959 3097 \nz\nM 1959 3584 \nQ 2709 3584 3137 3096 \nQ 3566 2609 3566 1747 \nQ 3566 888 3137 398 \nQ 2709 -91 1959 -91 \nQ 1206 -91 779 398 \nQ 353 888 353 1747 \nQ 353 2609 779 3096 \nQ 1206 3584 1959 3584 \nz\n\" transform=\"scale(0.015625)\"/>\n       <path id=\"DejaVuSans-73\" d=\"M 2834 3397 \nL 2834 2853 \nQ 2591 2978 2328 3040 \nQ 2066 3103 1784 3103 \nQ 1356 3103 1142 2972 \nQ 928 2841 928 2578 \nQ 928 2378 1081 2264 \nQ 1234 2150 1697 2047 \nL 1894 2003 \nQ 2506 1872 2764 1633 \nQ 3022 1394 3022 966 \nQ 3022 478 2636 193 \nQ 2250 -91 1575 -91 \nQ 1294 -91 989 -36 \nQ 684 19 347 128 \nL 347 722 \nQ 666 556 975 473 \nQ 1284 391 1588 391 \nQ 1994 391 2212 530 \nQ 2431 669 2431 922 \nQ 2431 1156 2273 1281 \nQ 2116 1406 1581 1522 \nL 1381 1569 \nQ 847 1681 609 1914 \nQ 372 2147 372 2553 \nQ 372 3047 722 3315 \nQ 1072 3584 1716 3584 \nQ 2034 3584 2315 3537 \nQ 2597 3491 2834 3397 \nz\n\" transform=\"scale(0.015625)\"/>\n      </defs>\n      <use xlink:href=\"#DejaVuSans-54\"/>\n      <use xlink:href=\"#DejaVuSans-72\" x=\"46.333984\"/>\n      <use xlink:href=\"#DejaVuSans-61\" x=\"87.447266\"/>\n      <use xlink:href=\"#DejaVuSans-69\" x=\"148.726562\"/>\n      <use xlink:href=\"#DejaVuSans-6e\" x=\"176.509766\"/>\n      <use xlink:href=\"#DejaVuSans-69\" x=\"239.888672\"/>\n      <use xlink:href=\"#DejaVuSans-6e\" x=\"267.671875\"/>\n      <use xlink:href=\"#DejaVuSans-67\" x=\"331.050781\"/>\n      <use xlink:href=\"#DejaVuSans-20\" x=\"394.527344\"/>\n      <use xlink:href=\"#DejaVuSans-6c\" x=\"426.314453\"/>\n      <use xlink:href=\"#DejaVuSans-6f\" x=\"454.097656\"/>\n      <use xlink:href=\"#DejaVuSans-73\" x=\"515.279297\"/>\n      <use xlink:href=\"#DejaVuSans-73\" x=\"567.378906\"/>\n     </g>\n    </g>\n   </g>\n  </g>\n </g>\n <defs>\n  <clipPath id=\"p744353df86\">\n   <rect x=\"54.015\" y=\"28.597656\" width=\"480.16625\" height=\"354.774844\"/>\n  </clipPath>\n  <clipPath id=\"p01ea727d6a\">\n   <rect x=\"585.43375\" y=\"28.597656\" width=\"480.16625\" height=\"354.774844\"/>\n  </clipPath>\n </defs>\n</svg>\n",
      "text/plain": [
       "<Figure size 1080x432 with 2 Axes>"
      ]
     },
     "metadata": {},
     "output_type": "display_data"
    }
   ],
   "source": [
    "# evalute the model\n",
    "test_loss, test_acc = model1.evaluate(test_padseq, Y_test, verbose=0)\n",
    "print(\"Test loss and accuracy:\", test_loss, test_acc)\n",
    "\n",
    "plot_loss_accuracy(history1)\n",
    "\n",
    "Y_pred = model1.predict(test_padseq)\n",
    "Y_pred = np.argmax(Y_pred,axis=1)\n",
    "Y_test = np.argmax(Y_test,axis=1)\n",
    "print(Y_test.shape, Y_pred.shape)\n",
    "print(Y_test[:5], Y_pred[:5])\n",
    "\n",
    "print(classification_report(Y_test, Y_pred))\n",
    "\n",
    "plt.figure(figsize=(10, 10))\n",
    "sns.heatmap(confusion_matrix(Y_test, Y_pred), annot=True);\n",
    "plt.title('Confusion Matrix', fontsize=20);"
   ]
  },
  {
   "cell_type": "markdown",
   "metadata": {},
   "source": [
    "# EXPERIMENT ORDER 2"
   ]
  },
  {
   "cell_type": "code",
   "execution_count": 10,
   "metadata": {},
   "outputs": [
    {
     "name": "stdout",
     "output_type": "stream",
     "text": [
      "shape of input data:  (167616,)\n",
      "shape of target variable:  (167616,)\n",
      "Length of word index: 53645\n"
     ]
    }
   ],
   "source": [
    "# ORDER 2 TRAIN DATA\n",
    "X_train = X2_train\n",
    "Y_train = Y2_train\n",
    "\n",
    "# one hot encoding using keras tokenizer and pad sequencing\n",
    "encoder = LabelEncoder()\n",
    "Y_train = encoder.fit_transform(Y_train)\n",
    "print(\"shape of input data: \", X_train.shape)\n",
    "print(\"shape of target variable: \", Y_train.shape)\n",
    "\n",
    "tokenizer = Tokenizer(num_words=1000000, oov_token='<00V>') \n",
    "tokenizer.fit_on_texts(X_train) # build the word index\n",
    "# padding X_train text input data\n",
    "train_seq = tokenizer.texts_to_sequences(X_train) # converts strinfs into integer lists\n",
    "train_padseq = pad_sequences(train_seq, maxlen=20) # pads the integer lists to 2D integer tensor \n",
    "\n",
    "word_index = tokenizer.word_index\n",
    "max_words = 15000000  # total number of words to consider in embedding layer\n",
    "total_words = len(word_index) + 1000\n",
    "maxlen = 20 # max length of sequence \n",
    "Y_train = to_categorical(Y_train, num_classes=42)\n",
    "print(\"Length of word index:\", total_words)"
   ]
  },
  {
   "cell_type": "markdown",
   "metadata": {},
   "source": [
    "### Model 2, training using Conv1D, Bi-directional RNN, LSTMs and GRU layer"
   ]
  },
  {
   "cell_type": "code",
   "execution_count": 11,
   "metadata": {},
   "outputs": [
    {
     "ename": "KeyboardInterrupt",
     "evalue": "",
     "output_type": "error",
     "traceback": [
      "\u001b[1;31m---------------------------------------------------------------------------\u001b[0m",
      "\u001b[1;31mKeyboardInterrupt\u001b[0m                         Traceback (most recent call last)",
      "\u001b[1;32md:\\CU BOULDER\\CSCI5922_NN\\FinalProject\\Semantical_Clustering_Data_Classification_Model\\scripts\\models_model2_headlines_superclassesOK.ipynb Cell 17\u001b[0m in \u001b[0;36m<cell line: 4>\u001b[1;34m()\u001b[0m\n\u001b[0;32m      <a href='vscode-notebook-cell:/d%3A/CU%20BOULDER/CSCI5922_NN/FinalProject/Semantical_Clustering_Data_Classification_Model/scripts/models_model2_headlines_superclassesOK.ipynb#X22sZmlsZQ%3D%3D?line=1'>2</a>\u001b[0m model2\u001b[39m.\u001b[39madd(Embedding(total_words, \u001b[39m100\u001b[39m, input_length\u001b[39m=\u001b[39mmaxlen))\n\u001b[0;32m      <a href='vscode-notebook-cell:/d%3A/CU%20BOULDER/CSCI5922_NN/FinalProject/Semantical_Clustering_Data_Classification_Model/scripts/models_model2_headlines_superclassesOK.ipynb#X22sZmlsZQ%3D%3D?line=2'>3</a>\u001b[0m model2\u001b[39m.\u001b[39madd(Bidirectional(LSTM(\u001b[39m64\u001b[39m, dropout\u001b[39m=\u001b[39m\u001b[39m0.1\u001b[39m, recurrent_dropout\u001b[39m=\u001b[39m\u001b[39m0.10\u001b[39m, activation\u001b[39m=\u001b[39m\u001b[39m'\u001b[39m\u001b[39mtanh\u001b[39m\u001b[39m'\u001b[39m, return_sequences\u001b[39m=\u001b[39m\u001b[39mTrue\u001b[39;00m)))\n\u001b[1;32m----> <a href='vscode-notebook-cell:/d%3A/CU%20BOULDER/CSCI5922_NN/FinalProject/Semantical_Clustering_Data_Classification_Model/scripts/models_model2_headlines_superclassesOK.ipynb#X22sZmlsZQ%3D%3D?line=3'>4</a>\u001b[0m model2\u001b[39m.\u001b[39;49madd(Bidirectional(LSTM(\u001b[39m64\u001b[39;49m, dropout\u001b[39m=\u001b[39;49m\u001b[39m0.2\u001b[39;49m, recurrent_dropout\u001b[39m=\u001b[39;49m\u001b[39m0.20\u001b[39;49m, activation\u001b[39m=\u001b[39;49m\u001b[39m'\u001b[39;49m\u001b[39mtanh\u001b[39;49m\u001b[39m'\u001b[39;49m, return_sequences\u001b[39m=\u001b[39;49m\u001b[39mTrue\u001b[39;49;00m)))\n\u001b[0;32m      <a href='vscode-notebook-cell:/d%3A/CU%20BOULDER/CSCI5922_NN/FinalProject/Semantical_Clustering_Data_Classification_Model/scripts/models_model2_headlines_superclassesOK.ipynb#X22sZmlsZQ%3D%3D?line=4'>5</a>\u001b[0m model2\u001b[39m.\u001b[39madd(Bidirectional(SimpleRNN(\u001b[39m64\u001b[39m, dropout\u001b[39m=\u001b[39m\u001b[39m0.2\u001b[39m, recurrent_dropout\u001b[39m=\u001b[39m\u001b[39m0.20\u001b[39m, activation\u001b[39m=\u001b[39m\u001b[39m'\u001b[39m\u001b[39mtanh\u001b[39m\u001b[39m'\u001b[39m, return_sequences\u001b[39m=\u001b[39m\u001b[39mTrue\u001b[39;00m)))\n\u001b[0;32m      <a href='vscode-notebook-cell:/d%3A/CU%20BOULDER/CSCI5922_NN/FinalProject/Semantical_Clustering_Data_Classification_Model/scripts/models_model2_headlines_superclassesOK.ipynb#X22sZmlsZQ%3D%3D?line=5'>6</a>\u001b[0m model2\u001b[39m.\u001b[39madd(Conv1D(\u001b[39m72\u001b[39m, \u001b[39m3\u001b[39m, activation\u001b[39m=\u001b[39m\u001b[39m'\u001b[39m\u001b[39mrelu\u001b[39m\u001b[39m'\u001b[39m))\n",
      "File \u001b[1;32mc:\\Users\\natal\\anaconda3\\lib\\site-packages\\tensorflow\\python\\training\\tracking\\base.py:530\u001b[0m, in \u001b[0;36mno_automatic_dependency_tracking.<locals>._method_wrapper\u001b[1;34m(self, *args, **kwargs)\u001b[0m\n\u001b[0;32m    528\u001b[0m \u001b[39mself\u001b[39m\u001b[39m.\u001b[39m_self_setattr_tracking \u001b[39m=\u001b[39m \u001b[39mFalse\u001b[39;00m  \u001b[39m# pylint: disable=protected-access\u001b[39;00m\n\u001b[0;32m    529\u001b[0m \u001b[39mtry\u001b[39;00m:\n\u001b[1;32m--> 530\u001b[0m   result \u001b[39m=\u001b[39m method(\u001b[39mself\u001b[39;49m, \u001b[39m*\u001b[39;49margs, \u001b[39m*\u001b[39;49m\u001b[39m*\u001b[39;49mkwargs)\n\u001b[0;32m    531\u001b[0m \u001b[39mfinally\u001b[39;00m:\n\u001b[0;32m    532\u001b[0m   \u001b[39mself\u001b[39m\u001b[39m.\u001b[39m_self_setattr_tracking \u001b[39m=\u001b[39m previous_value  \u001b[39m# pylint: disable=protected-access\u001b[39;00m\n",
      "File \u001b[1;32mc:\\Users\\natal\\anaconda3\\lib\\site-packages\\keras\\utils\\traceback_utils.py:64\u001b[0m, in \u001b[0;36mfilter_traceback.<locals>.error_handler\u001b[1;34m(*args, **kwargs)\u001b[0m\n\u001b[0;32m     62\u001b[0m filtered_tb \u001b[39m=\u001b[39m \u001b[39mNone\u001b[39;00m\n\u001b[0;32m     63\u001b[0m \u001b[39mtry\u001b[39;00m:\n\u001b[1;32m---> 64\u001b[0m   \u001b[39mreturn\u001b[39;00m fn(\u001b[39m*\u001b[39;49margs, \u001b[39m*\u001b[39;49m\u001b[39m*\u001b[39;49mkwargs)\n\u001b[0;32m     65\u001b[0m \u001b[39mexcept\u001b[39;00m \u001b[39mException\u001b[39;00m \u001b[39mas\u001b[39;00m e:  \u001b[39m# pylint: disable=broad-except\u001b[39;00m\n\u001b[0;32m     66\u001b[0m   filtered_tb \u001b[39m=\u001b[39m _process_traceback_frames(e\u001b[39m.\u001b[39m__traceback__)\n",
      "File \u001b[1;32mc:\\Users\\natal\\anaconda3\\lib\\site-packages\\keras\\engine\\sequential.py:220\u001b[0m, in \u001b[0;36mSequential.add\u001b[1;34m(self, layer)\u001b[0m\n\u001b[0;32m    215\u001b[0m     \u001b[39mself\u001b[39m\u001b[39m.\u001b[39m_has_explicit_input_shape \u001b[39m=\u001b[39m \u001b[39mTrue\u001b[39;00m\n\u001b[0;32m    217\u001b[0m \u001b[39melif\u001b[39;00m \u001b[39mself\u001b[39m\u001b[39m.\u001b[39moutputs:\n\u001b[0;32m    218\u001b[0m   \u001b[39m# If the model is being built continuously on top of an input layer:\u001b[39;00m\n\u001b[0;32m    219\u001b[0m   \u001b[39m# refresh its output.\u001b[39;00m\n\u001b[1;32m--> 220\u001b[0m   output_tensor \u001b[39m=\u001b[39m layer(\u001b[39mself\u001b[39;49m\u001b[39m.\u001b[39;49moutputs[\u001b[39m0\u001b[39;49m])\n\u001b[0;32m    221\u001b[0m   \u001b[39mif\u001b[39;00m \u001b[39mlen\u001b[39m(tf\u001b[39m.\u001b[39mnest\u001b[39m.\u001b[39mflatten(output_tensor)) \u001b[39m!=\u001b[39m \u001b[39m1\u001b[39m:\n\u001b[0;32m    222\u001b[0m     \u001b[39mraise\u001b[39;00m \u001b[39mValueError\u001b[39;00m(SINGLE_LAYER_OUTPUT_ERROR_MSG)\n",
      "File \u001b[1;32mc:\\Users\\natal\\anaconda3\\lib\\site-packages\\keras\\layers\\wrappers.py:586\u001b[0m, in \u001b[0;36mBidirectional.__call__\u001b[1;34m(self, inputs, initial_state, constants, **kwargs)\u001b[0m\n\u001b[0;32m    583\u001b[0m   inputs \u001b[39m=\u001b[39m inputs[\u001b[39m0\u001b[39m]\n\u001b[0;32m    585\u001b[0m \u001b[39mif\u001b[39;00m initial_state \u001b[39mis\u001b[39;00m \u001b[39mNone\u001b[39;00m \u001b[39mand\u001b[39;00m constants \u001b[39mis\u001b[39;00m \u001b[39mNone\u001b[39;00m:\n\u001b[1;32m--> 586\u001b[0m   \u001b[39mreturn\u001b[39;00m \u001b[39msuper\u001b[39;49m(Bidirectional, \u001b[39mself\u001b[39;49m)\u001b[39m.\u001b[39;49m\u001b[39m__call__\u001b[39;49m(inputs, \u001b[39m*\u001b[39;49m\u001b[39m*\u001b[39;49mkwargs)\n\u001b[0;32m    588\u001b[0m \u001b[39m# Applies the same workaround as in `RNN.__call__`\u001b[39;00m\n\u001b[0;32m    589\u001b[0m additional_inputs \u001b[39m=\u001b[39m []\n",
      "File \u001b[1;32mc:\\Users\\natal\\anaconda3\\lib\\site-packages\\keras\\utils\\traceback_utils.py:64\u001b[0m, in \u001b[0;36mfilter_traceback.<locals>.error_handler\u001b[1;34m(*args, **kwargs)\u001b[0m\n\u001b[0;32m     62\u001b[0m filtered_tb \u001b[39m=\u001b[39m \u001b[39mNone\u001b[39;00m\n\u001b[0;32m     63\u001b[0m \u001b[39mtry\u001b[39;00m:\n\u001b[1;32m---> 64\u001b[0m   \u001b[39mreturn\u001b[39;00m fn(\u001b[39m*\u001b[39;49margs, \u001b[39m*\u001b[39;49m\u001b[39m*\u001b[39;49mkwargs)\n\u001b[0;32m     65\u001b[0m \u001b[39mexcept\u001b[39;00m \u001b[39mException\u001b[39;00m \u001b[39mas\u001b[39;00m e:  \u001b[39m# pylint: disable=broad-except\u001b[39;00m\n\u001b[0;32m     66\u001b[0m   filtered_tb \u001b[39m=\u001b[39m _process_traceback_frames(e\u001b[39m.\u001b[39m__traceback__)\n",
      "File \u001b[1;32mc:\\Users\\natal\\anaconda3\\lib\\site-packages\\keras\\engine\\base_layer.py:1019\u001b[0m, in \u001b[0;36mLayer.__call__\u001b[1;34m(self, *args, **kwargs)\u001b[0m\n\u001b[0;32m   1013\u001b[0m \u001b[39m# Functional Model construction mode is invoked when `Layer`s are called on\u001b[39;00m\n\u001b[0;32m   1014\u001b[0m \u001b[39m# symbolic `KerasTensor`s, i.e.:\u001b[39;00m\n\u001b[0;32m   1015\u001b[0m \u001b[39m# >> inputs = tf.keras.Input(10)\u001b[39;00m\n\u001b[0;32m   1016\u001b[0m \u001b[39m# >> outputs = MyLayer()(inputs)  # Functional construction mode.\u001b[39;00m\n\u001b[0;32m   1017\u001b[0m \u001b[39m# >> model = tf.keras.Model(inputs, outputs)\u001b[39;00m\n\u001b[0;32m   1018\u001b[0m \u001b[39mif\u001b[39;00m _in_functional_construction_mode(\u001b[39mself\u001b[39m, inputs, args, kwargs, input_list):\n\u001b[1;32m-> 1019\u001b[0m   \u001b[39mreturn\u001b[39;00m \u001b[39mself\u001b[39;49m\u001b[39m.\u001b[39;49m_functional_construction_call(inputs, args, kwargs,\n\u001b[0;32m   1020\u001b[0m                                             input_list)\n\u001b[0;32m   1022\u001b[0m \u001b[39m# Maintains info about the `Layer.call` stack.\u001b[39;00m\n\u001b[0;32m   1023\u001b[0m call_context \u001b[39m=\u001b[39m base_layer_utils\u001b[39m.\u001b[39mcall_context()\n",
      "File \u001b[1;32mc:\\Users\\natal\\anaconda3\\lib\\site-packages\\keras\\engine\\base_layer.py:1160\u001b[0m, in \u001b[0;36mLayer._functional_construction_call\u001b[1;34m(self, inputs, args, kwargs, input_list)\u001b[0m\n\u001b[0;32m   1155\u001b[0m     training_arg_passed_by_framework \u001b[39m=\u001b[39m \u001b[39mTrue\u001b[39;00m\n\u001b[0;32m   1157\u001b[0m \u001b[39mwith\u001b[39;00m call_context\u001b[39m.\u001b[39menter(\n\u001b[0;32m   1158\u001b[0m     layer\u001b[39m=\u001b[39m\u001b[39mself\u001b[39m, inputs\u001b[39m=\u001b[39minputs, build_graph\u001b[39m=\u001b[39m\u001b[39mTrue\u001b[39;00m, training\u001b[39m=\u001b[39mtraining_value):\n\u001b[0;32m   1159\u001b[0m   \u001b[39m# Check input assumptions set after layer building, e.g. input shape.\u001b[39;00m\n\u001b[1;32m-> 1160\u001b[0m   outputs \u001b[39m=\u001b[39m \u001b[39mself\u001b[39;49m\u001b[39m.\u001b[39;49m_keras_tensor_symbolic_call(\n\u001b[0;32m   1161\u001b[0m       inputs, input_masks, args, kwargs)\n\u001b[0;32m   1163\u001b[0m   \u001b[39mif\u001b[39;00m outputs \u001b[39mis\u001b[39;00m \u001b[39mNone\u001b[39;00m:\n\u001b[0;32m   1164\u001b[0m     \u001b[39mraise\u001b[39;00m \u001b[39mValueError\u001b[39;00m(\u001b[39m'\u001b[39m\u001b[39mA layer\u001b[39m\u001b[39m\\'\u001b[39;00m\u001b[39ms `call` method should return a \u001b[39m\u001b[39m'\u001b[39m\n\u001b[0;32m   1165\u001b[0m                      \u001b[39m'\u001b[39m\u001b[39mTensor or a list of Tensors, not None \u001b[39m\u001b[39m'\u001b[39m\n\u001b[0;32m   1166\u001b[0m                      \u001b[39m'\u001b[39m\u001b[39m(layer: \u001b[39m\u001b[39m'\u001b[39m \u001b[39m+\u001b[39m \u001b[39mself\u001b[39m\u001b[39m.\u001b[39mname \u001b[39m+\u001b[39m \u001b[39m'\u001b[39m\u001b[39m).\u001b[39m\u001b[39m'\u001b[39m)\n",
      "File \u001b[1;32mc:\\Users\\natal\\anaconda3\\lib\\site-packages\\keras\\engine\\base_layer.py:885\u001b[0m, in \u001b[0;36mLayer._keras_tensor_symbolic_call\u001b[1;34m(self, inputs, input_masks, args, kwargs)\u001b[0m\n\u001b[0;32m    883\u001b[0m   \u001b[39mreturn\u001b[39;00m tf\u001b[39m.\u001b[39mnest\u001b[39m.\u001b[39mmap_structure(keras_tensor\u001b[39m.\u001b[39mKerasTensor, output_signature)\n\u001b[0;32m    884\u001b[0m \u001b[39melse\u001b[39;00m:\n\u001b[1;32m--> 885\u001b[0m   \u001b[39mreturn\u001b[39;00m \u001b[39mself\u001b[39;49m\u001b[39m.\u001b[39;49m_infer_output_signature(inputs, args, kwargs, input_masks)\n",
      "File \u001b[1;32mc:\\Users\\natal\\anaconda3\\lib\\site-packages\\keras\\engine\\base_layer.py:930\u001b[0m, in \u001b[0;36mLayer._infer_output_signature\u001b[1;34m(self, inputs, args, kwargs, input_masks)\u001b[0m\n\u001b[0;32m    928\u001b[0m     \u001b[39mself\u001b[39m\u001b[39m.\u001b[39m_maybe_build(inputs)\n\u001b[0;32m    929\u001b[0m     inputs \u001b[39m=\u001b[39m \u001b[39mself\u001b[39m\u001b[39m.\u001b[39m_maybe_cast_inputs(inputs)\n\u001b[1;32m--> 930\u001b[0m     outputs \u001b[39m=\u001b[39m call_fn(inputs, \u001b[39m*\u001b[39;49margs, \u001b[39m*\u001b[39;49m\u001b[39m*\u001b[39;49mkwargs)\n\u001b[0;32m    932\u001b[0m   \u001b[39mself\u001b[39m\u001b[39m.\u001b[39m_handle_activity_regularization(inputs, outputs)\n\u001b[0;32m    933\u001b[0m \u001b[39mself\u001b[39m\u001b[39m.\u001b[39m_set_mask_metadata(inputs, outputs, input_masks,\n\u001b[0;32m    934\u001b[0m                         build_graph\u001b[39m=\u001b[39m\u001b[39mFalse\u001b[39;00m)\n",
      "File \u001b[1;32mc:\\Users\\natal\\anaconda3\\lib\\site-packages\\keras\\utils\\traceback_utils.py:92\u001b[0m, in \u001b[0;36minject_argument_info_in_traceback.<locals>.error_handler\u001b[1;34m(*args, **kwargs)\u001b[0m\n\u001b[0;32m     90\u001b[0m bound_signature \u001b[39m=\u001b[39m \u001b[39mNone\u001b[39;00m\n\u001b[0;32m     91\u001b[0m \u001b[39mtry\u001b[39;00m:\n\u001b[1;32m---> 92\u001b[0m   \u001b[39mreturn\u001b[39;00m fn(\u001b[39m*\u001b[39;49margs, \u001b[39m*\u001b[39;49m\u001b[39m*\u001b[39;49mkwargs)\n\u001b[0;32m     93\u001b[0m \u001b[39mexcept\u001b[39;00m \u001b[39mException\u001b[39;00m \u001b[39mas\u001b[39;00m e:  \u001b[39m# pylint: disable=broad-except\u001b[39;00m\n\u001b[0;32m     94\u001b[0m   \u001b[39mif\u001b[39;00m \u001b[39mhasattr\u001b[39m(e, \u001b[39m'\u001b[39m\u001b[39m_keras_call_info_injected\u001b[39m\u001b[39m'\u001b[39m):\n\u001b[0;32m     95\u001b[0m     \u001b[39m# Only inject info for the innermost failing call\u001b[39;00m\n",
      "File \u001b[1;32mc:\\Users\\natal\\anaconda3\\lib\\site-packages\\keras\\layers\\wrappers.py:701\u001b[0m, in \u001b[0;36mBidirectional.call\u001b[1;34m(self, inputs, training, mask, initial_state, constants)\u001b[0m\n\u001b[0;32m    698\u001b[0m     forward_inputs, backward_inputs \u001b[39m=\u001b[39m inputs, inputs\n\u001b[0;32m    699\u001b[0m     forward_state, backward_state \u001b[39m=\u001b[39m \u001b[39mNone\u001b[39;00m, \u001b[39mNone\u001b[39;00m\n\u001b[1;32m--> 701\u001b[0m   y \u001b[39m=\u001b[39m \u001b[39mself\u001b[39;49m\u001b[39m.\u001b[39;49mforward_layer(forward_inputs,\n\u001b[0;32m    702\u001b[0m                          initial_state\u001b[39m=\u001b[39;49mforward_state, \u001b[39m*\u001b[39;49m\u001b[39m*\u001b[39;49mkwargs)\n\u001b[0;32m    703\u001b[0m   y_rev \u001b[39m=\u001b[39m \u001b[39mself\u001b[39m\u001b[39m.\u001b[39mbackward_layer(backward_inputs,\n\u001b[0;32m    704\u001b[0m                               initial_state\u001b[39m=\u001b[39mbackward_state, \u001b[39m*\u001b[39m\u001b[39m*\u001b[39mkwargs)\n\u001b[0;32m    705\u001b[0m \u001b[39melse\u001b[39;00m:\n",
      "File \u001b[1;32mc:\\Users\\natal\\anaconda3\\lib\\site-packages\\keras\\layers\\recurrent.py:679\u001b[0m, in \u001b[0;36mRNN.__call__\u001b[1;34m(self, inputs, initial_state, constants, **kwargs)\u001b[0m\n\u001b[0;32m    673\u001b[0m inputs, initial_state, constants \u001b[39m=\u001b[39m _standardize_args(inputs,\n\u001b[0;32m    674\u001b[0m                                                      initial_state,\n\u001b[0;32m    675\u001b[0m                                                      constants,\n\u001b[0;32m    676\u001b[0m                                                      \u001b[39mself\u001b[39m\u001b[39m.\u001b[39m_num_constants)\n\u001b[0;32m    678\u001b[0m \u001b[39mif\u001b[39;00m initial_state \u001b[39mis\u001b[39;00m \u001b[39mNone\u001b[39;00m \u001b[39mand\u001b[39;00m constants \u001b[39mis\u001b[39;00m \u001b[39mNone\u001b[39;00m:\n\u001b[1;32m--> 679\u001b[0m   \u001b[39mreturn\u001b[39;00m \u001b[39msuper\u001b[39;49m(RNN, \u001b[39mself\u001b[39;49m)\u001b[39m.\u001b[39;49m\u001b[39m__call__\u001b[39;49m(inputs, \u001b[39m*\u001b[39;49m\u001b[39m*\u001b[39;49mkwargs)\n\u001b[0;32m    681\u001b[0m \u001b[39m# If any of `initial_state` or `constants` are specified and are Keras\u001b[39;00m\n\u001b[0;32m    682\u001b[0m \u001b[39m# tensors, then add them to the inputs and temporarily modify the\u001b[39;00m\n\u001b[0;32m    683\u001b[0m \u001b[39m# input_spec to include them.\u001b[39;00m\n\u001b[0;32m    685\u001b[0m additional_inputs \u001b[39m=\u001b[39m []\n",
      "File \u001b[1;32mc:\\Users\\natal\\anaconda3\\lib\\site-packages\\keras\\utils\\traceback_utils.py:64\u001b[0m, in \u001b[0;36mfilter_traceback.<locals>.error_handler\u001b[1;34m(*args, **kwargs)\u001b[0m\n\u001b[0;32m     62\u001b[0m filtered_tb \u001b[39m=\u001b[39m \u001b[39mNone\u001b[39;00m\n\u001b[0;32m     63\u001b[0m \u001b[39mtry\u001b[39;00m:\n\u001b[1;32m---> 64\u001b[0m   \u001b[39mreturn\u001b[39;00m fn(\u001b[39m*\u001b[39;49margs, \u001b[39m*\u001b[39;49m\u001b[39m*\u001b[39;49mkwargs)\n\u001b[0;32m     65\u001b[0m \u001b[39mexcept\u001b[39;00m \u001b[39mException\u001b[39;00m \u001b[39mas\u001b[39;00m e:  \u001b[39m# pylint: disable=broad-except\u001b[39;00m\n\u001b[0;32m     66\u001b[0m   filtered_tb \u001b[39m=\u001b[39m _process_traceback_frames(e\u001b[39m.\u001b[39m__traceback__)\n",
      "File \u001b[1;32mc:\\Users\\natal\\anaconda3\\lib\\site-packages\\keras\\engine\\base_layer.py:1083\u001b[0m, in \u001b[0;36mLayer.__call__\u001b[1;34m(self, *args, **kwargs)\u001b[0m\n\u001b[0;32m   1079\u001b[0m   inputs \u001b[39m=\u001b[39m \u001b[39mself\u001b[39m\u001b[39m.\u001b[39m_maybe_cast_inputs(inputs, input_list)\n\u001b[0;32m   1081\u001b[0m \u001b[39mwith\u001b[39;00m autocast_variable\u001b[39m.\u001b[39menable_auto_cast_variables(\n\u001b[0;32m   1082\u001b[0m     \u001b[39mself\u001b[39m\u001b[39m.\u001b[39m_compute_dtype_object):\n\u001b[1;32m-> 1083\u001b[0m   outputs \u001b[39m=\u001b[39m call_fn(inputs, \u001b[39m*\u001b[39;49margs, \u001b[39m*\u001b[39;49m\u001b[39m*\u001b[39;49mkwargs)\n\u001b[0;32m   1085\u001b[0m \u001b[39mif\u001b[39;00m \u001b[39mself\u001b[39m\u001b[39m.\u001b[39m_activity_regularizer:\n\u001b[0;32m   1086\u001b[0m   \u001b[39mself\u001b[39m\u001b[39m.\u001b[39m_handle_activity_regularization(inputs, outputs)\n",
      "File \u001b[1;32mc:\\Users\\natal\\anaconda3\\lib\\site-packages\\keras\\utils\\traceback_utils.py:92\u001b[0m, in \u001b[0;36minject_argument_info_in_traceback.<locals>.error_handler\u001b[1;34m(*args, **kwargs)\u001b[0m\n\u001b[0;32m     90\u001b[0m bound_signature \u001b[39m=\u001b[39m \u001b[39mNone\u001b[39;00m\n\u001b[0;32m     91\u001b[0m \u001b[39mtry\u001b[39;00m:\n\u001b[1;32m---> 92\u001b[0m   \u001b[39mreturn\u001b[39;00m fn(\u001b[39m*\u001b[39;49margs, \u001b[39m*\u001b[39;49m\u001b[39m*\u001b[39;49mkwargs)\n\u001b[0;32m     93\u001b[0m \u001b[39mexcept\u001b[39;00m \u001b[39mException\u001b[39;00m \u001b[39mas\u001b[39;00m e:  \u001b[39m# pylint: disable=broad-except\u001b[39;00m\n\u001b[0;32m     94\u001b[0m   \u001b[39mif\u001b[39;00m \u001b[39mhasattr\u001b[39m(e, \u001b[39m'\u001b[39m\u001b[39m_keras_call_info_injected\u001b[39m\u001b[39m'\u001b[39m):\n\u001b[0;32m     95\u001b[0m     \u001b[39m# Only inject info for the innermost failing call\u001b[39;00m\n",
      "File \u001b[1;32mc:\\Users\\natal\\anaconda3\\lib\\site-packages\\keras\\layers\\recurrent_v2.py:1158\u001b[0m, in \u001b[0;36mLSTM.call\u001b[1;34m(self, inputs, mask, training, initial_state)\u001b[0m\n\u001b[0;32m   1155\u001b[0m   \u001b[39mdef\u001b[39;00m \u001b[39mstep\u001b[39m(inputs, states):\n\u001b[0;32m   1156\u001b[0m     \u001b[39mreturn\u001b[39;00m \u001b[39mself\u001b[39m\u001b[39m.\u001b[39mcell(inputs, states, \u001b[39m*\u001b[39m\u001b[39m*\u001b[39mkwargs)\n\u001b[1;32m-> 1158\u001b[0m   last_output, outputs, states \u001b[39m=\u001b[39m backend\u001b[39m.\u001b[39;49mrnn(\n\u001b[0;32m   1159\u001b[0m       step,\n\u001b[0;32m   1160\u001b[0m       inputs,\n\u001b[0;32m   1161\u001b[0m       initial_state,\n\u001b[0;32m   1162\u001b[0m       constants\u001b[39m=\u001b[39;49m\u001b[39mNone\u001b[39;49;00m,\n\u001b[0;32m   1163\u001b[0m       go_backwards\u001b[39m=\u001b[39;49m\u001b[39mself\u001b[39;49m\u001b[39m.\u001b[39;49mgo_backwards,\n\u001b[0;32m   1164\u001b[0m       mask\u001b[39m=\u001b[39;49mmask,\n\u001b[0;32m   1165\u001b[0m       unroll\u001b[39m=\u001b[39;49m\u001b[39mself\u001b[39;49m\u001b[39m.\u001b[39;49munroll,\n\u001b[0;32m   1166\u001b[0m       input_length\u001b[39m=\u001b[39;49mrow_lengths \u001b[39mif\u001b[39;49;00m row_lengths \u001b[39mis\u001b[39;49;00m \u001b[39mnot\u001b[39;49;00m \u001b[39mNone\u001b[39;49;00m \u001b[39melse\u001b[39;49;00m timesteps,\n\u001b[0;32m   1167\u001b[0m       time_major\u001b[39m=\u001b[39;49m\u001b[39mself\u001b[39;49m\u001b[39m.\u001b[39;49mtime_major,\n\u001b[0;32m   1168\u001b[0m       zero_output_for_mask\u001b[39m=\u001b[39;49m\u001b[39mself\u001b[39;49m\u001b[39m.\u001b[39;49mzero_output_for_mask)\n\u001b[0;32m   1169\u001b[0m   runtime \u001b[39m=\u001b[39m _runtime(_RUNTIME_UNKNOWN)\n\u001b[0;32m   1170\u001b[0m \u001b[39melse\u001b[39;00m:\n\u001b[0;32m   1171\u001b[0m   \u001b[39m# Use the new defun approach for backend implementation swap.\u001b[39;00m\n\u001b[0;32m   1172\u001b[0m   \u001b[39m# Note that different implementations need to have same function\u001b[39;00m\n\u001b[0;32m   1173\u001b[0m   \u001b[39m# signature, eg, the tensor parameters need to have same shape and dtypes.\u001b[39;00m\n\u001b[0;32m   1174\u001b[0m   \u001b[39m# Since the cuDNN has an extra set of bias, those bias will be passed to\u001b[39;00m\n\u001b[0;32m   1175\u001b[0m   \u001b[39m# both normal and cuDNN implementations.\u001b[39;00m\n",
      "File \u001b[1;32mc:\\Users\\natal\\anaconda3\\lib\\site-packages\\tensorflow\\python\\util\\traceback_utils.py:150\u001b[0m, in \u001b[0;36mfilter_traceback.<locals>.error_handler\u001b[1;34m(*args, **kwargs)\u001b[0m\n\u001b[0;32m    148\u001b[0m filtered_tb \u001b[39m=\u001b[39m \u001b[39mNone\u001b[39;00m\n\u001b[0;32m    149\u001b[0m \u001b[39mtry\u001b[39;00m:\n\u001b[1;32m--> 150\u001b[0m   \u001b[39mreturn\u001b[39;00m fn(\u001b[39m*\u001b[39;49margs, \u001b[39m*\u001b[39;49m\u001b[39m*\u001b[39;49mkwargs)\n\u001b[0;32m    151\u001b[0m \u001b[39mexcept\u001b[39;00m \u001b[39mException\u001b[39;00m \u001b[39mas\u001b[39;00m e:\n\u001b[0;32m    152\u001b[0m   filtered_tb \u001b[39m=\u001b[39m _process_traceback_frames(e\u001b[39m.\u001b[39m__traceback__)\n",
      "File \u001b[1;32mc:\\Users\\natal\\anaconda3\\lib\\site-packages\\tensorflow\\python\\util\\dispatch.py:1096\u001b[0m, in \u001b[0;36madd_dispatch_support.<locals>.decorator.<locals>.op_dispatch_handler\u001b[1;34m(*args, **kwargs)\u001b[0m\n\u001b[0;32m   1094\u001b[0m \u001b[39m# Fallback dispatch system (dispatch v1):\u001b[39;00m\n\u001b[0;32m   1095\u001b[0m \u001b[39mtry\u001b[39;00m:\n\u001b[1;32m-> 1096\u001b[0m   \u001b[39mreturn\u001b[39;00m dispatch_target(\u001b[39m*\u001b[39;49margs, \u001b[39m*\u001b[39;49m\u001b[39m*\u001b[39;49mkwargs)\n\u001b[0;32m   1097\u001b[0m \u001b[39mexcept\u001b[39;00m (\u001b[39mTypeError\u001b[39;00m, \u001b[39mValueError\u001b[39;00m):\n\u001b[0;32m   1098\u001b[0m   \u001b[39m# Note: convert_to_eager_tensor currently raises a ValueError, not a\u001b[39;00m\n\u001b[0;32m   1099\u001b[0m   \u001b[39m# TypeError, when given unexpected types.  So we need to catch both.\u001b[39;00m\n\u001b[0;32m   1100\u001b[0m   result \u001b[39m=\u001b[39m dispatch(op_dispatch_handler, args, kwargs)\n",
      "File \u001b[1;32mc:\\Users\\natal\\anaconda3\\lib\\site-packages\\keras\\backend.py:4491\u001b[0m, in \u001b[0;36mrnn\u001b[1;34m(step_function, inputs, initial_states, go_backwards, mask, constants, unroll, input_length, time_major, zero_output_for_mask)\u001b[0m\n\u001b[0;32m   4486\u001b[0m states \u001b[39m=\u001b[39m \u001b[39mtuple\u001b[39m(initial_states)\n\u001b[0;32m   4488\u001b[0m \u001b[39m# Create input tensor array, if the inputs is nested tensors, then it will\u001b[39;00m\n\u001b[0;32m   4489\u001b[0m \u001b[39m# be flattened first, and tensor array will be created one per flattened\u001b[39;00m\n\u001b[0;32m   4490\u001b[0m \u001b[39m# tensor.\u001b[39;00m\n\u001b[1;32m-> 4491\u001b[0m input_ta \u001b[39m=\u001b[39m \u001b[39mtuple\u001b[39;49m(\n\u001b[0;32m   4492\u001b[0m     tf\u001b[39m.\u001b[39;49mTensorArray(\n\u001b[0;32m   4493\u001b[0m         dtype\u001b[39m=\u001b[39;49minp\u001b[39m.\u001b[39;49mdtype,\n\u001b[0;32m   4494\u001b[0m         size\u001b[39m=\u001b[39;49mtime_steps_t,\n\u001b[0;32m   4495\u001b[0m         tensor_array_name\u001b[39m=\u001b[39;49m\u001b[39m'\u001b[39;49m\u001b[39minput_ta_\u001b[39;49m\u001b[39m%s\u001b[39;49;00m\u001b[39m'\u001b[39;49m \u001b[39m%\u001b[39;49m i)\n\u001b[0;32m   4496\u001b[0m     \u001b[39mfor\u001b[39;49;00m i, inp \u001b[39min\u001b[39;49;00m \u001b[39menumerate\u001b[39;49m(flatted_inputs))\n\u001b[0;32m   4497\u001b[0m input_ta \u001b[39m=\u001b[39m \u001b[39mtuple\u001b[39m(\n\u001b[0;32m   4498\u001b[0m     ta\u001b[39m.\u001b[39munstack(input_) \u001b[39mif\u001b[39;00m \u001b[39mnot\u001b[39;00m go_backwards \u001b[39melse\u001b[39;00m ta\n\u001b[0;32m   4499\u001b[0m     \u001b[39m.\u001b[39munstack(reverse(input_, \u001b[39m0\u001b[39m))\n\u001b[0;32m   4500\u001b[0m     \u001b[39mfor\u001b[39;00m ta, input_ \u001b[39min\u001b[39;00m \u001b[39mzip\u001b[39m(input_ta, flatted_inputs))\n\u001b[0;32m   4502\u001b[0m \u001b[39m# Get the time(0) input and compute the output for that, the output will be\u001b[39;00m\n\u001b[0;32m   4503\u001b[0m \u001b[39m# used to determine the dtype of output tensor array. Don't read from\u001b[39;00m\n\u001b[0;32m   4504\u001b[0m \u001b[39m# input_ta due to TensorArray clear_after_read default to True.\u001b[39;00m\n",
      "File \u001b[1;32mc:\\Users\\natal\\anaconda3\\lib\\site-packages\\keras\\backend.py:4492\u001b[0m, in \u001b[0;36m<genexpr>\u001b[1;34m(.0)\u001b[0m\n\u001b[0;32m   4486\u001b[0m states \u001b[39m=\u001b[39m \u001b[39mtuple\u001b[39m(initial_states)\n\u001b[0;32m   4488\u001b[0m \u001b[39m# Create input tensor array, if the inputs is nested tensors, then it will\u001b[39;00m\n\u001b[0;32m   4489\u001b[0m \u001b[39m# be flattened first, and tensor array will be created one per flattened\u001b[39;00m\n\u001b[0;32m   4490\u001b[0m \u001b[39m# tensor.\u001b[39;00m\n\u001b[0;32m   4491\u001b[0m input_ta \u001b[39m=\u001b[39m \u001b[39mtuple\u001b[39m(\n\u001b[1;32m-> 4492\u001b[0m     tf\u001b[39m.\u001b[39;49mTensorArray(\n\u001b[0;32m   4493\u001b[0m         dtype\u001b[39m=\u001b[39;49minp\u001b[39m.\u001b[39;49mdtype,\n\u001b[0;32m   4494\u001b[0m         size\u001b[39m=\u001b[39;49mtime_steps_t,\n\u001b[0;32m   4495\u001b[0m         tensor_array_name\u001b[39m=\u001b[39;49m\u001b[39m'\u001b[39;49m\u001b[39minput_ta_\u001b[39;49m\u001b[39m%s\u001b[39;49;00m\u001b[39m'\u001b[39;49m \u001b[39m%\u001b[39;49m i)\n\u001b[0;32m   4496\u001b[0m     \u001b[39mfor\u001b[39;00m i, inp \u001b[39min\u001b[39;00m \u001b[39menumerate\u001b[39m(flatted_inputs))\n\u001b[0;32m   4497\u001b[0m input_ta \u001b[39m=\u001b[39m \u001b[39mtuple\u001b[39m(\n\u001b[0;32m   4498\u001b[0m     ta\u001b[39m.\u001b[39munstack(input_) \u001b[39mif\u001b[39;00m \u001b[39mnot\u001b[39;00m go_backwards \u001b[39melse\u001b[39;00m ta\n\u001b[0;32m   4499\u001b[0m     \u001b[39m.\u001b[39munstack(reverse(input_, \u001b[39m0\u001b[39m))\n\u001b[0;32m   4500\u001b[0m     \u001b[39mfor\u001b[39;00m ta, input_ \u001b[39min\u001b[39;00m \u001b[39mzip\u001b[39m(input_ta, flatted_inputs))\n\u001b[0;32m   4502\u001b[0m \u001b[39m# Get the time(0) input and compute the output for that, the output will be\u001b[39;00m\n\u001b[0;32m   4503\u001b[0m \u001b[39m# used to determine the dtype of output tensor array. Don't read from\u001b[39;00m\n\u001b[0;32m   4504\u001b[0m \u001b[39m# input_ta due to TensorArray clear_after_read default to True.\u001b[39;00m\n",
      "File \u001b[1;32mc:\\Users\\natal\\anaconda3\\lib\\site-packages\\tensorflow\\python\\ops\\tensor_array_ops.py:1082\u001b[0m, in \u001b[0;36mTensorArray.__init__\u001b[1;34m(self, dtype, size, dynamic_size, clear_after_read, tensor_array_name, handle, flow, infer_shape, element_shape, colocate_with_first_write_call, name)\u001b[0m\n\u001b[0;32m   1080\u001b[0m \u001b[39melse\u001b[39;00m:\n\u001b[0;32m   1081\u001b[0m   implementation \u001b[39m=\u001b[39m _GraphTensorArray\n\u001b[1;32m-> 1082\u001b[0m \u001b[39mself\u001b[39m\u001b[39m.\u001b[39m_implementation \u001b[39m=\u001b[39m implementation(\n\u001b[0;32m   1083\u001b[0m     dtype,\n\u001b[0;32m   1084\u001b[0m     size\u001b[39m=\u001b[39;49msize,\n\u001b[0;32m   1085\u001b[0m     dynamic_size\u001b[39m=\u001b[39;49mdynamic_size,\n\u001b[0;32m   1086\u001b[0m     clear_after_read\u001b[39m=\u001b[39;49mclear_after_read,\n\u001b[0;32m   1087\u001b[0m     tensor_array_name\u001b[39m=\u001b[39;49mtensor_array_name,\n\u001b[0;32m   1088\u001b[0m     handle\u001b[39m=\u001b[39;49mhandle,\n\u001b[0;32m   1089\u001b[0m     flow\u001b[39m=\u001b[39;49mflow,\n\u001b[0;32m   1090\u001b[0m     infer_shape\u001b[39m=\u001b[39;49minfer_shape,\n\u001b[0;32m   1091\u001b[0m     element_shape\u001b[39m=\u001b[39;49melement_shape,\n\u001b[0;32m   1092\u001b[0m     colocate_with_first_write_call\u001b[39m=\u001b[39;49mcolocate_with_first_write_call,\n\u001b[0;32m   1093\u001b[0m     name\u001b[39m=\u001b[39;49mname)\n\u001b[0;32m   1095\u001b[0m \u001b[39mself\u001b[39m\u001b[39m.\u001b[39m_implementation\u001b[39m.\u001b[39mparent \u001b[39m=\u001b[39m weakref\u001b[39m.\u001b[39mref(\u001b[39mself\u001b[39m)\n",
      "File \u001b[1;32mc:\\Users\\natal\\anaconda3\\lib\\site-packages\\tensorflow\\python\\ops\\tensor_array_ops.py:475\u001b[0m, in \u001b[0;36m_GraphTensorArrayV2.__init__\u001b[1;34m(***failed resolving arguments***)\u001b[0m\n\u001b[0;32m    473\u001b[0m \u001b[39mwith\u001b[39;00m ops\u001b[39m.\u001b[39mname_scope(name, \u001b[39m\"\u001b[39m\u001b[39mTensorArrayV2\u001b[39m\u001b[39m\"\u001b[39m, [size, flow]) \u001b[39mas\u001b[39;00m scope:\n\u001b[0;32m    474\u001b[0m   \u001b[39mif\u001b[39;00m flow \u001b[39mis\u001b[39;00m \u001b[39mNone\u001b[39;00m:\n\u001b[1;32m--> 475\u001b[0m     \u001b[39mself\u001b[39m\u001b[39m.\u001b[39m_flow \u001b[39m=\u001b[39m list_ops\u001b[39m.\u001b[39;49mtensor_list_reserve(\n\u001b[0;32m    476\u001b[0m         element_shape\u001b[39m=\u001b[39;49melement_shape,\n\u001b[0;32m    477\u001b[0m         num_elements\u001b[39m=\u001b[39;49msize,\n\u001b[0;32m    478\u001b[0m         element_dtype\u001b[39m=\u001b[39;49mdtype,\n\u001b[0;32m    479\u001b[0m         name\u001b[39m=\u001b[39;49mscope)\n\u001b[0;32m    480\u001b[0m   \u001b[39melse\u001b[39;00m:\n\u001b[0;32m    481\u001b[0m     \u001b[39mself\u001b[39m\u001b[39m.\u001b[39m_flow \u001b[39m=\u001b[39m flow\n",
      "File \u001b[1;32mc:\\Users\\natal\\anaconda3\\lib\\site-packages\\tensorflow\\python\\ops\\list_ops.py:86\u001b[0m, in \u001b[0;36mtensor_list_reserve\u001b[1;34m(element_shape, num_elements, element_dtype, name)\u001b[0m\n\u001b[0;32m     85\u001b[0m \u001b[39mdef\u001b[39;00m \u001b[39mtensor_list_reserve\u001b[39m(element_shape, num_elements, element_dtype, name\u001b[39m=\u001b[39m\u001b[39mNone\u001b[39;00m):\n\u001b[1;32m---> 86\u001b[0m   result \u001b[39m=\u001b[39m gen_list_ops\u001b[39m.\u001b[39;49mtensor_list_reserve(\n\u001b[0;32m     87\u001b[0m       element_shape\u001b[39m=\u001b[39;49m_build_element_shape(element_shape),\n\u001b[0;32m     88\u001b[0m       num_elements\u001b[39m=\u001b[39;49mnum_elements,\n\u001b[0;32m     89\u001b[0m       element_dtype\u001b[39m=\u001b[39;49melement_dtype,\n\u001b[0;32m     90\u001b[0m       name\u001b[39m=\u001b[39;49mname)\n\u001b[0;32m     91\u001b[0m   \u001b[39m# TODO(b/169968286): gen_ops needs to ensure the metadata is properly\u001b[39;00m\n\u001b[0;32m     92\u001b[0m   \u001b[39m# populated for eager operations.\u001b[39;00m\n\u001b[0;32m     93\u001b[0m   _set_handle_data(result, element_shape, element_dtype)\n",
      "File \u001b[1;32mc:\\Users\\natal\\anaconda3\\lib\\site-packages\\tensorflow\\python\\ops\\gen_list_ops.py:886\u001b[0m, in \u001b[0;36mtensor_list_reserve\u001b[1;34m(element_shape, num_elements, element_dtype, name)\u001b[0m\n\u001b[0;32m    884\u001b[0m \u001b[39m# Add nodes to the TensorFlow graph.\u001b[39;00m\n\u001b[0;32m    885\u001b[0m element_dtype \u001b[39m=\u001b[39m _execute\u001b[39m.\u001b[39mmake_type(element_dtype, \u001b[39m\"\u001b[39m\u001b[39melement_dtype\u001b[39m\u001b[39m\"\u001b[39m)\n\u001b[1;32m--> 886\u001b[0m _, _, _op, _outputs \u001b[39m=\u001b[39m _op_def_library\u001b[39m.\u001b[39;49m_apply_op_helper(\n\u001b[0;32m    887\u001b[0m       \u001b[39m\"\u001b[39;49m\u001b[39mTensorListReserve\u001b[39;49m\u001b[39m\"\u001b[39;49m, element_shape\u001b[39m=\u001b[39;49melement_shape,\n\u001b[0;32m    888\u001b[0m                            num_elements\u001b[39m=\u001b[39;49mnum_elements,\n\u001b[0;32m    889\u001b[0m                            element_dtype\u001b[39m=\u001b[39;49melement_dtype, name\u001b[39m=\u001b[39;49mname)\n\u001b[0;32m    890\u001b[0m _result \u001b[39m=\u001b[39m _outputs[:]\n\u001b[0;32m    891\u001b[0m \u001b[39mif\u001b[39;00m _execute\u001b[39m.\u001b[39mmust_record_gradient():\n",
      "File \u001b[1;32mc:\\Users\\natal\\anaconda3\\lib\\site-packages\\tensorflow\\python\\framework\\op_def_library.py:744\u001b[0m, in \u001b[0;36m_apply_op_helper\u001b[1;34m(op_type_name, name, **keywords)\u001b[0m\n\u001b[0;32m    739\u001b[0m must_colocate_inputs \u001b[39m=\u001b[39m [val \u001b[39mfor\u001b[39;00m arg, val \u001b[39min\u001b[39;00m \u001b[39mzip\u001b[39m(op_def\u001b[39m.\u001b[39minput_arg, inputs)\n\u001b[0;32m    740\u001b[0m                         \u001b[39mif\u001b[39;00m arg\u001b[39m.\u001b[39mis_ref]\n\u001b[0;32m    741\u001b[0m \u001b[39mwith\u001b[39;00m _MaybeColocateWith(must_colocate_inputs):\n\u001b[0;32m    742\u001b[0m   \u001b[39m# Add Op to graph\u001b[39;00m\n\u001b[0;32m    743\u001b[0m   \u001b[39m# pylint: disable=protected-access\u001b[39;00m\n\u001b[1;32m--> 744\u001b[0m   op \u001b[39m=\u001b[39m g\u001b[39m.\u001b[39;49m_create_op_internal(op_type_name, inputs, dtypes\u001b[39m=\u001b[39;49m\u001b[39mNone\u001b[39;49;00m,\n\u001b[0;32m    745\u001b[0m                              name\u001b[39m=\u001b[39;49mscope, input_types\u001b[39m=\u001b[39;49minput_types,\n\u001b[0;32m    746\u001b[0m                              attrs\u001b[39m=\u001b[39;49mattr_protos, op_def\u001b[39m=\u001b[39;49mop_def)\n\u001b[0;32m    748\u001b[0m \u001b[39m# `outputs` is returned as a separate return value so that the output\u001b[39;00m\n\u001b[0;32m    749\u001b[0m \u001b[39m# tensors can the `op` per se can be decoupled so that the\u001b[39;00m\n\u001b[0;32m    750\u001b[0m \u001b[39m# `op_callbacks` can function properly. See framework/op_callbacks.py\u001b[39;00m\n\u001b[0;32m    751\u001b[0m \u001b[39m# for more details.\u001b[39;00m\n\u001b[0;32m    752\u001b[0m outputs \u001b[39m=\u001b[39m op\u001b[39m.\u001b[39moutputs\n",
      "File \u001b[1;32mc:\\Users\\natal\\anaconda3\\lib\\site-packages\\tensorflow\\python\\framework\\func_graph.py:689\u001b[0m, in \u001b[0;36mFuncGraph._create_op_internal\u001b[1;34m(self, op_type, inputs, dtypes, input_types, name, attrs, op_def, compute_device)\u001b[0m\n\u001b[0;32m    687\u001b[0m   inp \u001b[39m=\u001b[39m \u001b[39mself\u001b[39m\u001b[39m.\u001b[39mcapture(inp)\n\u001b[0;32m    688\u001b[0m   captured_inputs\u001b[39m.\u001b[39mappend(inp)\n\u001b[1;32m--> 689\u001b[0m \u001b[39mreturn\u001b[39;00m \u001b[39msuper\u001b[39;49m(FuncGraph, \u001b[39mself\u001b[39;49m)\u001b[39m.\u001b[39;49m_create_op_internal(  \u001b[39m# pylint: disable=protected-access\u001b[39;49;00m\n\u001b[0;32m    690\u001b[0m     op_type, captured_inputs, dtypes, input_types, name, attrs, op_def,\n\u001b[0;32m    691\u001b[0m     compute_device)\n",
      "File \u001b[1;32mc:\\Users\\natal\\anaconda3\\lib\\site-packages\\tensorflow\\python\\framework\\ops.py:3697\u001b[0m, in \u001b[0;36mGraph._create_op_internal\u001b[1;34m(self, op_type, inputs, dtypes, input_types, name, attrs, op_def, compute_device)\u001b[0m\n\u001b[0;32m   3694\u001b[0m \u001b[39m# _create_op_helper mutates the new Operation. `_mutation_lock` ensures a\u001b[39;00m\n\u001b[0;32m   3695\u001b[0m \u001b[39m# Session.run call cannot occur between creating and mutating the op.\u001b[39;00m\n\u001b[0;32m   3696\u001b[0m \u001b[39mwith\u001b[39;00m \u001b[39mself\u001b[39m\u001b[39m.\u001b[39m_mutation_lock():\n\u001b[1;32m-> 3697\u001b[0m   ret \u001b[39m=\u001b[39m Operation(\n\u001b[0;32m   3698\u001b[0m       node_def,\n\u001b[0;32m   3699\u001b[0m       \u001b[39mself\u001b[39;49m,\n\u001b[0;32m   3700\u001b[0m       inputs\u001b[39m=\u001b[39;49minputs,\n\u001b[0;32m   3701\u001b[0m       output_types\u001b[39m=\u001b[39;49mdtypes,\n\u001b[0;32m   3702\u001b[0m       control_inputs\u001b[39m=\u001b[39;49mcontrol_inputs,\n\u001b[0;32m   3703\u001b[0m       input_types\u001b[39m=\u001b[39;49minput_types,\n\u001b[0;32m   3704\u001b[0m       original_op\u001b[39m=\u001b[39;49m\u001b[39mself\u001b[39;49m\u001b[39m.\u001b[39;49m_default_original_op,\n\u001b[0;32m   3705\u001b[0m       op_def\u001b[39m=\u001b[39;49mop_def)\n\u001b[0;32m   3706\u001b[0m   \u001b[39mself\u001b[39m\u001b[39m.\u001b[39m_create_op_helper(ret, compute_device\u001b[39m=\u001b[39mcompute_device)\n\u001b[0;32m   3707\u001b[0m \u001b[39mreturn\u001b[39;00m ret\n",
      "File \u001b[1;32mc:\\Users\\natal\\anaconda3\\lib\\site-packages\\tensorflow\\python\\framework\\ops.py:2097\u001b[0m, in \u001b[0;36mOperation.__init__\u001b[1;34m(self, node_def, g, inputs, output_types, control_inputs, input_types, original_op, op_def)\u001b[0m\n\u001b[0;32m   2095\u001b[0m   \u001b[39mif\u001b[39;00m op_def \u001b[39mis\u001b[39;00m \u001b[39mNone\u001b[39;00m:\n\u001b[0;32m   2096\u001b[0m     op_def \u001b[39m=\u001b[39m \u001b[39mself\u001b[39m\u001b[39m.\u001b[39m_graph\u001b[39m.\u001b[39m_get_op_def(node_def\u001b[39m.\u001b[39mop)\n\u001b[1;32m-> 2097\u001b[0m   \u001b[39mself\u001b[39m\u001b[39m.\u001b[39m_c_op \u001b[39m=\u001b[39m _create_c_op(\u001b[39mself\u001b[39;49m\u001b[39m.\u001b[39;49m_graph, node_def, inputs,\n\u001b[0;32m   2098\u001b[0m                             control_input_ops, op_def)\n\u001b[0;32m   2099\u001b[0m   name \u001b[39m=\u001b[39m compat\u001b[39m.\u001b[39mas_str(node_def\u001b[39m.\u001b[39mname)\n\u001b[0;32m   2101\u001b[0m \u001b[39mself\u001b[39m\u001b[39m.\u001b[39m_traceback \u001b[39m=\u001b[39m tf_stack\u001b[39m.\u001b[39mextract_stack_for_node(\u001b[39mself\u001b[39m\u001b[39m.\u001b[39m_c_op)\n",
      "File \u001b[1;32mc:\\Users\\natal\\anaconda3\\lib\\site-packages\\tensorflow\\python\\util\\traceback_utils.py:150\u001b[0m, in \u001b[0;36mfilter_traceback.<locals>.error_handler\u001b[1;34m(*args, **kwargs)\u001b[0m\n\u001b[0;32m    148\u001b[0m filtered_tb \u001b[39m=\u001b[39m \u001b[39mNone\u001b[39;00m\n\u001b[0;32m    149\u001b[0m \u001b[39mtry\u001b[39;00m:\n\u001b[1;32m--> 150\u001b[0m   \u001b[39mreturn\u001b[39;00m fn(\u001b[39m*\u001b[39;49margs, \u001b[39m*\u001b[39;49m\u001b[39m*\u001b[39;49mkwargs)\n\u001b[0;32m    151\u001b[0m \u001b[39mexcept\u001b[39;00m \u001b[39mException\u001b[39;00m \u001b[39mas\u001b[39;00m e:\n\u001b[0;32m    152\u001b[0m   filtered_tb \u001b[39m=\u001b[39m _process_traceback_frames(e\u001b[39m.\u001b[39m__traceback__)\n",
      "File \u001b[1;32mc:\\Users\\natal\\anaconda3\\lib\\site-packages\\tensorflow\\python\\framework\\ops.py:1909\u001b[0m, in \u001b[0;36m_create_c_op\u001b[1;34m(graph, node_def, inputs, control_inputs, op_def)\u001b[0m\n\u001b[0;32m   1907\u001b[0m inputs \u001b[39m=\u001b[39m _reconstruct_sequence_inputs(op_def, inputs, node_def\u001b[39m.\u001b[39mattr)\n\u001b[0;32m   1908\u001b[0m \u001b[39m# pylint: disable=protected-access\u001b[39;00m\n\u001b[1;32m-> 1909\u001b[0m op_desc \u001b[39m=\u001b[39m pywrap_tf_session\u001b[39m.\u001b[39;49mTF_NewOperation(graph\u001b[39m.\u001b[39;49m_c_graph,\n\u001b[0;32m   1910\u001b[0m                                             compat\u001b[39m.\u001b[39;49mas_str(node_def\u001b[39m.\u001b[39;49mop),\n\u001b[0;32m   1911\u001b[0m                                             compat\u001b[39m.\u001b[39;49mas_str(node_def\u001b[39m.\u001b[39;49mname))\n\u001b[0;32m   1912\u001b[0m \u001b[39mif\u001b[39;00m node_def\u001b[39m.\u001b[39mdevice:\n\u001b[0;32m   1913\u001b[0m   pywrap_tf_session\u001b[39m.\u001b[39mTF_SetDevice(op_desc, compat\u001b[39m.\u001b[39mas_str(node_def\u001b[39m.\u001b[39mdevice))\n",
      "\u001b[1;31mKeyboardInterrupt\u001b[0m: "
     ]
    }
   ],
   "source": [
    "model2 = Sequential()\n",
    "model2.add(Embedding(total_words, 100, input_length=maxlen))\n",
    "model2.add(Bidirectional(LSTM(64, dropout=0.1, recurrent_dropout=0.10, activation='tanh', return_sequences=True)))\n",
    "model2.add(Bidirectional(LSTM(64, dropout=0.2, recurrent_dropout=0.20, activation='tanh', return_sequences=True)))\n",
    "model2.add(Bidirectional(SimpleRNN(64, dropout=0.2, recurrent_dropout=0.20, activation='tanh', return_sequences=True)))\n",
    "model2.add(Conv1D(72, 3, activation='relu'))\n",
    "model2.add(MaxPooling1D(2))\n",
    "model2.add(SimpleRNN(64, activation='tanh', dropout=0.2, recurrent_dropout=0.20, return_sequences=True))\n",
    "model2.add(GRU(64, recurrent_dropout=0.20, recurrent_regularizer='l1_l2'))\n",
    "model2.add(Dropout(0.2))\n",
    "model2.add(Dense(42, activation='softmax'))\n",
    "model2.summary()"
   ]
  },
  {
   "cell_type": "code",
   "execution_count": null,
   "metadata": {},
   "outputs": [
    {
     "name": "stdout",
     "output_type": "stream",
     "text": [
      "Epoch 1/15\n",
      "1310/1310 [==============================] - 370s 260ms/step - loss: 1.7140 - accuracy: 0.5270\n",
      "Epoch 2/15\n",
      "1310/1310 [==============================] - 348s 266ms/step - loss: 1.1365 - accuracy: 0.6607\n",
      "Epoch 3/15\n",
      "1310/1310 [==============================] - 341s 260ms/step - loss: 1.0115 - accuracy: 0.7009\n",
      "Epoch 4/15\n",
      "1310/1310 [==============================] - 333s 254ms/step - loss: 0.9373 - accuracy: 0.7258\n",
      "Epoch 5/15\n",
      "1310/1310 [==============================] - 331s 253ms/step - loss: 0.8782 - accuracy: 0.7447\n",
      "Epoch 6/15\n",
      "1310/1310 [==============================] - 338s 258ms/step - loss: 0.8296 - accuracy: 0.7610\n",
      "Epoch 7/15\n",
      "1310/1310 [==============================] - 336s 256ms/step - loss: 0.7845 - accuracy: 0.7773\n",
      "Epoch 8/15\n",
      "1310/1310 [==============================] - 336s 257ms/step - loss: 0.7475 - accuracy: 0.7897\n",
      "Epoch 9/15\n",
      "1310/1310 [==============================] - 351s 268ms/step - loss: 0.7126 - accuracy: 0.8008\n",
      "Epoch 10/15\n",
      "1310/1310 [==============================] - 367s 280ms/step - loss: 0.6852 - accuracy: 0.8106\n",
      "Epoch 11/15\n",
      "1310/1310 [==============================] - 354s 270ms/step - loss: 0.6597 - accuracy: 0.8186\n",
      "Epoch 12/15\n",
      "1310/1310 [==============================] - 367s 280ms/step - loss: 0.6374 - accuracy: 0.8258\n",
      "Epoch 13/15\n",
      "1310/1310 [==============================] - 381s 291ms/step - loss: 0.6168 - accuracy: 0.8329\n",
      "Epoch 14/15\n",
      "1310/1310 [==============================] - 363s 277ms/step - loss: 0.5986 - accuracy: 0.8380\n",
      "Epoch 15/15\n",
      "1310/1310 [==============================] - 339s 259ms/step - loss: 0.5837 - accuracy: 0.8433\n",
      "test loss and accuracy: 3.442798137664795 0.1953466236591339\n"
     ]
    }
   ],
   "source": [
    "model2.compile(optimizer='rmsprop',\n",
    "            loss='categorical_crossentropy',\n",
    "            metrics=['accuracy']\n",
    "            )\n",
    "#SETUP A EARLY STOPPING CALL and model check point API\n",
    "earlystopping = keras.callbacks.EarlyStopping(monitor='accuracy',\n",
    "                                             patience=5,\n",
    "                                              verbose=1,\n",
    "                                              mode='min'\n",
    "                                             )\n",
    "checkpointer = ModelCheckpoint(filepath='bestvalue',moniter='val_loss', verbose=0, save_best_only=True)\n",
    "callback_list = [checkpointer, earlystopping]\n",
    "callback_list = [earlystopping]\n",
    "\n",
    "# fit model to the data\n",
    "history2 = model2.fit(train_padseq, Y_train, \n",
    "                   batch_size=128, \n",
    "                    epochs=15,\n",
    "                    validation_split=0.2\n",
    "                   )"
   ]
  },
  {
   "cell_type": "code",
   "execution_count": 10,
   "metadata": {},
   "outputs": [
    {
     "ename": "NameError",
     "evalue": "name 'plot_loss_accuracy' is not defined",
     "output_type": "error",
     "traceback": [
      "\u001b[1;31m---------------------------------------------------------------------------\u001b[0m",
      "\u001b[1;31mNameError\u001b[0m                                 Traceback (most recent call last)",
      "\u001b[1;32md:\\CU BOULDER\\CSCI5922_NN\\FinalProject\\Semantical_Clustering_Data_Classification_Model\\scripts\\models_model2_headlines_superclassesOK.ipynb Cell 19\u001b[0m in \u001b[0;36m<cell line: 1>\u001b[1;34m()\u001b[0m\n\u001b[1;32m----> <a href='vscode-notebook-cell:/d%3A/CU%20BOULDER/CSCI5922_NN/FinalProject/Semantical_Clustering_Data_Classification_Model/scripts/models_model2_headlines_superclassesOK.ipynb#X24sZmlsZQ%3D%3D?line=0'>1</a>\u001b[0m plot_loss_accuracy(history2)\n",
      "\u001b[1;31mNameError\u001b[0m: name 'plot_loss_accuracy' is not defined"
     ]
    }
   ],
   "source": [
    "# evalute the model\n",
    "test_loss, test_acc = model2.evaluate(test_padseq, Y_test, verbose=0)\n",
    "print(\"Test loss and accuracy:\", test_loss, test_acc)\n",
    "\n",
    "plot_loss_accuracy(history2)\n",
    "\n",
    "Y_pred = model2.predict(test_padseq)\n",
    "Y_pred = np.argmax(Y_pred,axis=1)\n",
    "Y_test = np.argmax(Y_test,axis=1)\n",
    "print(Y_test.shape, Y_pred.shape)\n",
    "print(Y_test[:5], Y_pred[:5])\n",
    "\n",
    "print(classification_report(Y_test, Y_pred))\n",
    "\n",
    "plt.figure(figsize=(10, 10))\n",
    "sns.heatmap(confusion_matrix(Y_test, Y_pred), annot=True);\n",
    "plt.title('Confusion Matrix', fontsize=20);"
   ]
  },
  {
   "cell_type": "markdown",
   "metadata": {},
   "source": [
    "Stopped: \n",
    "\n",
    "Best training accuracy:\n",
    "\n",
    "Best validation accuracy: \n",
    "\n",
    "Test accuracy:\n",
    "\n",
    "Training time:"
   ]
  },
  {
   "cell_type": "markdown",
   "metadata": {},
   "source": [
    "# EXPERIMENT ORDER 3"
   ]
  },
  {
   "cell_type": "code",
   "execution_count": 12,
   "metadata": {},
   "outputs": [
    {
     "name": "stdout",
     "output_type": "stream",
     "text": [
      "shape of input data:  (167616,)\n",
      "shape of target variable:  (167616,)\n",
      "Length of word index: 53645\n"
     ]
    }
   ],
   "source": [
    "# ORDER 3 TRAIN DATA\n",
    "X_train = X3_train\n",
    "Y_train = Y3_train\n",
    "\n",
    "# one hot encoding using keras tokenizer and pad sequencing\n",
    "encoder = LabelEncoder()\n",
    "Y_train = encoder.fit_transform(Y_train)\n",
    "print(\"shape of input data: \", X_train.shape)\n",
    "print(\"shape of target variable: \", Y_train.shape)\n",
    "\n",
    "tokenizer = Tokenizer(num_words=1000000, oov_token='<00V>') \n",
    "tokenizer.fit_on_texts(X_train) # build the word index\n",
    "# padding X_train text input data\n",
    "train_seq = tokenizer.texts_to_sequences(X_train) # converts strinfs into integer lists\n",
    "train_padseq = pad_sequences(train_seq, maxlen=20) # pads the integer lists to 2D integer tensor \n",
    "\n",
    "word_index = tokenizer.word_index\n",
    "max_words = 15000000  # total number of words to consider in embedding layer\n",
    "total_words = len(word_index) + 1000\n",
    "maxlen = 20 # max length of sequence \n",
    "Y_train = to_categorical(Y_train, num_classes=42)\n",
    "print(\"Length of word index:\", total_words)"
   ]
  },
  {
   "cell_type": "markdown",
   "metadata": {},
   "source": [
    "### Model 2, training using Conv1D, Bi-directional RNN, LSTMs and GRU layer"
   ]
  },
  {
   "cell_type": "code",
   "execution_count": 13,
   "metadata": {},
   "outputs": [
    {
     "name": "stdout",
     "output_type": "stream",
     "text": [
      "Model: \"sequential_2\"\n",
      "_________________________________________________________________\n",
      " Layer (type)                Output Shape              Param #   \n",
      "=================================================================\n",
      " embedding_2 (Embedding)     (None, 20, 100)           5364500   \n",
      "                                                                 \n",
      " bidirectional_5 (Bidirectio  (None, 20, 128)          84480     \n",
      " nal)                                                            \n",
      "                                                                 \n",
      " bidirectional_6 (Bidirectio  (None, 20, 128)          98816     \n",
      " nal)                                                            \n",
      "                                                                 \n",
      " bidirectional_7 (Bidirectio  (None, 20, 128)          24704     \n",
      " nal)                                                            \n",
      "                                                                 \n",
      " conv1d_1 (Conv1D)           (None, 18, 72)            27720     \n",
      "                                                                 \n",
      " max_pooling1d_1 (MaxPooling  (None, 9, 72)            0         \n",
      " 1D)                                                             \n",
      "                                                                 \n",
      " simple_rnn_3 (SimpleRNN)    (None, 9, 64)             8768      \n",
      "                                                                 \n",
      " gru_1 (GRU)                 (None, 64)                24960     \n",
      "                                                                 \n",
      " dropout_1 (Dropout)         (None, 64)                0         \n",
      "                                                                 \n",
      " dense_1 (Dense)             (None, 9)                 585       \n",
      "                                                                 \n",
      "=================================================================\n",
      "Total params: 5,634,533\n",
      "Trainable params: 5,634,533\n",
      "Non-trainable params: 0\n",
      "_________________________________________________________________\n"
     ]
    }
   ],
   "source": [
    "model3 = Sequential()\n",
    "model3.add(Embedding(total_words, 100, input_length=maxlen))\n",
    "model3.add(Bidirectional(LSTM(64, dropout=0.1, recurrent_dropout=0.10, activation='tanh', return_sequences=True)))\n",
    "model3.add(Bidirectional(LSTM(64, dropout=0.2, recurrent_dropout=0.20, activation='tanh', return_sequences=True)))\n",
    "model3.add(Bidirectional(SimpleRNN(64, dropout=0.2, recurrent_dropout=0.20, activation='tanh', return_sequences=True)))\n",
    "model3.add(Conv1D(72, 3, activation='relu'))\n",
    "model3.add(MaxPooling1D(2))\n",
    "model3.add(SimpleRNN(64, activation='tanh', dropout=0.2, recurrent_dropout=0.20, return_sequences=True))\n",
    "model3.add(GRU(64, recurrent_dropout=0.20, recurrent_regularizer='l1_l2'))\n",
    "model3.add(Dropout(0.2))\n",
    "model3.add(Dense(42, activation='softmax'))\n",
    "model3.summary()"
   ]
  },
  {
   "cell_type": "code",
   "execution_count": 15,
   "metadata": {},
   "outputs": [
    {
     "name": "stdout",
     "output_type": "stream",
     "text": [
      "Epoch 1/15\n",
      "1310/1310 [==============================] - 367s 260ms/step - loss: 1.7189 - accuracy: 0.5256\n",
      "Epoch 2/15\n",
      "1310/1310 [==============================] - 336s 257ms/step - loss: 1.1329 - accuracy: 0.6606\n",
      "Epoch 3/15\n",
      "1310/1310 [==============================] - 332s 253ms/step - loss: 1.0089 - accuracy: 0.7002\n",
      "Epoch 4/15\n",
      "1310/1310 [==============================] - 366s 279ms/step - loss: 0.9376 - accuracy: 0.7250\n",
      "Epoch 5/15\n",
      "1310/1310 [==============================] - 340s 260ms/step - loss: 0.8816 - accuracy: 0.7434\n",
      "Epoch 6/15\n",
      "1310/1310 [==============================] - 352s 269ms/step - loss: 0.8314 - accuracy: 0.7610\n",
      "Epoch 7/15\n",
      "1310/1310 [==============================] - 343s 262ms/step - loss: 0.7882 - accuracy: 0.7753\n",
      "Epoch 8/15\n",
      "1310/1310 [==============================] - 337s 257ms/step - loss: 0.7492 - accuracy: 0.7888\n",
      "Epoch 9/15\n",
      "1310/1310 [==============================] - 339s 259ms/step - loss: 0.7171 - accuracy: 0.8002\n",
      "Epoch 10/15\n",
      "1310/1310 [==============================] - 339s 259ms/step - loss: 0.6901 - accuracy: 0.8083\n",
      "Epoch 11/15\n",
      "1310/1310 [==============================] - 342s 261ms/step - loss: 0.6629 - accuracy: 0.8173\n",
      "Epoch 12/15\n",
      "1310/1310 [==============================] - 339s 259ms/step - loss: 0.6419 - accuracy: 0.8248\n",
      "Epoch 13/15\n",
      "1310/1310 [==============================] - 350s 267ms/step - loss: 0.6251 - accuracy: 0.8302\n",
      "Epoch 14/15\n",
      "1310/1310 [==============================] - 360s 275ms/step - loss: 0.6083 - accuracy: 0.8349\n",
      "Epoch 15/15\n",
      "1310/1310 [==============================] - 366s 280ms/step - loss: 0.5933 - accuracy: 0.8396\n",
      "test loss and accuracy: 3.3404884338378906 0.19038300216197968\n"
     ]
    }
   ],
   "source": [
    "model3.compile(optimizer='rmsprop',\n",
    "            loss='categorical_crossentropy',\n",
    "            metrics=['accuracy']\n",
    "            )\n",
    "#SETUP A EARLY STOPPING CALL and model check point API\n",
    "earlystopping = keras.callbacks.EarlyStopping(monitor='accuracy',\n",
    "                                             patience=5,\n",
    "                                              verbose=1,\n",
    "                                              mode='min'\n",
    "                                             )\n",
    "checkpointer = ModelCheckpoint(filepath='bestvalue',moniter='val_loss', verbose=0, save_best_only=True)\n",
    "callback_list = [checkpointer, earlystopping]\n",
    "callback_list = [earlystopping]\n",
    "\n",
    "# fit model to the data\n",
    "history3 = model3.fit(train_padseq, Y_train, \n",
    "                   batch_size=128, \n",
    "                    epochs=15,\n",
    "                    validation_split=0.2\n",
    "                   )"
   ]
  },
  {
   "cell_type": "code",
   "execution_count": 16,
   "metadata": {},
   "outputs": [
    {
     "data": {
      "image/png": "[encoded data removed]",
      "image/svg+xml": "<?xml version=\"1.0\" encoding=\"utf-8\" standalone=\"no\"?>\n<!DOCTYPE svg PUBLIC \"-//W3C//DTD SVG 1.1//EN\"\n  \"http://www.w3.org/Graphics/SVG/1.1/DTD/svg11.dtd\">\n<svg xmlns:xlink=\"http://www.w3.org/1999/xlink\" width=\"1072.8pt\" height=\"424.8pt\" viewBox=\"0 0 1072.8 424.8\" xmlns=\"http://www.w3.org/2000/svg\" version=\"1.1\">\n <metadata>\n  <rdf:RDF xmlns:dc=\"http://purl.org/dc/elements/1.1/\" xmlns:cc=\"http://creativecommons.org/ns#\" xmlns:rdf=\"http://www.w3.org/1999/02/22-rdf-syntax-ns#\">\n   <cc:Work>\n    <dc:type rdf:resource=\"http://purl.org/dc/dcmitype/StillImage\"/>\n    <dc:date>2023-04-17T10:50:41.420556</dc:date>\n    <dc:format>image/svg+xml</dc:format>\n    <dc:creator>\n     <cc:Agent>\n      <dc:title>Matplotlib v3.5.1, https://matplotlib.org/</dc:title>\n     </cc:Agent>\n    </dc:creator>\n   </cc:Work>\n  </rdf:RDF>\n </metadata>\n <defs>\n  <style type=\"text/css\">*{stroke-linejoin: round; stroke-linecap: butt}</style>\n </defs>\n <g id=\"figure_1\">\n  <g id=\"patch_1\">\n   <path d=\"M 0 424.8 \nL 1072.8 424.8 \nL 1072.8 0 \nL 0 0 \nz\n\" style=\"fill: #ffffff\"/>\n  </g>\n  <g id=\"axes_1\">\n   <g id=\"patch_2\">\n    <path d=\"M 54.015 383.3725 \nL 534.18125 383.3725 \nL 534.18125 28.597656 \nL 54.015 28.597656 \nz\n\" style=\"fill: #e5e5e5\"/>\n   </g>\n   <g id=\"matplotlib.axis_1\">\n    <g id=\"xtick_1\">\n     <g id=\"line2d_1\">\n      <path d=\"M 107.020365 383.3725 \nL 107.020365 28.597656 \n\" clip-path=\"url(#p65fe37baba)\" style=\"fill: none; stroke: #ffffff; stroke-width: 0.8; stroke-linecap: square\"/>\n     </g>\n     <g id=\"line2d_2\">\n      <defs>\n       <path id=\"m14b2f3ee67\" d=\"M 0 0 \nL 0 3.5 \n\" style=\"stroke: #555555; stroke-width: 0.8\"/>\n      </defs>\n      <g>\n       <use xlink:href=\"#m14b2f3ee67\" x=\"107.020365\" y=\"383.3725\" style=\"fill: #555555; stroke: #555555; stroke-width: 0.8\"/>\n      </g>\n     </g>\n     <g id=\"text_1\">\n      <!-- 2 -->\n      <g style=\"fill: #555555\" transform=\"translate(103.839115 397.970937)scale(0.1 -0.1)\">\n       <defs>\n        <path id=\"DejaVuSans-32\" d=\"M 1228 531 \nL 3431 531 \nL 3431 0 \nL 469 0 \nL 469 531 \nQ 828 903 1448 1529 \nQ 2069 2156 2228 2338 \nQ 2531 2678 2651 2914 \nQ 2772 3150 2772 3378 \nQ 2772 3750 2511 3984 \nQ 2250 4219 1831 4219 \nQ 1534 4219 1204 4116 \nQ 875 4013 500 3803 \nL 500 4441 \nQ 881 4594 1212 4672 \nQ 1544 4750 1819 4750 \nQ 2544 4750 2975 4387 \nQ 3406 4025 3406 3419 \nQ 3406 3131 3298 2873 \nQ 3191 2616 2906 2266 \nQ 2828 2175 2409 1742 \nQ 1991 1309 1228 531 \nz\n\" transform=\"scale(0.015625)\"/>\n       </defs>\n       <use xlink:href=\"#DejaVuSans-32\"/>\n      </g>\n     </g>\n    </g>\n    <g id=\"xtick_2\">\n     <g id=\"line2d_3\">\n      <path d=\"M 169.379619 383.3725 \nL 169.379619 28.597656 \n\" clip-path=\"url(#p65fe37baba)\" style=\"fill: none; stroke: #ffffff; stroke-width: 0.8; stroke-linecap: square\"/>\n     </g>\n     <g id=\"line2d_4\">\n      <g>\n       <use xlink:href=\"#m14b2f3ee67\" x=\"169.379619\" y=\"383.3725\" style=\"fill: #555555; stroke: #555555; stroke-width: 0.8\"/>\n      </g>\n     </g>\n     <g id=\"text_2\">\n      <!-- 4 -->\n      <g style=\"fill: #555555\" transform=\"translate(166.198369 397.970937)scale(0.1 -0.1)\">\n       <defs>\n        <path id=\"DejaVuSans-34\" d=\"M 2419 4116 \nL 825 1625 \nL 2419 1625 \nL 2419 4116 \nz\nM 2253 4666 \nL 3047 4666 \nL 3047 1625 \nL 3713 1625 \nL 3713 1100 \nL 3047 1100 \nL 3047 0 \nL 2419 0 \nL 2419 1100 \nL 313 1100 \nL 313 1709 \nL 2253 4666 \nz\n\" transform=\"scale(0.015625)\"/>\n       </defs>\n       <use xlink:href=\"#DejaVuSans-34\"/>\n      </g>\n     </g>\n    </g>\n    <g id=\"xtick_3\">\n     <g id=\"line2d_5\">\n      <path d=\"M 231.738872 383.3725 \nL 231.738872 28.597656 \n\" clip-path=\"url(#p65fe37baba)\" style=\"fill: none; stroke: #ffffff; stroke-width: 0.8; stroke-linecap: square\"/>\n     </g>\n     <g id=\"line2d_6\">\n      <g>\n       <use xlink:href=\"#m14b2f3ee67\" x=\"231.738872\" y=\"383.3725\" style=\"fill: #555555; stroke: #555555; stroke-width: 0.8\"/>\n      </g>\n     </g>\n     <g id=\"text_3\">\n      <!-- 6 -->\n      <g style=\"fill: #555555\" transform=\"translate(228.557622 397.970937)scale(0.1 -0.1)\">\n       <defs>\n        <path id=\"DejaVuSans-36\" d=\"M 2113 2584 \nQ 1688 2584 1439 2293 \nQ 1191 2003 1191 1497 \nQ 1191 994 1439 701 \nQ 1688 409 2113 409 \nQ 2538 409 2786 701 \nQ 3034 994 3034 1497 \nQ 3034 2003 2786 2293 \nQ 2538 2584 2113 2584 \nz\nM 3366 4563 \nL 3366 3988 \nQ 3128 4100 2886 4159 \nQ 2644 4219 2406 4219 \nQ 1781 4219 1451 3797 \nQ 1122 3375 1075 2522 \nQ 1259 2794 1537 2939 \nQ 1816 3084 2150 3084 \nQ 2853 3084 3261 2657 \nQ 3669 2231 3669 1497 \nQ 3669 778 3244 343 \nQ 2819 -91 2113 -91 \nQ 1303 -91 875 529 \nQ 447 1150 447 2328 \nQ 447 3434 972 4092 \nQ 1497 4750 2381 4750 \nQ 2619 4750 2861 4703 \nQ 3103 4656 3366 4563 \nz\n\" transform=\"scale(0.015625)\"/>\n       </defs>\n       <use xlink:href=\"#DejaVuSans-36\"/>\n      </g>\n     </g>\n    </g>\n    <g id=\"xtick_4\">\n     <g id=\"line2d_7\">\n      <path d=\"M 294.098125 383.3725 \nL 294.098125 28.597656 \n\" clip-path=\"url(#p65fe37baba)\" style=\"fill: none; stroke: #ffffff; stroke-width: 0.8; stroke-linecap: square\"/>\n     </g>\n     <g id=\"line2d_8\">\n      <g>\n       <use xlink:href=\"#m14b2f3ee67\" x=\"294.098125\" y=\"383.3725\" style=\"fill: #555555; stroke: #555555; stroke-width: 0.8\"/>\n      </g>\n     </g>\n     <g id=\"text_4\">\n      <!-- 8 -->\n      <g style=\"fill: #555555\" transform=\"translate(290.916875 397.970937)scale(0.1 -0.1)\">\n       <defs>\n        <path id=\"DejaVuSans-38\" d=\"M 2034 2216 \nQ 1584 2216 1326 1975 \nQ 1069 1734 1069 1313 \nQ 1069 891 1326 650 \nQ 1584 409 2034 409 \nQ 2484 409 2743 651 \nQ 3003 894 3003 1313 \nQ 3003 1734 2745 1975 \nQ 2488 2216 2034 2216 \nz\nM 1403 2484 \nQ 997 2584 770 2862 \nQ 544 3141 544 3541 \nQ 544 4100 942 4425 \nQ 1341 4750 2034 4750 \nQ 2731 4750 3128 4425 \nQ 3525 4100 3525 3541 \nQ 3525 3141 3298 2862 \nQ 3072 2584 2669 2484 \nQ 3125 2378 3379 2068 \nQ 3634 1759 3634 1313 \nQ 3634 634 3220 271 \nQ 2806 -91 2034 -91 \nQ 1263 -91 848 271 \nQ 434 634 434 1313 \nQ 434 1759 690 2068 \nQ 947 2378 1403 2484 \nz\nM 1172 3481 \nQ 1172 3119 1398 2916 \nQ 1625 2713 2034 2713 \nQ 2441 2713 2670 2916 \nQ 2900 3119 2900 3481 \nQ 2900 3844 2670 4047 \nQ 2441 4250 2034 4250 \nQ 1625 4250 1398 4047 \nQ 1172 3844 1172 3481 \nz\n\" transform=\"scale(0.015625)\"/>\n       </defs>\n       <use xlink:href=\"#DejaVuSans-38\"/>\n      </g>\n     </g>\n    </g>\n    <g id=\"xtick_5\">\n     <g id=\"line2d_9\">\n      <path d=\"M 356.457378 383.3725 \nL 356.457378 28.597656 \n\" clip-path=\"url(#p65fe37baba)\" style=\"fill: none; stroke: #ffffff; stroke-width: 0.8; stroke-linecap: square\"/>\n     </g>\n     <g id=\"line2d_10\">\n      <g>\n       <use xlink:href=\"#m14b2f3ee67\" x=\"356.457378\" y=\"383.3725\" style=\"fill: #555555; stroke: #555555; stroke-width: 0.8\"/>\n      </g>\n     </g>\n     <g id=\"text_5\">\n      <!-- 10 -->\n      <g style=\"fill: #555555\" transform=\"translate(350.094878 397.970937)scale(0.1 -0.1)\">\n       <defs>\n        <path id=\"DejaVuSans-31\" d=\"M 794 531 \nL 1825 531 \nL 1825 4091 \nL 703 3866 \nL 703 4441 \nL 1819 4666 \nL 2450 4666 \nL 2450 531 \nL 3481 531 \nL 3481 0 \nL 794 0 \nL 794 531 \nz\n\" transform=\"scale(0.015625)\"/>\n        <path id=\"DejaVuSans-30\" d=\"M 2034 4250 \nQ 1547 4250 1301 3770 \nQ 1056 3291 1056 2328 \nQ 1056 1369 1301 889 \nQ 1547 409 2034 409 \nQ 2525 409 2770 889 \nQ 3016 1369 3016 2328 \nQ 3016 3291 2770 3770 \nQ 2525 4250 2034 4250 \nz\nM 2034 4750 \nQ 2819 4750 3233 4129 \nQ 3647 3509 3647 2328 \nQ 3647 1150 3233 529 \nQ 2819 -91 2034 -91 \nQ 1250 -91 836 529 \nQ 422 1150 422 2328 \nQ 422 3509 836 4129 \nQ 1250 4750 2034 4750 \nz\n\" transform=\"scale(0.015625)\"/>\n       </defs>\n       <use xlink:href=\"#DejaVuSans-31\"/>\n       <use xlink:href=\"#DejaVuSans-30\" x=\"63.623047\"/>\n      </g>\n     </g>\n    </g>\n    <g id=\"xtick_6\">\n     <g id=\"line2d_11\">\n      <path d=\"M 418.816631 383.3725 \nL 418.816631 28.597656 \n\" clip-path=\"url(#p65fe37baba)\" style=\"fill: none; stroke: #ffffff; stroke-width: 0.8; stroke-linecap: square\"/>\n     </g>\n     <g id=\"line2d_12\">\n      <g>\n       <use xlink:href=\"#m14b2f3ee67\" x=\"418.816631\" y=\"383.3725\" style=\"fill: #555555; stroke: #555555; stroke-width: 0.8\"/>\n      </g>\n     </g>\n     <g id=\"text_6\">\n      <!-- 12 -->\n      <g style=\"fill: #555555\" transform=\"translate(412.454131 397.970937)scale(0.1 -0.1)\">\n       <use xlink:href=\"#DejaVuSans-31\"/>\n       <use xlink:href=\"#DejaVuSans-32\" x=\"63.623047\"/>\n      </g>\n     </g>\n    </g>\n    <g id=\"xtick_7\">\n     <g id=\"line2d_13\">\n      <path d=\"M 481.175885 383.3725 \nL 481.175885 28.597656 \n\" clip-path=\"url(#p65fe37baba)\" style=\"fill: none; stroke: #ffffff; stroke-width: 0.8; stroke-linecap: square\"/>\n     </g>\n     <g id=\"line2d_14\">\n      <g>\n       <use xlink:href=\"#m14b2f3ee67\" x=\"481.175885\" y=\"383.3725\" style=\"fill: #555555; stroke: #555555; stroke-width: 0.8\"/>\n      </g>\n     </g>\n     <g id=\"text_7\">\n      <!-- 14 -->\n      <g style=\"fill: #555555\" transform=\"translate(474.813385 397.970937)scale(0.1 -0.1)\">\n       <use xlink:href=\"#DejaVuSans-31\"/>\n       <use xlink:href=\"#DejaVuSans-34\" x=\"63.623047\"/>\n      </g>\n     </g>\n    </g>\n    <g id=\"text_8\">\n     <!-- epochs -->\n     <g style=\"fill: #555555\" transform=\"translate(266.231562 414.688437)scale(0.14 -0.14)\">\n      <defs>\n       <path id=\"DejaVuSans-Bold-65\" d=\"M 4031 1759 \nL 4031 1441 \nL 1416 1441 \nQ 1456 1047 1700 850 \nQ 1944 653 2381 653 \nQ 2734 653 3104 758 \nQ 3475 863 3866 1075 \nL 3866 213 \nQ 3469 63 3072 -14 \nQ 2675 -91 2278 -91 \nQ 1328 -91 801 392 \nQ 275 875 275 1747 \nQ 275 2603 792 3093 \nQ 1309 3584 2216 3584 \nQ 3041 3584 3536 3087 \nQ 4031 2591 4031 1759 \nz\nM 2881 2131 \nQ 2881 2450 2695 2645 \nQ 2509 2841 2209 2841 \nQ 1884 2841 1681 2658 \nQ 1478 2475 1428 2131 \nL 2881 2131 \nz\n\" transform=\"scale(0.015625)\"/>\n       <path id=\"DejaVuSans-Bold-70\" d=\"M 1656 506 \nL 1656 -1331 \nL 538 -1331 \nL 538 3500 \nL 1656 3500 \nL 1656 2988 \nQ 1888 3294 2169 3439 \nQ 2450 3584 2816 3584 \nQ 3463 3584 3878 3070 \nQ 4294 2556 4294 1747 \nQ 4294 938 3878 423 \nQ 3463 -91 2816 -91 \nQ 2450 -91 2169 54 \nQ 1888 200 1656 506 \nz\nM 2400 2772 \nQ 2041 2772 1848 2508 \nQ 1656 2244 1656 1747 \nQ 1656 1250 1848 986 \nQ 2041 722 2400 722 \nQ 2759 722 2948 984 \nQ 3138 1247 3138 1747 \nQ 3138 2247 2948 2509 \nQ 2759 2772 2400 2772 \nz\n\" transform=\"scale(0.015625)\"/>\n       <path id=\"DejaVuSans-Bold-6f\" d=\"M 2203 2784 \nQ 1831 2784 1636 2517 \nQ 1441 2250 1441 1747 \nQ 1441 1244 1636 976 \nQ 1831 709 2203 709 \nQ 2569 709 2762 976 \nQ 2956 1244 2956 1747 \nQ 2956 2250 2762 2517 \nQ 2569 2784 2203 2784 \nz\nM 2203 3584 \nQ 3106 3584 3614 3096 \nQ 4122 2609 4122 1747 \nQ 4122 884 3614 396 \nQ 3106 -91 2203 -91 \nQ 1297 -91 786 396 \nQ 275 884 275 1747 \nQ 275 2609 786 3096 \nQ 1297 3584 2203 3584 \nz\n\" transform=\"scale(0.015625)\"/>\n       <path id=\"DejaVuSans-Bold-63\" d=\"M 3366 3391 \nL 3366 2478 \nQ 3138 2634 2908 2709 \nQ 2678 2784 2431 2784 \nQ 1963 2784 1702 2511 \nQ 1441 2238 1441 1747 \nQ 1441 1256 1702 982 \nQ 1963 709 2431 709 \nQ 2694 709 2930 787 \nQ 3166 866 3366 1019 \nL 3366 103 \nQ 3103 6 2833 -42 \nQ 2563 -91 2291 -91 \nQ 1344 -91 809 395 \nQ 275 881 275 1747 \nQ 275 2613 809 3098 \nQ 1344 3584 2291 3584 \nQ 2566 3584 2833 3536 \nQ 3100 3488 3366 3391 \nz\n\" transform=\"scale(0.015625)\"/>\n       <path id=\"DejaVuSans-Bold-68\" d=\"M 4056 2131 \nL 4056 0 \nL 2931 0 \nL 2931 347 \nL 2931 1625 \nQ 2931 2084 2911 2256 \nQ 2891 2428 2841 2509 \nQ 2775 2619 2662 2680 \nQ 2550 2741 2406 2741 \nQ 2056 2741 1856 2470 \nQ 1656 2200 1656 1722 \nL 1656 0 \nL 538 0 \nL 538 4863 \nL 1656 4863 \nL 1656 2988 \nQ 1909 3294 2193 3439 \nQ 2478 3584 2822 3584 \nQ 3428 3584 3742 3212 \nQ 4056 2841 4056 2131 \nz\n\" transform=\"scale(0.015625)\"/>\n       <path id=\"DejaVuSans-Bold-73\" d=\"M 3272 3391 \nL 3272 2541 \nQ 2913 2691 2578 2766 \nQ 2244 2841 1947 2841 \nQ 1628 2841 1473 2761 \nQ 1319 2681 1319 2516 \nQ 1319 2381 1436 2309 \nQ 1553 2238 1856 2203 \nL 2053 2175 \nQ 2913 2066 3209 1816 \nQ 3506 1566 3506 1031 \nQ 3506 472 3093 190 \nQ 2681 -91 1863 -91 \nQ 1516 -91 1145 -36 \nQ 775 19 384 128 \nL 384 978 \nQ 719 816 1070 734 \nQ 1422 653 1784 653 \nQ 2113 653 2278 743 \nQ 2444 834 2444 1013 \nQ 2444 1163 2330 1236 \nQ 2216 1309 1875 1350 \nL 1678 1375 \nQ 931 1469 631 1722 \nQ 331 1975 331 2491 \nQ 331 3047 712 3315 \nQ 1094 3584 1881 3584 \nQ 2191 3584 2531 3537 \nQ 2872 3491 3272 3391 \nz\n\" transform=\"scale(0.015625)\"/>\n      </defs>\n      <use xlink:href=\"#DejaVuSans-Bold-65\"/>\n      <use xlink:href=\"#DejaVuSans-Bold-70\" x=\"67.822266\"/>\n      <use xlink:href=\"#DejaVuSans-Bold-6f\" x=\"139.404297\"/>\n      <use xlink:href=\"#DejaVuSans-Bold-63\" x=\"208.105469\"/>\n      <use xlink:href=\"#DejaVuSans-Bold-68\" x=\"267.382812\"/>\n      <use xlink:href=\"#DejaVuSans-Bold-73\" x=\"338.574219\"/>\n     </g>\n    </g>\n   </g>\n   <g id=\"matplotlib.axis_2\">\n    <g id=\"ytick_1\">\n     <g id=\"line2d_15\">\n      <path d=\"M 54.015 342.230288 \nL 534.18125 342.230288 \n\" clip-path=\"url(#p65fe37baba)\" style=\"fill: none; stroke: #ffffff; stroke-width: 0.8; stroke-linecap: square\"/>\n     </g>\n     <g id=\"line2d_16\">\n      <defs>\n       <path id=\"mb04179fed3\" d=\"M 0 0 \nL -3.5 0 \n\" style=\"stroke: #555555; stroke-width: 0.8\"/>\n      </defs>\n      <g>\n       <use xlink:href=\"#mb04179fed3\" x=\"54.015\" y=\"342.230288\" style=\"fill: #555555; stroke: #555555; stroke-width: 0.8\"/>\n      </g>\n     </g>\n     <g id=\"text_9\">\n      <!-- 0.55 -->\n      <g style=\"fill: #555555\" transform=\"translate(24.749375 346.029507)scale(0.1 -0.1)\">\n       <defs>\n        <path id=\"DejaVuSans-2e\" d=\"M 684 794 \nL 1344 794 \nL 1344 0 \nL 684 0 \nL 684 794 \nz\n\" transform=\"scale(0.015625)\"/>\n        <path id=\"DejaVuSans-35\" d=\"M 691 4666 \nL 3169 4666 \nL 3169 4134 \nL 1269 4134 \nL 1269 2991 \nQ 1406 3038 1543 3061 \nQ 1681 3084 1819 3084 \nQ 2600 3084 3056 2656 \nQ 3513 2228 3513 1497 \nQ 3513 744 3044 326 \nQ 2575 -91 1722 -91 \nQ 1428 -91 1123 -41 \nQ 819 9 494 109 \nL 494 744 \nQ 775 591 1075 516 \nQ 1375 441 1709 441 \nQ 2250 441 2565 725 \nQ 2881 1009 2881 1497 \nQ 2881 1984 2565 2268 \nQ 2250 2553 1709 2553 \nQ 1456 2553 1204 2497 \nQ 953 2441 691 2322 \nL 691 4666 \nz\n\" transform=\"scale(0.015625)\"/>\n       </defs>\n       <use xlink:href=\"#DejaVuSans-30\"/>\n       <use xlink:href=\"#DejaVuSans-2e\" x=\"63.623047\"/>\n       <use xlink:href=\"#DejaVuSans-35\" x=\"95.410156\"/>\n       <use xlink:href=\"#DejaVuSans-35\" x=\"159.033203\"/>\n      </g>\n     </g>\n    </g>\n    <g id=\"ytick_2\">\n     <g id=\"line2d_17\">\n      <path d=\"M 54.015 290.866911 \nL 534.18125 290.866911 \n\" clip-path=\"url(#p65fe37baba)\" style=\"fill: none; stroke: #ffffff; stroke-width: 0.8; stroke-linecap: square\"/>\n     </g>\n     <g id=\"line2d_18\">\n      <g>\n       <use xlink:href=\"#mb04179fed3\" x=\"54.015\" y=\"290.866911\" style=\"fill: #555555; stroke: #555555; stroke-width: 0.8\"/>\n      </g>\n     </g>\n     <g id=\"text_10\">\n      <!-- 0.60 -->\n      <g style=\"fill: #555555\" transform=\"translate(24.749375 294.66613)scale(0.1 -0.1)\">\n       <use xlink:href=\"#DejaVuSans-30\"/>\n       <use xlink:href=\"#DejaVuSans-2e\" x=\"63.623047\"/>\n       <use xlink:href=\"#DejaVuSans-36\" x=\"95.410156\"/>\n       <use xlink:href=\"#DejaVuSans-30\" x=\"159.033203\"/>\n      </g>\n     </g>\n    </g>\n    <g id=\"ytick_3\">\n     <g id=\"line2d_19\">\n      <path d=\"M 54.015 239.503535 \nL 534.18125 239.503535 \n\" clip-path=\"url(#p65fe37baba)\" style=\"fill: none; stroke: #ffffff; stroke-width: 0.8; stroke-linecap: square\"/>\n     </g>\n     <g id=\"line2d_20\">\n      <g>\n       <use xlink:href=\"#mb04179fed3\" x=\"54.015\" y=\"239.503535\" style=\"fill: #555555; stroke: #555555; stroke-width: 0.8\"/>\n      </g>\n     </g>\n     <g id=\"text_11\">\n      <!-- 0.65 -->\n      <g style=\"fill: #555555\" transform=\"translate(24.749375 243.302753)scale(0.1 -0.1)\">\n       <use xlink:href=\"#DejaVuSans-30\"/>\n       <use xlink:href=\"#DejaVuSans-2e\" x=\"63.623047\"/>\n       <use xlink:href=\"#DejaVuSans-36\" x=\"95.410156\"/>\n       <use xlink:href=\"#DejaVuSans-35\" x=\"159.033203\"/>\n      </g>\n     </g>\n    </g>\n    <g id=\"ytick_4\">\n     <g id=\"line2d_21\">\n      <path d=\"M 54.015 188.140158 \nL 534.18125 188.140158 \n\" clip-path=\"url(#p65fe37baba)\" style=\"fill: none; stroke: #ffffff; stroke-width: 0.8; stroke-linecap: square\"/>\n     </g>\n     <g id=\"line2d_22\">\n      <g>\n       <use xlink:href=\"#mb04179fed3\" x=\"54.015\" y=\"188.140158\" style=\"fill: #555555; stroke: #555555; stroke-width: 0.8\"/>\n      </g>\n     </g>\n     <g id=\"text_12\">\n      <!-- 0.70 -->\n      <g style=\"fill: #555555\" transform=\"translate(24.749375 191.939377)scale(0.1 -0.1)\">\n       <defs>\n        <path id=\"DejaVuSans-37\" d=\"M 525 4666 \nL 3525 4666 \nL 3525 4397 \nL 1831 0 \nL 1172 0 \nL 2766 4134 \nL 525 4134 \nL 525 4666 \nz\n\" transform=\"scale(0.015625)\"/>\n       </defs>\n       <use xlink:href=\"#DejaVuSans-30\"/>\n       <use xlink:href=\"#DejaVuSans-2e\" x=\"63.623047\"/>\n       <use xlink:href=\"#DejaVuSans-37\" x=\"95.410156\"/>\n       <use xlink:href=\"#DejaVuSans-30\" x=\"159.033203\"/>\n      </g>\n     </g>\n    </g>\n    <g id=\"ytick_5\">\n     <g id=\"line2d_23\">\n      <path d=\"M 54.015 136.776781 \nL 534.18125 136.776781 \n\" clip-path=\"url(#p65fe37baba)\" style=\"fill: none; stroke: #ffffff; stroke-width: 0.8; stroke-linecap: square\"/>\n     </g>\n     <g id=\"line2d_24\">\n      <g>\n       <use xlink:href=\"#mb04179fed3\" x=\"54.015\" y=\"136.776781\" style=\"fill: #555555; stroke: #555555; stroke-width: 0.8\"/>\n      </g>\n     </g>\n     <g id=\"text_13\">\n      <!-- 0.75 -->\n      <g style=\"fill: #555555\" transform=\"translate(24.749375 140.576)scale(0.1 -0.1)\">\n       <use xlink:href=\"#DejaVuSans-30\"/>\n       <use xlink:href=\"#DejaVuSans-2e\" x=\"63.623047\"/>\n       <use xlink:href=\"#DejaVuSans-37\" x=\"95.410156\"/>\n       <use xlink:href=\"#DejaVuSans-35\" x=\"159.033203\"/>\n      </g>\n     </g>\n    </g>\n    <g id=\"ytick_6\">\n     <g id=\"line2d_25\">\n      <path d=\"M 54.015 85.413404 \nL 534.18125 85.413404 \n\" clip-path=\"url(#p65fe37baba)\" style=\"fill: none; stroke: #ffffff; stroke-width: 0.8; stroke-linecap: square\"/>\n     </g>\n     <g id=\"line2d_26\">\n      <g>\n       <use xlink:href=\"#mb04179fed3\" x=\"54.015\" y=\"85.413404\" style=\"fill: #555555; stroke: #555555; stroke-width: 0.8\"/>\n      </g>\n     </g>\n     <g id=\"text_14\">\n      <!-- 0.80 -->\n      <g style=\"fill: #555555\" transform=\"translate(24.749375 89.212623)scale(0.1 -0.1)\">\n       <use xlink:href=\"#DejaVuSans-30\"/>\n       <use xlink:href=\"#DejaVuSans-2e\" x=\"63.623047\"/>\n       <use xlink:href=\"#DejaVuSans-38\" x=\"95.410156\"/>\n       <use xlink:href=\"#DejaVuSans-30\" x=\"159.033203\"/>\n      </g>\n     </g>\n    </g>\n    <g id=\"ytick_7\">\n     <g id=\"line2d_27\">\n      <path d=\"M 54.015 34.050027 \nL 534.18125 34.050027 \n\" clip-path=\"url(#p65fe37baba)\" style=\"fill: none; stroke: #ffffff; stroke-width: 0.8; stroke-linecap: square\"/>\n     </g>\n     <g id=\"line2d_28\">\n      <g>\n       <use xlink:href=\"#mb04179fed3\" x=\"54.015\" y=\"34.050027\" style=\"fill: #555555; stroke: #555555; stroke-width: 0.8\"/>\n      </g>\n     </g>\n     <g id=\"text_15\">\n      <!-- 0.85 -->\n      <g style=\"fill: #555555\" transform=\"translate(24.749375 37.849246)scale(0.1 -0.1)\">\n       <use xlink:href=\"#DejaVuSans-30\"/>\n       <use xlink:href=\"#DejaVuSans-2e\" x=\"63.623047\"/>\n       <use xlink:href=\"#DejaVuSans-38\" x=\"95.410156\"/>\n       <use xlink:href=\"#DejaVuSans-35\" x=\"159.033203\"/>\n      </g>\n     </g>\n    </g>\n    <g id=\"text_16\">\n     <!-- accuracy -->\n     <g style=\"fill: #555555\" transform=\"translate(17.728437 240.880078)rotate(-90)scale(0.14 -0.14)\">\n      <defs>\n       <path id=\"DejaVuSans-Bold-61\" d=\"M 2106 1575 \nQ 1756 1575 1579 1456 \nQ 1403 1338 1403 1106 \nQ 1403 894 1545 773 \nQ 1688 653 1941 653 \nQ 2256 653 2472 879 \nQ 2688 1106 2688 1447 \nL 2688 1575 \nL 2106 1575 \nz\nM 3816 1997 \nL 3816 0 \nL 2688 0 \nL 2688 519 \nQ 2463 200 2181 54 \nQ 1900 -91 1497 -91 \nQ 953 -91 614 226 \nQ 275 544 275 1050 \nQ 275 1666 698 1953 \nQ 1122 2241 2028 2241 \nL 2688 2241 \nL 2688 2328 \nQ 2688 2594 2478 2717 \nQ 2269 2841 1825 2841 \nQ 1466 2841 1156 2769 \nQ 847 2697 581 2553 \nL 581 3406 \nQ 941 3494 1303 3539 \nQ 1666 3584 2028 3584 \nQ 2975 3584 3395 3211 \nQ 3816 2838 3816 1997 \nz\n\" transform=\"scale(0.015625)\"/>\n       <path id=\"DejaVuSans-Bold-75\" d=\"M 500 1363 \nL 500 3500 \nL 1625 3500 \nL 1625 3150 \nQ 1625 2866 1622 2436 \nQ 1619 2006 1619 1863 \nQ 1619 1441 1641 1255 \nQ 1663 1069 1716 984 \nQ 1784 875 1895 815 \nQ 2006 756 2150 756 \nQ 2500 756 2700 1025 \nQ 2900 1294 2900 1772 \nL 2900 3500 \nL 4019 3500 \nL 4019 0 \nL 2900 0 \nL 2900 506 \nQ 2647 200 2364 54 \nQ 2081 -91 1741 -91 \nQ 1134 -91 817 281 \nQ 500 653 500 1363 \nz\n\" transform=\"scale(0.015625)\"/>\n       <path id=\"DejaVuSans-Bold-72\" d=\"M 3138 2547 \nQ 2991 2616 2845 2648 \nQ 2700 2681 2553 2681 \nQ 2122 2681 1889 2404 \nQ 1656 2128 1656 1613 \nL 1656 0 \nL 538 0 \nL 538 3500 \nL 1656 3500 \nL 1656 2925 \nQ 1872 3269 2151 3426 \nQ 2431 3584 2822 3584 \nQ 2878 3584 2943 3579 \nQ 3009 3575 3134 3559 \nL 3138 2547 \nz\n\" transform=\"scale(0.015625)\"/>\n       <path id=\"DejaVuSans-Bold-79\" d=\"M 78 3500 \nL 1197 3500 \nL 2138 1125 \nL 2938 3500 \nL 4056 3500 \nL 2584 -331 \nQ 2363 -916 2067 -1148 \nQ 1772 -1381 1288 -1381 \nL 641 -1381 \nL 641 -647 \nL 991 -647 \nQ 1275 -647 1404 -556 \nQ 1534 -466 1606 -231 \nL 1638 -134 \nL 78 3500 \nz\n\" transform=\"scale(0.015625)\"/>\n      </defs>\n      <use xlink:href=\"#DejaVuSans-Bold-61\"/>\n      <use xlink:href=\"#DejaVuSans-Bold-63\" x=\"67.480469\"/>\n      <use xlink:href=\"#DejaVuSans-Bold-63\" x=\"126.757812\"/>\n      <use xlink:href=\"#DejaVuSans-Bold-75\" x=\"186.035156\"/>\n      <use xlink:href=\"#DejaVuSans-Bold-72\" x=\"257.226562\"/>\n      <use xlink:href=\"#DejaVuSans-Bold-61\" x=\"306.542969\"/>\n      <use xlink:href=\"#DejaVuSans-Bold-63\" x=\"374.023438\"/>\n      <use xlink:href=\"#DejaVuSans-Bold-79\" x=\"433.300781\"/>\n     </g>\n    </g>\n   </g>\n   <g id=\"line2d_29\">\n    <defs>\n     <path id=\"mb3e795cf5e\" d=\"M 0 3 \nC 0.795609 3 1.55874 2.683901 2.12132 2.12132 \nC 2.683901 1.55874 3 0.795609 3 0 \nC 3 -0.795609 2.683901 -1.55874 2.12132 -2.12132 \nC 1.55874 -2.683901 0.795609 -3 0 -3 \nC -0.795609 -3 -1.55874 -2.683901 -2.12132 -2.12132 \nC -2.683901 -1.55874 -3 -0.795609 -3 0 \nC -3 0.795609 -2.683901 1.55874 -2.12132 2.12132 \nC -1.55874 2.683901 -0.795609 3 0 3 \nz\n\" style=\"stroke: #0000ff\"/>\n    </defs>\n    <g clip-path=\"url(#p65fe37baba)\">\n     <use xlink:href=\"#mb3e795cf5e\" x=\"75.840739\" y=\"367.246371\" style=\"fill: #0000ff; stroke: #0000ff\"/>\n     <use xlink:href=\"#mb3e795cf5e\" x=\"107.020365\" y=\"228.633657\" style=\"fill: #0000ff; stroke: #0000ff\"/>\n     <use xlink:href=\"#mb3e795cf5e\" x=\"138.199992\" y=\"187.902353\" style=\"fill: #0000ff; stroke: #0000ff\"/>\n     <use xlink:href=\"#mb3e795cf5e\" x=\"169.379619\" y=\"162.449873\" style=\"fill: #0000ff; stroke: #0000ff\"/>\n     <use xlink:href=\"#mb3e795cf5e\" x=\"200.559245\" y=\"143.567362\" style=\"fill: #0000ff; stroke: #0000ff\"/>\n     <use xlink:href=\"#mb3e795cf5e\" x=\"231.738872\" y=\"125.463207\" style=\"fill: #0000ff; stroke: #0000ff\"/>\n     <use xlink:href=\"#mb3e795cf5e\" x=\"262.918498\" y=\"110.754311\" style=\"fill: #0000ff; stroke: #0000ff\"/>\n     <use xlink:href=\"#mb3e795cf5e\" x=\"294.098125\" y=\"96.903492\" style=\"fill: #0000ff; stroke: #0000ff\"/>\n     <use xlink:href=\"#mb3e795cf5e\" x=\"325.277752\" y=\"85.167003\" style=\"fill: #0000ff; stroke: #0000ff\"/>\n     <use xlink:href=\"#mb3e795cf5e\" x=\"356.457378\" y=\"76.838142\" style=\"fill: #0000ff; stroke: #0000ff\"/>\n     <use xlink:href=\"#mb3e795cf5e\" x=\"387.637005\" y=\"67.675759\" style=\"fill: #0000ff; stroke: #0000ff\"/>\n     <use xlink:href=\"#mb3e795cf5e\" x=\"418.816631\" y=\"59.910703\" style=\"fill: #0000ff; stroke: #0000ff\"/>\n     <use xlink:href=\"#mb3e795cf5e\" x=\"449.996258\" y=\"54.425482\" style=\"fill: #0000ff; stroke: #0000ff\"/>\n     <use xlink:href=\"#mb3e795cf5e\" x=\"481.175885\" y=\"49.54705\" style=\"fill: #0000ff; stroke: #0000ff\"/>\n     <use xlink:href=\"#mb3e795cf5e\" x=\"512.355511\" y=\"44.723786\" style=\"fill: #0000ff; stroke: #0000ff\"/>\n    </g>\n   </g>\n   <g id=\"patch_3\">\n    <path d=\"M 54.015 383.3725 \nL 54.015 28.597656 \n\" style=\"fill: none; stroke: #ffffff; stroke-linejoin: miter; stroke-linecap: square\"/>\n   </g>\n   <g id=\"patch_4\">\n    <path d=\"M 534.18125 383.3725 \nL 534.18125 28.597656 \n\" style=\"fill: none; stroke: #ffffff; stroke-linejoin: miter; stroke-linecap: square\"/>\n   </g>\n   <g id=\"patch_5\">\n    <path d=\"M 54.015 383.3725 \nL 534.18125 383.3725 \n\" style=\"fill: none; stroke: #ffffff; stroke-linejoin: miter; stroke-linecap: square\"/>\n   </g>\n   <g id=\"patch_6\">\n    <path d=\"M 54.015 28.597656 \nL 534.18125 28.597656 \n\" style=\"fill: none; stroke: #ffffff; stroke-linejoin: miter; stroke-linecap: square\"/>\n   </g>\n   <g id=\"text_17\">\n    <!-- Training accuracy -->\n    <g transform=\"translate(219.859844 18.597656)scale(0.15 -0.15)\">\n     <defs>\n      <path id=\"DejaVuSans-Bold-54\" d=\"M 31 4666 \nL 4331 4666 \nL 4331 3756 \nL 2784 3756 \nL 2784 0 \nL 1581 0 \nL 1581 3756 \nL 31 3756 \nL 31 4666 \nz\n\" transform=\"scale(0.015625)\"/>\n      <path id=\"DejaVuSans-Bold-69\" d=\"M 538 3500 \nL 1656 3500 \nL 1656 0 \nL 538 0 \nL 538 3500 \nz\nM 538 4863 \nL 1656 4863 \nL 1656 3950 \nL 538 3950 \nL 538 4863 \nz\n\" transform=\"scale(0.015625)\"/>\n      <path id=\"DejaVuSans-Bold-6e\" d=\"M 4056 2131 \nL 4056 0 \nL 2931 0 \nL 2931 347 \nL 2931 1631 \nQ 2931 2084 2911 2256 \nQ 2891 2428 2841 2509 \nQ 2775 2619 2662 2680 \nQ 2550 2741 2406 2741 \nQ 2056 2741 1856 2470 \nQ 1656 2200 1656 1722 \nL 1656 0 \nL 538 0 \nL 538 3500 \nL 1656 3500 \nL 1656 2988 \nQ 1909 3294 2193 3439 \nQ 2478 3584 2822 3584 \nQ 3428 3584 3742 3212 \nQ 4056 2841 4056 2131 \nz\n\" transform=\"scale(0.015625)\"/>\n      <path id=\"DejaVuSans-Bold-67\" d=\"M 2919 594 \nQ 2688 288 2409 144 \nQ 2131 0 1766 0 \nQ 1125 0 706 504 \nQ 288 1009 288 1791 \nQ 288 2575 706 3076 \nQ 1125 3578 1766 3578 \nQ 2131 3578 2409 3434 \nQ 2688 3291 2919 2981 \nL 2919 3500 \nL 4044 3500 \nL 4044 353 \nQ 4044 -491 3511 -936 \nQ 2978 -1381 1966 -1381 \nQ 1638 -1381 1331 -1331 \nQ 1025 -1281 716 -1178 \nL 716 -306 \nQ 1009 -475 1290 -558 \nQ 1572 -641 1856 -641 \nQ 2406 -641 2662 -400 \nQ 2919 -159 2919 353 \nL 2919 594 \nz\nM 2181 2772 \nQ 1834 2772 1640 2515 \nQ 1447 2259 1447 1791 \nQ 1447 1309 1634 1061 \nQ 1822 813 2181 813 \nQ 2531 813 2725 1069 \nQ 2919 1325 2919 1791 \nQ 2919 2259 2725 2515 \nQ 2531 2772 2181 2772 \nz\n\" transform=\"scale(0.015625)\"/>\n      <path id=\"DejaVuSans-Bold-20\" transform=\"scale(0.015625)\"/>\n     </defs>\n     <use xlink:href=\"#DejaVuSans-Bold-54\"/>\n     <use xlink:href=\"#DejaVuSans-Bold-72\" x=\"57.212891\"/>\n     <use xlink:href=\"#DejaVuSans-Bold-61\" x=\"106.529297\"/>\n     <use xlink:href=\"#DejaVuSans-Bold-69\" x=\"174.009766\"/>\n     <use xlink:href=\"#DejaVuSans-Bold-6e\" x=\"208.287109\"/>\n     <use xlink:href=\"#DejaVuSans-Bold-69\" x=\"279.478516\"/>\n     <use xlink:href=\"#DejaVuSans-Bold-6e\" x=\"313.755859\"/>\n     <use xlink:href=\"#DejaVuSans-Bold-67\" x=\"384.947266\"/>\n     <use xlink:href=\"#DejaVuSans-Bold-20\" x=\"456.529297\"/>\n     <use xlink:href=\"#DejaVuSans-Bold-61\" x=\"491.34375\"/>\n     <use xlink:href=\"#DejaVuSans-Bold-63\" x=\"558.824219\"/>\n     <use xlink:href=\"#DejaVuSans-Bold-63\" x=\"618.101562\"/>\n     <use xlink:href=\"#DejaVuSans-Bold-75\" x=\"677.378906\"/>\n     <use xlink:href=\"#DejaVuSans-Bold-72\" x=\"748.570312\"/>\n     <use xlink:href=\"#DejaVuSans-Bold-61\" x=\"797.886719\"/>\n     <use xlink:href=\"#DejaVuSans-Bold-63\" x=\"865.367188\"/>\n     <use xlink:href=\"#DejaVuSans-Bold-79\" x=\"924.644531\"/>\n    </g>\n   </g>\n   <g id=\"legend_1\">\n    <g id=\"patch_7\">\n     <path d=\"M 61.015 51.275781 \nL 152.769688 51.275781 \nQ 154.769688 51.275781 154.769688 49.275781 \nL 154.769688 35.597656 \nQ 154.769688 33.597656 152.769688 33.597656 \nL 61.015 33.597656 \nQ 59.015 33.597656 59.015 35.597656 \nL 59.015 49.275781 \nQ 59.015 51.275781 61.015 51.275781 \nz\n\" style=\"fill: #e5e5e5; opacity: 0.8; stroke: #cccccc; stroke-width: 0.5; stroke-linejoin: miter\"/>\n    </g>\n    <g id=\"line2d_30\">\n     <g>\n      <use xlink:href=\"#mb3e795cf5e\" x=\"73.015\" y=\"41.696094\" style=\"fill: #0000ff; stroke: #0000ff\"/>\n     </g>\n    </g>\n    <g id=\"text_18\">\n     <!-- Training acc -->\n     <g transform=\"translate(91.015 45.196094)scale(0.1 -0.1)\">\n      <defs>\n       <path id=\"DejaVuSans-54\" d=\"M -19 4666 \nL 3928 4666 \nL 3928 4134 \nL 2272 4134 \nL 2272 0 \nL 1638 0 \nL 1638 4134 \nL -19 4134 \nL -19 4666 \nz\n\" transform=\"scale(0.015625)\"/>\n       <path id=\"DejaVuSans-72\" d=\"M 2631 2963 \nQ 2534 3019 2420 3045 \nQ 2306 3072 2169 3072 \nQ 1681 3072 1420 2755 \nQ 1159 2438 1159 1844 \nL 1159 0 \nL 581 0 \nL 581 3500 \nL 1159 3500 \nL 1159 2956 \nQ 1341 3275 1631 3429 \nQ 1922 3584 2338 3584 \nQ 2397 3584 2469 3576 \nQ 2541 3569 2628 3553 \nL 2631 2963 \nz\n\" transform=\"scale(0.015625)\"/>\n       <path id=\"DejaVuSans-61\" d=\"M 2194 1759 \nQ 1497 1759 1228 1600 \nQ 959 1441 959 1056 \nQ 959 750 1161 570 \nQ 1363 391 1709 391 \nQ 2188 391 2477 730 \nQ 2766 1069 2766 1631 \nL 2766 1759 \nL 2194 1759 \nz\nM 3341 1997 \nL 3341 0 \nL 2766 0 \nL 2766 531 \nQ 2569 213 2275 61 \nQ 1981 -91 1556 -91 \nQ 1019 -91 701 211 \nQ 384 513 384 1019 \nQ 384 1609 779 1909 \nQ 1175 2209 1959 2209 \nL 2766 2209 \nL 2766 2266 \nQ 2766 2663 2505 2880 \nQ 2244 3097 1772 3097 \nQ 1472 3097 1187 3025 \nQ 903 2953 641 2809 \nL 641 3341 \nQ 956 3463 1253 3523 \nQ 1550 3584 1831 3584 \nQ 2591 3584 2966 3190 \nQ 3341 2797 3341 1997 \nz\n\" transform=\"scale(0.015625)\"/>\n       <path id=\"DejaVuSans-69\" d=\"M 603 3500 \nL 1178 3500 \nL 1178 0 \nL 603 0 \nL 603 3500 \nz\nM 603 4863 \nL 1178 4863 \nL 1178 4134 \nL 603 4134 \nL 603 4863 \nz\n\" transform=\"scale(0.015625)\"/>\n       <path id=\"DejaVuSans-6e\" d=\"M 3513 2113 \nL 3513 0 \nL 2938 0 \nL 2938 2094 \nQ 2938 2591 2744 2837 \nQ 2550 3084 2163 3084 \nQ 1697 3084 1428 2787 \nQ 1159 2491 1159 1978 \nL 1159 0 \nL 581 0 \nL 581 3500 \nL 1159 3500 \nL 1159 2956 \nQ 1366 3272 1645 3428 \nQ 1925 3584 2291 3584 \nQ 2894 3584 3203 3211 \nQ 3513 2838 3513 2113 \nz\n\" transform=\"scale(0.015625)\"/>\n       <path id=\"DejaVuSans-67\" d=\"M 2906 1791 \nQ 2906 2416 2648 2759 \nQ 2391 3103 1925 3103 \nQ 1463 3103 1205 2759 \nQ 947 2416 947 1791 \nQ 947 1169 1205 825 \nQ 1463 481 1925 481 \nQ 2391 481 2648 825 \nQ 2906 1169 2906 1791 \nz\nM 3481 434 \nQ 3481 -459 3084 -895 \nQ 2688 -1331 1869 -1331 \nQ 1566 -1331 1297 -1286 \nQ 1028 -1241 775 -1147 \nL 775 -588 \nQ 1028 -725 1275 -790 \nQ 1522 -856 1778 -856 \nQ 2344 -856 2625 -561 \nQ 2906 -266 2906 331 \nL 2906 616 \nQ 2728 306 2450 153 \nQ 2172 0 1784 0 \nQ 1141 0 747 490 \nQ 353 981 353 1791 \nQ 353 2603 747 3093 \nQ 1141 3584 1784 3584 \nQ 2172 3584 2450 3431 \nQ 2728 3278 2906 2969 \nL 2906 3500 \nL 3481 3500 \nL 3481 434 \nz\n\" transform=\"scale(0.015625)\"/>\n       <path id=\"DejaVuSans-20\" transform=\"scale(0.015625)\"/>\n       <path id=\"DejaVuSans-63\" d=\"M 3122 3366 \nL 3122 2828 \nQ 2878 2963 2633 3030 \nQ 2388 3097 2138 3097 \nQ 1578 3097 1268 2742 \nQ 959 2388 959 1747 \nQ 959 1106 1268 751 \nQ 1578 397 2138 397 \nQ 2388 397 2633 464 \nQ 2878 531 3122 666 \nL 3122 134 \nQ 2881 22 2623 -34 \nQ 2366 -91 2075 -91 \nQ 1284 -91 818 406 \nQ 353 903 353 1747 \nQ 353 2603 823 3093 \nQ 1294 3584 2113 3584 \nQ 2378 3584 2631 3529 \nQ 2884 3475 3122 3366 \nz\n\" transform=\"scale(0.015625)\"/>\n      </defs>\n      <use xlink:href=\"#DejaVuSans-54\"/>\n      <use xlink:href=\"#DejaVuSans-72\" x=\"46.333984\"/>\n      <use xlink:href=\"#DejaVuSans-61\" x=\"87.447266\"/>\n      <use xlink:href=\"#DejaVuSans-69\" x=\"148.726562\"/>\n      <use xlink:href=\"#DejaVuSans-6e\" x=\"176.509766\"/>\n      <use xlink:href=\"#DejaVuSans-69\" x=\"239.888672\"/>\n      <use xlink:href=\"#DejaVuSans-6e\" x=\"267.671875\"/>\n      <use xlink:href=\"#DejaVuSans-67\" x=\"331.050781\"/>\n      <use xlink:href=\"#DejaVuSans-20\" x=\"394.527344\"/>\n      <use xlink:href=\"#DejaVuSans-61\" x=\"426.314453\"/>\n      <use xlink:href=\"#DejaVuSans-63\" x=\"487.59375\"/>\n      <use xlink:href=\"#DejaVuSans-63\" x=\"542.574219\"/>\n     </g>\n    </g>\n   </g>\n  </g>\n  <g id=\"axes_2\">\n   <g id=\"patch_8\">\n    <path d=\"M 585.43375 383.3725 \nL 1065.6 383.3725 \nL 1065.6 28.597656 \nL 585.43375 28.597656 \nz\n\" style=\"fill: #e5e5e5\"/>\n   </g>\n   <g id=\"matplotlib.axis_3\">\n    <g id=\"xtick_8\">\n     <g id=\"line2d_31\">\n      <path d=\"M 638.439115 383.3725 \nL 638.439115 28.597656 \n\" clip-path=\"url(#p2f57bc5272)\" style=\"fill: none; stroke: #ffffff; stroke-width: 0.8; stroke-linecap: square\"/>\n     </g>\n     <g id=\"line2d_32\">\n      <g>\n       <use xlink:href=\"#m14b2f3ee67\" x=\"638.439115\" y=\"383.3725\" style=\"fill: #555555; stroke: #555555; stroke-width: 0.8\"/>\n      </g>\n     </g>\n     <g id=\"text_19\">\n      <!-- 2 -->\n      <g style=\"fill: #555555\" transform=\"translate(635.257865 397.970937)scale(0.1 -0.1)\">\n       <use xlink:href=\"#DejaVuSans-32\"/>\n      </g>\n     </g>\n    </g>\n    <g id=\"xtick_9\">\n     <g id=\"line2d_33\">\n      <path d=\"M 700.798369 383.3725 \nL 700.798369 28.597656 \n\" clip-path=\"url(#p2f57bc5272)\" style=\"fill: none; stroke: #ffffff; stroke-width: 0.8; stroke-linecap: square\"/>\n     </g>\n     <g id=\"line2d_34\">\n      <g>\n       <use xlink:href=\"#m14b2f3ee67\" x=\"700.798369\" y=\"383.3725\" style=\"fill: #555555; stroke: #555555; stroke-width: 0.8\"/>\n      </g>\n     </g>\n     <g id=\"text_20\">\n      <!-- 4 -->\n      <g style=\"fill: #555555\" transform=\"translate(697.617119 397.970937)scale(0.1 -0.1)\">\n       <use xlink:href=\"#DejaVuSans-34\"/>\n      </g>\n     </g>\n    </g>\n    <g id=\"xtick_10\">\n     <g id=\"line2d_35\">\n      <path d=\"M 763.157622 383.3725 \nL 763.157622 28.597656 \n\" clip-path=\"url(#p2f57bc5272)\" style=\"fill: none; stroke: #ffffff; stroke-width: 0.8; stroke-linecap: square\"/>\n     </g>\n     <g id=\"line2d_36\">\n      <g>\n       <use xlink:href=\"#m14b2f3ee67\" x=\"763.157622\" y=\"383.3725\" style=\"fill: #555555; stroke: #555555; stroke-width: 0.8\"/>\n      </g>\n     </g>\n     <g id=\"text_21\">\n      <!-- 6 -->\n      <g style=\"fill: #555555\" transform=\"translate(759.976372 397.970937)scale(0.1 -0.1)\">\n       <use xlink:href=\"#DejaVuSans-36\"/>\n      </g>\n     </g>\n    </g>\n    <g id=\"xtick_11\">\n     <g id=\"line2d_37\">\n      <path d=\"M 825.516875 383.3725 \nL 825.516875 28.597656 \n\" clip-path=\"url(#p2f57bc5272)\" style=\"fill: none; stroke: #ffffff; stroke-width: 0.8; stroke-linecap: square\"/>\n     </g>\n     <g id=\"line2d_38\">\n      <g>\n       <use xlink:href=\"#m14b2f3ee67\" x=\"825.516875\" y=\"383.3725\" style=\"fill: #555555; stroke: #555555; stroke-width: 0.8\"/>\n      </g>\n     </g>\n     <g id=\"text_22\">\n      <!-- 8 -->\n      <g style=\"fill: #555555\" transform=\"translate(822.335625 397.970937)scale(0.1 -0.1)\">\n       <use xlink:href=\"#DejaVuSans-38\"/>\n      </g>\n     </g>\n    </g>\n    <g id=\"xtick_12\">\n     <g id=\"line2d_39\">\n      <path d=\"M 887.876128 383.3725 \nL 887.876128 28.597656 \n\" clip-path=\"url(#p2f57bc5272)\" style=\"fill: none; stroke: #ffffff; stroke-width: 0.8; stroke-linecap: square\"/>\n     </g>\n     <g id=\"line2d_40\">\n      <g>\n       <use xlink:href=\"#m14b2f3ee67\" x=\"887.876128\" y=\"383.3725\" style=\"fill: #555555; stroke: #555555; stroke-width: 0.8\"/>\n      </g>\n     </g>\n     <g id=\"text_23\">\n      <!-- 10 -->\n      <g style=\"fill: #555555\" transform=\"translate(881.513628 397.970937)scale(0.1 -0.1)\">\n       <use xlink:href=\"#DejaVuSans-31\"/>\n       <use xlink:href=\"#DejaVuSans-30\" x=\"63.623047\"/>\n      </g>\n     </g>\n    </g>\n    <g id=\"xtick_13\">\n     <g id=\"line2d_41\">\n      <path d=\"M 950.235381 383.3725 \nL 950.235381 28.597656 \n\" clip-path=\"url(#p2f57bc5272)\" style=\"fill: none; stroke: #ffffff; stroke-width: 0.8; stroke-linecap: square\"/>\n     </g>\n     <g id=\"line2d_42\">\n      <g>\n       <use xlink:href=\"#m14b2f3ee67\" x=\"950.235381\" y=\"383.3725\" style=\"fill: #555555; stroke: #555555; stroke-width: 0.8\"/>\n      </g>\n     </g>\n     <g id=\"text_24\">\n      <!-- 12 -->\n      <g style=\"fill: #555555\" transform=\"translate(943.872881 397.970937)scale(0.1 -0.1)\">\n       <use xlink:href=\"#DejaVuSans-31\"/>\n       <use xlink:href=\"#DejaVuSans-32\" x=\"63.623047\"/>\n      </g>\n     </g>\n    </g>\n    <g id=\"xtick_14\">\n     <g id=\"line2d_43\">\n      <path d=\"M 1012.594635 383.3725 \nL 1012.594635 28.597656 \n\" clip-path=\"url(#p2f57bc5272)\" style=\"fill: none; stroke: #ffffff; stroke-width: 0.8; stroke-linecap: square\"/>\n     </g>\n     <g id=\"line2d_44\">\n      <g>\n       <use xlink:href=\"#m14b2f3ee67\" x=\"1012.594635\" y=\"383.3725\" style=\"fill: #555555; stroke: #555555; stroke-width: 0.8\"/>\n      </g>\n     </g>\n     <g id=\"text_25\">\n      <!-- 14 -->\n      <g style=\"fill: #555555\" transform=\"translate(1006.232135 397.970937)scale(0.1 -0.1)\">\n       <use xlink:href=\"#DejaVuSans-31\"/>\n       <use xlink:href=\"#DejaVuSans-34\" x=\"63.623047\"/>\n      </g>\n     </g>\n    </g>\n    <g id=\"text_26\">\n     <!-- epochs -->\n     <g style=\"fill: #555555\" transform=\"translate(797.650313 414.688437)scale(0.14 -0.14)\">\n      <use xlink:href=\"#DejaVuSans-Bold-65\"/>\n      <use xlink:href=\"#DejaVuSans-Bold-70\" x=\"67.822266\"/>\n      <use xlink:href=\"#DejaVuSans-Bold-6f\" x=\"139.404297\"/>\n      <use xlink:href=\"#DejaVuSans-Bold-63\" x=\"208.105469\"/>\n      <use xlink:href=\"#DejaVuSans-Bold-68\" x=\"267.382812\"/>\n      <use xlink:href=\"#DejaVuSans-Bold-73\" x=\"338.574219\"/>\n     </g>\n    </g>\n   </g>\n   <g id=\"matplotlib.axis_4\">\n    <g id=\"ytick_8\">\n     <g id=\"line2d_45\">\n      <path d=\"M 585.43375 365.327055 \nL 1065.6 365.327055 \n\" clip-path=\"url(#p2f57bc5272)\" style=\"fill: none; stroke: #ffffff; stroke-width: 0.8; stroke-linecap: square\"/>\n     </g>\n     <g id=\"line2d_46\">\n      <g>\n       <use xlink:href=\"#mb04179fed3\" x=\"585.43375\" y=\"365.327055\" style=\"fill: #555555; stroke: #555555; stroke-width: 0.8\"/>\n      </g>\n     </g>\n     <g id=\"text_27\">\n      <!-- 0.6 -->\n      <g style=\"fill: #555555\" transform=\"translate(562.530625 369.126274)scale(0.1 -0.1)\">\n       <use xlink:href=\"#DejaVuSans-30\"/>\n       <use xlink:href=\"#DejaVuSans-2e\" x=\"63.623047\"/>\n       <use xlink:href=\"#DejaVuSans-36\" x=\"95.410156\"/>\n      </g>\n     </g>\n    </g>\n    <g id=\"ytick_9\">\n     <g id=\"line2d_47\">\n      <path d=\"M 585.43375 308.019899 \nL 1065.6 308.019899 \n\" clip-path=\"url(#p2f57bc5272)\" style=\"fill: none; stroke: #ffffff; stroke-width: 0.8; stroke-linecap: square\"/>\n     </g>\n     <g id=\"line2d_48\">\n      <g>\n       <use xlink:href=\"#mb04179fed3\" x=\"585.43375\" y=\"308.019899\" style=\"fill: #555555; stroke: #555555; stroke-width: 0.8\"/>\n      </g>\n     </g>\n     <g id=\"text_28\">\n      <!-- 0.8 -->\n      <g style=\"fill: #555555\" transform=\"translate(562.530625 311.819118)scale(0.1 -0.1)\">\n       <use xlink:href=\"#DejaVuSans-30\"/>\n       <use xlink:href=\"#DejaVuSans-2e\" x=\"63.623047\"/>\n       <use xlink:href=\"#DejaVuSans-38\" x=\"95.410156\"/>\n      </g>\n     </g>\n    </g>\n    <g id=\"ytick_10\">\n     <g id=\"line2d_49\">\n      <path d=\"M 585.43375 250.712743 \nL 1065.6 250.712743 \n\" clip-path=\"url(#p2f57bc5272)\" style=\"fill: none; stroke: #ffffff; stroke-width: 0.8; stroke-linecap: square\"/>\n     </g>\n     <g id=\"line2d_50\">\n      <g>\n       <use xlink:href=\"#mb04179fed3\" x=\"585.43375\" y=\"250.712743\" style=\"fill: #555555; stroke: #555555; stroke-width: 0.8\"/>\n      </g>\n     </g>\n     <g id=\"text_29\">\n      <!-- 1.0 -->\n      <g style=\"fill: #555555\" transform=\"translate(562.530625 254.511961)scale(0.1 -0.1)\">\n       <use xlink:href=\"#DejaVuSans-31\"/>\n       <use xlink:href=\"#DejaVuSans-2e\" x=\"63.623047\"/>\n       <use xlink:href=\"#DejaVuSans-30\" x=\"95.410156\"/>\n      </g>\n     </g>\n    </g>\n    <g id=\"ytick_11\">\n     <g id=\"line2d_51\">\n      <path d=\"M 585.43375 193.405587 \nL 1065.6 193.405587 \n\" clip-path=\"url(#p2f57bc5272)\" style=\"fill: none; stroke: #ffffff; stroke-width: 0.8; stroke-linecap: square\"/>\n     </g>\n     <g id=\"line2d_52\">\n      <g>\n       <use xlink:href=\"#mb04179fed3\" x=\"585.43375\" y=\"193.405587\" style=\"fill: #555555; stroke: #555555; stroke-width: 0.8\"/>\n      </g>\n     </g>\n     <g id=\"text_30\">\n      <!-- 1.2 -->\n      <g style=\"fill: #555555\" transform=\"translate(562.530625 197.204805)scale(0.1 -0.1)\">\n       <use xlink:href=\"#DejaVuSans-31\"/>\n       <use xlink:href=\"#DejaVuSans-2e\" x=\"63.623047\"/>\n       <use xlink:href=\"#DejaVuSans-32\" x=\"95.410156\"/>\n      </g>\n     </g>\n    </g>\n    <g id=\"ytick_12\">\n     <g id=\"line2d_53\">\n      <path d=\"M 585.43375 136.098431 \nL 1065.6 136.098431 \n\" clip-path=\"url(#p2f57bc5272)\" style=\"fill: none; stroke: #ffffff; stroke-width: 0.8; stroke-linecap: square\"/>\n     </g>\n     <g id=\"line2d_54\">\n      <g>\n       <use xlink:href=\"#mb04179fed3\" x=\"585.43375\" y=\"136.098431\" style=\"fill: #555555; stroke: #555555; stroke-width: 0.8\"/>\n      </g>\n     </g>\n     <g id=\"text_31\">\n      <!-- 1.4 -->\n      <g style=\"fill: #555555\" transform=\"translate(562.530625 139.897649)scale(0.1 -0.1)\">\n       <use xlink:href=\"#DejaVuSans-31\"/>\n       <use xlink:href=\"#DejaVuSans-2e\" x=\"63.623047\"/>\n       <use xlink:href=\"#DejaVuSans-34\" x=\"95.410156\"/>\n      </g>\n     </g>\n    </g>\n    <g id=\"ytick_13\">\n     <g id=\"line2d_55\">\n      <path d=\"M 585.43375 78.791274 \nL 1065.6 78.791274 \n\" clip-path=\"url(#p2f57bc5272)\" style=\"fill: none; stroke: #ffffff; stroke-width: 0.8; stroke-linecap: square\"/>\n     </g>\n     <g id=\"line2d_56\">\n      <g>\n       <use xlink:href=\"#mb04179fed3\" x=\"585.43375\" y=\"78.791274\" style=\"fill: #555555; stroke: #555555; stroke-width: 0.8\"/>\n      </g>\n     </g>\n     <g id=\"text_32\">\n      <!-- 1.6 -->\n      <g style=\"fill: #555555\" transform=\"translate(562.530625 82.590493)scale(0.1 -0.1)\">\n       <use xlink:href=\"#DejaVuSans-31\"/>\n       <use xlink:href=\"#DejaVuSans-2e\" x=\"63.623047\"/>\n       <use xlink:href=\"#DejaVuSans-36\" x=\"95.410156\"/>\n      </g>\n     </g>\n    </g>\n    <g id=\"text_33\">\n     <!-- loss -->\n     <g style=\"fill: #555555\" transform=\"translate(555.619062 221.526172)rotate(-90)scale(0.14 -0.14)\">\n      <defs>\n       <path id=\"DejaVuSans-Bold-6c\" d=\"M 538 4863 \nL 1656 4863 \nL 1656 0 \nL 538 0 \nL 538 4863 \nz\n\" transform=\"scale(0.015625)\"/>\n      </defs>\n      <use xlink:href=\"#DejaVuSans-Bold-6c\"/>\n      <use xlink:href=\"#DejaVuSans-Bold-6f\" x=\"34.277344\"/>\n      <use xlink:href=\"#DejaVuSans-Bold-73\" x=\"102.978516\"/>\n      <use xlink:href=\"#DejaVuSans-Bold-73\" x=\"162.5\"/>\n     </g>\n    </g>\n   </g>\n   <g id=\"line2d_57\">\n    <g clip-path=\"url(#p2f57bc5272)\">\n     <use xlink:href=\"#mb3e795cf5e\" x=\"607.259489\" y=\"44.723786\" style=\"fill: #0000ff; stroke: #0000ff\"/>\n     <use xlink:href=\"#mb3e795cf5e\" x=\"638.439115\" y=\"212.620285\" style=\"fill: #0000ff; stroke: #0000ff\"/>\n     <use xlink:href=\"#mb3e795cf5e\" x=\"669.618742\" y=\"248.172398\" style=\"fill: #0000ff; stroke: #0000ff\"/>\n     <use xlink:href=\"#mb3e795cf5e\" x=\"700.798369\" y=\"268.580786\" style=\"fill: #0000ff; stroke: #0000ff\"/>\n     <use xlink:href=\"#mb3e795cf5e\" x=\"731.977995\" y=\"284.647847\" style=\"fill: #0000ff; stroke: #0000ff\"/>\n     <use xlink:href=\"#mb3e795cf5e\" x=\"763.157622\" y=\"299.025619\" style=\"fill: #0000ff; stroke: #0000ff\"/>\n     <use xlink:href=\"#mb3e795cf5e\" x=\"794.337248\" y=\"311.39777\" style=\"fill: #0000ff; stroke: #0000ff\"/>\n     <use xlink:href=\"#mb3e795cf5e\" x=\"825.516875\" y=\"322.579661\" style=\"fill: #0000ff; stroke: #0000ff\"/>\n     <use xlink:href=\"#mb3e795cf5e\" x=\"856.696502\" y=\"331.782999\" style=\"fill: #0000ff; stroke: #0000ff\"/>\n     <use xlink:href=\"#mb3e795cf5e\" x=\"887.876128\" y=\"339.496787\" style=\"fill: #0000ff; stroke: #0000ff\"/>\n     <use xlink:href=\"#mb3e795cf5e\" x=\"919.055755\" y=\"347.318053\" style=\"fill: #0000ff; stroke: #0000ff\"/>\n     <use xlink:href=\"#mb3e795cf5e\" x=\"950.235381\" y=\"353.311811\" style=\"fill: #0000ff; stroke: #0000ff\"/>\n     <use xlink:href=\"#mb3e795cf5e\" x=\"981.415008\" y=\"358.144327\" style=\"fill: #0000ff; stroke: #0000ff\"/>\n     <use xlink:href=\"#mb3e795cf5e\" x=\"1012.594635\" y=\"362.947894\" style=\"fill: #0000ff; stroke: #0000ff\"/>\n     <use xlink:href=\"#mb3e795cf5e\" x=\"1043.774261\" y=\"367.246371\" style=\"fill: #0000ff; stroke: #0000ff\"/>\n    </g>\n   </g>\n   <g id=\"patch_9\">\n    <path d=\"M 585.43375 383.3725 \nL 585.43375 28.597656 \n\" style=\"fill: none; stroke: #ffffff; stroke-linejoin: miter; stroke-linecap: square\"/>\n   </g>\n   <g id=\"patch_10\">\n    <path d=\"M 1065.6 383.3725 \nL 1065.6 28.597656 \n\" style=\"fill: none; stroke: #ffffff; stroke-linejoin: miter; stroke-linecap: square\"/>\n   </g>\n   <g id=\"patch_11\">\n    <path d=\"M 585.43375 383.3725 \nL 1065.6 383.3725 \n\" style=\"fill: none; stroke: #ffffff; stroke-linejoin: miter; stroke-linecap: square\"/>\n   </g>\n   <g id=\"patch_12\">\n    <path d=\"M 585.43375 28.597656 \nL 1065.6 28.597656 \n\" style=\"fill: none; stroke: #ffffff; stroke-linejoin: miter; stroke-linecap: square\"/>\n   </g>\n   <g id=\"text_34\">\n    <!-- Training loss -->\n    <g transform=\"translate(772.014922 18.597656)scale(0.15 -0.15)\">\n     <use xlink:href=\"#DejaVuSans-Bold-54\"/>\n     <use xlink:href=\"#DejaVuSans-Bold-72\" x=\"57.212891\"/>\n     <use xlink:href=\"#DejaVuSans-Bold-61\" x=\"106.529297\"/>\n     <use xlink:href=\"#DejaVuSans-Bold-69\" x=\"174.009766\"/>\n     <use xlink:href=\"#DejaVuSans-Bold-6e\" x=\"208.287109\"/>\n     <use xlink:href=\"#DejaVuSans-Bold-69\" x=\"279.478516\"/>\n     <use xlink:href=\"#DejaVuSans-Bold-6e\" x=\"313.755859\"/>\n     <use xlink:href=\"#DejaVuSans-Bold-67\" x=\"384.947266\"/>\n     <use xlink:href=\"#DejaVuSans-Bold-20\" x=\"456.529297\"/>\n     <use xlink:href=\"#DejaVuSans-Bold-6c\" x=\"491.34375\"/>\n     <use xlink:href=\"#DejaVuSans-Bold-6f\" x=\"525.621094\"/>\n     <use xlink:href=\"#DejaVuSans-Bold-73\" x=\"594.322266\"/>\n     <use xlink:href=\"#DejaVuSans-Bold-73\" x=\"653.84375\"/>\n    </g>\n   </g>\n   <g id=\"legend_2\">\n    <g id=\"patch_13\">\n     <path d=\"M 964.654688 51.275781 \nL 1058.6 51.275781 \nQ 1060.6 51.275781 1060.6 49.275781 \nL 1060.6 35.597656 \nQ 1060.6 33.597656 1058.6 33.597656 \nL 964.654688 33.597656 \nQ 962.654688 33.597656 962.654688 35.597656 \nL 962.654688 49.275781 \nQ 962.654688 51.275781 964.654688 51.275781 \nz\n\" style=\"fill: #e5e5e5; opacity: 0.8; stroke: #cccccc; stroke-width: 0.5; stroke-linejoin: miter\"/>\n    </g>\n    <g id=\"line2d_58\">\n     <g>\n      <use xlink:href=\"#mb3e795cf5e\" x=\"976.654688\" y=\"41.696094\" style=\"fill: #0000ff; stroke: #0000ff\"/>\n     </g>\n    </g>\n    <g id=\"text_35\">\n     <!-- Training loss -->\n     <g transform=\"translate(994.654688 45.196094)scale(0.1 -0.1)\">\n      <defs>\n       <path id=\"DejaVuSans-6c\" d=\"M 603 4863 \nL 1178 4863 \nL 1178 0 \nL 603 0 \nL 603 4863 \nz\n\" transform=\"scale(0.015625)\"/>\n       <path id=\"DejaVuSans-6f\" d=\"M 1959 3097 \nQ 1497 3097 1228 2736 \nQ 959 2375 959 1747 \nQ 959 1119 1226 758 \nQ 1494 397 1959 397 \nQ 2419 397 2687 759 \nQ 2956 1122 2956 1747 \nQ 2956 2369 2687 2733 \nQ 2419 3097 1959 3097 \nz\nM 1959 3584 \nQ 2709 3584 3137 3096 \nQ 3566 2609 3566 1747 \nQ 3566 888 3137 398 \nQ 2709 -91 1959 -91 \nQ 1206 -91 779 398 \nQ 353 888 353 1747 \nQ 353 2609 779 3096 \nQ 1206 3584 1959 3584 \nz\n\" transform=\"scale(0.015625)\"/>\n       <path id=\"DejaVuSans-73\" d=\"M 2834 3397 \nL 2834 2853 \nQ 2591 2978 2328 3040 \nQ 2066 3103 1784 3103 \nQ 1356 3103 1142 2972 \nQ 928 2841 928 2578 \nQ 928 2378 1081 2264 \nQ 1234 2150 1697 2047 \nL 1894 2003 \nQ 2506 1872 2764 1633 \nQ 3022 1394 3022 966 \nQ 3022 478 2636 193 \nQ 2250 -91 1575 -91 \nQ 1294 -91 989 -36 \nQ 684 19 347 128 \nL 347 722 \nQ 666 556 975 473 \nQ 1284 391 1588 391 \nQ 1994 391 2212 530 \nQ 2431 669 2431 922 \nQ 2431 1156 2273 1281 \nQ 2116 1406 1581 1522 \nL 1381 1569 \nQ 847 1681 609 1914 \nQ 372 2147 372 2553 \nQ 372 3047 722 3315 \nQ 1072 3584 1716 3584 \nQ 2034 3584 2315 3537 \nQ 2597 3491 2834 3397 \nz\n\" transform=\"scale(0.015625)\"/>\n      </defs>\n      <use xlink:href=\"#DejaVuSans-54\"/>\n      <use xlink:href=\"#DejaVuSans-72\" x=\"46.333984\"/>\n      <use xlink:href=\"#DejaVuSans-61\" x=\"87.447266\"/>\n      <use xlink:href=\"#DejaVuSans-69\" x=\"148.726562\"/>\n      <use xlink:href=\"#DejaVuSans-6e\" x=\"176.509766\"/>\n      <use xlink:href=\"#DejaVuSans-69\" x=\"239.888672\"/>\n      <use xlink:href=\"#DejaVuSans-6e\" x=\"267.671875\"/>\n      <use xlink:href=\"#DejaVuSans-67\" x=\"331.050781\"/>\n      <use xlink:href=\"#DejaVuSans-20\" x=\"394.527344\"/>\n      <use xlink:href=\"#DejaVuSans-6c\" x=\"426.314453\"/>\n      <use xlink:href=\"#DejaVuSans-6f\" x=\"454.097656\"/>\n      <use xlink:href=\"#DejaVuSans-73\" x=\"515.279297\"/>\n      <use xlink:href=\"#DejaVuSans-73\" x=\"567.378906\"/>\n     </g>\n    </g>\n   </g>\n  </g>\n </g>\n <defs>\n  <clipPath id=\"p65fe37baba\">\n   <rect x=\"54.015\" y=\"28.597656\" width=\"480.16625\" height=\"354.774844\"/>\n  </clipPath>\n  <clipPath id=\"p2f57bc5272\">\n   <rect x=\"585.43375\" y=\"28.597656\" width=\"480.16625\" height=\"354.774844\"/>\n  </clipPath>\n </defs>\n</svg>\n",
      "text/plain": [
       "<Figure size 1080x432 with 2 Axes>"
      ]
     },
     "metadata": {},
     "output_type": "display_data"
    }
   ],
   "source": [
    "# evalute the model\n",
    "test_loss, test_acc = model3.evaluate(test_padseq, Y_test, verbose=0)\n",
    "print(\"Test loss and accuracy:\", test_loss, test_acc)\n",
    "\n",
    "plot_loss_accuracy(history3)\n",
    "\n",
    "Y_pred = model3.predict(test_padseq)\n",
    "Y_pred = np.argmax(Y_pred,axis=1)\n",
    "Y_test = np.argmax(Y_test,axis=1)\n",
    "print(Y_test.shape, Y_pred.shape)\n",
    "print(Y_test[:5], Y_pred[:5])\n",
    "\n",
    "print(classification_report(Y_test, Y_pred))\n",
    "\n",
    "plt.figure(figsize=(10, 10))\n",
    "sns.heatmap(confusion_matrix(Y_test, Y_pred), annot=True);\n",
    "plt.title('Confusion Matrix', fontsize=20);"
   ]
  },
  {
   "cell_type": "markdown",
   "metadata": {},
   "source": [
    "Stopped: \n",
    "\n",
    "Best training accuracy:\n",
    "\n",
    "Best validation accuracy: \n",
    "\n",
    "Test accuracy:\n",
    "\n",
    "Training time:"
   ]
  },
  {
   "cell_type": "markdown",
   "metadata": {},
   "source": [
    "# EXPERIMENT ORDER 4"
   ]
  },
  {
   "cell_type": "code",
   "execution_count": 17,
   "metadata": {},
   "outputs": [
    {
     "name": "stdout",
     "output_type": "stream",
     "text": [
      "shape of input data:  (167616,)\n",
      "shape of target variable:  (167616,)\n",
      "Length of word index: 53645\n"
     ]
    }
   ],
   "source": [
    "# ORDER 4 TRAIN DATA\n",
    "X_train = X4_train\n",
    "Y_train = Y4_train\n",
    "\n",
    "# one hot encoding using keras tokenizer and pad sequencing\n",
    "encoder = LabelEncoder()\n",
    "Y_train = encoder.fit_transform(Y_train)\n",
    "print(\"shape of input data: \", X_train.shape)\n",
    "print(\"shape of target variable: \", Y_train.shape)\n",
    "\n",
    "tokenizer = Tokenizer(num_words=1000000, oov_token='<00V>') \n",
    "tokenizer.fit_on_texts(X_train) # build the word index\n",
    "# padding X_train text input data\n",
    "train_seq = tokenizer.texts_to_sequences(X_train) # converts strinfs into integer lists\n",
    "train_padseq = pad_sequences(train_seq, maxlen=20) # pads the integer lists to 2D integer tensor \n",
    "\n",
    "word_index = tokenizer.word_index\n",
    "max_words = 15000000  # total number of words to consider in embedding layer\n",
    "total_words = len(word_index) + 1000\n",
    "maxlen = 20 # max length of sequence \n",
    "Y_train = to_categorical(Y_train, num_classes=42)\n",
    "print(\"Length of word index:\", total_words)"
   ]
  },
  {
   "cell_type": "markdown",
   "metadata": {},
   "source": [
    "### Model 2, training using Conv1D, Bi-directional RNN, LSTMs and GRU layer\n"
   ]
  },
  {
   "cell_type": "code",
   "execution_count": 18,
   "metadata": {},
   "outputs": [
    {
     "name": "stdout",
     "output_type": "stream",
     "text": [
      "Model: \"sequential_3\"\n",
      "_________________________________________________________________\n",
      " Layer (type)                Output Shape              Param #   \n",
      "=================================================================\n",
      " embedding_3 (Embedding)     (None, 20, 100)           5364500   \n",
      "                                                                 \n",
      " bidirectional_8 (Bidirectio  (None, 20, 128)          84480     \n",
      " nal)                                                            \n",
      "                                                                 \n",
      " bidirectional_9 (Bidirectio  (None, 20, 128)          98816     \n",
      " nal)                                                            \n",
      "                                                                 \n",
      " bidirectional_10 (Bidirecti  (None, 20, 128)          24704     \n",
      " onal)                                                           \n",
      "                                                                 \n",
      " conv1d_2 (Conv1D)           (None, 18, 72)            27720     \n",
      "                                                                 \n",
      " max_pooling1d_2 (MaxPooling  (None, 9, 72)            0         \n",
      " 1D)                                                             \n",
      "                                                                 \n",
      " simple_rnn_5 (SimpleRNN)    (None, 9, 64)             8768      \n",
      "                                                                 \n",
      " gru_2 (GRU)                 (None, 64)                24960     \n",
      "                                                                 \n",
      " dropout_2 (Dropout)         (None, 64)                0         \n",
      "                                                                 \n",
      " dense_2 (Dense)             (None, 9)                 585       \n",
      "                                                                 \n",
      "=================================================================\n",
      "Total params: 5,634,533\n",
      "Trainable params: 5,634,533\n",
      "Non-trainable params: 0\n",
      "_________________________________________________________________\n"
     ]
    }
   ],
   "source": [
    "model4 = Sequential()\n",
    "model4.add(Embedding(total_words, 100, input_length=maxlen))\n",
    "model4.add(Bidirectional(LSTM(64, dropout=0.1, recurrent_dropout=0.10, activation='tanh', return_sequences=True)))\n",
    "model4.add(Bidirectional(LSTM(64, dropout=0.2, recurrent_dropout=0.20, activation='tanh', return_sequences=True)))\n",
    "model4.add(Bidirectional(SimpleRNN(64, dropout=0.2, recurrent_dropout=0.20, activation='tanh', return_sequences=True)))\n",
    "model4.add(Conv1D(72, 3, activation='relu'))\n",
    "model4.add(MaxPooling1D(2))\n",
    "model4.add(SimpleRNN(64, activation='tanh', dropout=0.2, recurrent_dropout=0.20, return_sequences=True))\n",
    "model4.add(GRU(64, recurrent_dropout=0.20, recurrent_regularizer='l1_l2'))\n",
    "model4.add(Dropout(0.2))\n",
    "model4.add(Dense(42, activation='softmax'))\n",
    "model4.summary()"
   ]
  },
  {
   "cell_type": "code",
   "execution_count": 20,
   "metadata": {},
   "outputs": [
    {
     "name": "stdout",
     "output_type": "stream",
     "text": [
      "Epoch 1/15\n",
      "1310/1310 [==============================] - 406s 288ms/step - loss: 1.6588 - accuracy: 0.5460\n",
      "Epoch 2/15\n",
      "1310/1310 [==============================] - 365s 279ms/step - loss: 1.1147 - accuracy: 0.6666\n",
      "Epoch 3/15\n",
      "1310/1310 [==============================] - 337s 257ms/step - loss: 1.0094 - accuracy: 0.7006\n",
      "Epoch 4/15\n",
      "1310/1310 [==============================] - 368s 281ms/step - loss: 0.9364 - accuracy: 0.7246\n",
      "Epoch 5/15\n",
      "1310/1310 [==============================] - 383s 292ms/step - loss: 0.8781 - accuracy: 0.7435\n",
      "Epoch 6/15\n",
      "1310/1310 [==============================] - 369s 282ms/step - loss: 0.8300 - accuracy: 0.7604\n",
      "Epoch 7/15\n",
      "1310/1310 [==============================] - 371s 284ms/step - loss: 0.7865 - accuracy: 0.7763\n",
      "Epoch 8/15\n",
      "1310/1310 [==============================] - 395s 301ms/step - loss: 0.7505 - accuracy: 0.7870\n",
      "Epoch 9/15\n",
      "1310/1310 [==============================] - 366s 279ms/step - loss: 0.7171 - accuracy: 0.7990\n",
      "Epoch 10/15\n",
      "1310/1310 [==============================] - 371s 283ms/step - loss: 0.6897 - accuracy: 0.8086\n",
      "Epoch 11/15\n",
      "1310/1310 [==============================] - 374s 286ms/step - loss: 0.6652 - accuracy: 0.8167\n",
      "Epoch 12/15\n",
      "1310/1310 [==============================] - 356s 272ms/step - loss: 0.6456 - accuracy: 0.8231\n",
      "Epoch 13/15\n",
      "1310/1310 [==============================] - 363s 277ms/step - loss: 0.6252 - accuracy: 0.8290\n",
      "Epoch 14/15\n",
      " 358/1310 [=======>......................] - ETA: 4:17 - loss: 0.5755 - accuracy: 0.8455"
     ]
    }
   ],
   "source": [
    "model4.compile(optimizer='rmsprop',\n",
    "            loss='categorical_crossentropy',\n",
    "            metrics=['accuracy']\n",
    "            )\n",
    "#SETUP A EARLY STOPPING CALL and model check point API\n",
    "earlystopping = keras.callbacks.EarlyStopping(monitor='accuracy',\n",
    "                                             patience=5,\n",
    "                                              verbose=1,\n",
    "                                              mode='min'\n",
    "                                             )\n",
    "checkpointer = ModelCheckpoint(filepath='bestvalue',moniter='val_loss', verbose=0, save_best_only=True)\n",
    "callback_list = [checkpointer, earlystopping]\n",
    "callback_list = [earlystopping]\n",
    "\n",
    "# fit model to the data\n",
    "history4 = model4.fit(train_padseq, Y_train, \n",
    "                   batch_size=128, \n",
    "                    epochs=15,\n",
    "                    validation_split=0.2\n",
    "                   )"
   ]
  },
  {
   "cell_type": "code",
   "execution_count": null,
   "metadata": {},
   "outputs": [],
   "source": [
    "# evalute the model\n",
    "test_loss, test_acc = model4.evaluate(test_padseq, Y_test, verbose=0)\n",
    "print(\"Test loss and accuracy:\", test_loss, test_acc)\n",
    "\n",
    "plot_loss_accuracy(history4)\n",
    "\n",
    "Y_pred = model4.predict(test_padseq)\n",
    "Y_pred = np.argmax(Y_pred,axis=1)\n",
    "Y_test = np.argmax(Y_test,axis=1)\n",
    "print(Y_test.shape, Y_pred.shape)\n",
    "print(Y_test[:5], Y_pred[:5])\n",
    "\n",
    "print(classification_report(Y_test, Y_pred))\n",
    "\n",
    "plt.figure(figsize=(10, 10))\n",
    "sns.heatmap(confusion_matrix(Y_test, Y_pred), annot=True);\n",
    "plt.title('Confusion Matrix', fontsize=20);"
   ]
  },
  {
   "cell_type": "markdown",
   "metadata": {},
   "source": [
    "Stopped: \n",
    "\n",
    "Best training accuracy:\n",
    "\n",
    "Best validation accuracy: \n",
    "\n",
    "Test accuracy:\n",
    "\n",
    "Training time:"
   ]
  },
  {
   "cell_type": "markdown",
   "metadata": {},
   "source": [
    "# EXPERIMENT ORDER 5"
   ]
  },
  {
   "cell_type": "code",
   "execution_count": null,
   "metadata": {},
   "outputs": [],
   "source": [
    "# ORDER 5 TRAIN DATA\n",
    "X_train = X5_train\n",
    "Y_train = Y5_train\n",
    "\n",
    "# one hot encoding using keras tokenizer and pad sequencing\n",
    "encoder = LabelEncoder()\n",
    "Y_train = encoder.fit_transform(Y_train)\n",
    "print(\"shape of input data: \", X_train.shape)\n",
    "print(\"shape of target variable: \", Y_train.shape)\n",
    "\n",
    "tokenizer = Tokenizer(num_words=1000000, oov_token='<00V>') \n",
    "tokenizer.fit_on_texts(X_train) # build the word index\n",
    "# padding X_train text input data\n",
    "train_seq = tokenizer.texts_to_sequences(X_train) # converts strinfs into integer lists\n",
    "train_padseq = pad_sequences(train_seq, maxlen=20) # pads the integer lists to 2D integer tensor \n",
    "\n",
    "word_index = tokenizer.word_index\n",
    "max_words = 15000000  # total number of words to consider in embedding layer\n",
    "total_words = len(word_index) + 1000\n",
    "maxlen = 20 # max length of sequence \n",
    "Y_train = to_categorical(Y_train, num_classes=42)\n",
    "print(\"Length of word index:\", total_words)"
   ]
  },
  {
   "cell_type": "markdown",
   "metadata": {},
   "source": [
    "### Model 2, training using Conv1D, Bi-directional RNN, LSTMs and GRU layer\n"
   ]
  },
  {
   "cell_type": "code",
   "execution_count": null,
   "metadata": {},
   "outputs": [],
   "source": [
    "model5 = Sequential()\n",
    "model5.add(Embedding(total_words, 100, input_length=maxlen))\n",
    "model5.add(Bidirectional(LSTM(64, dropout=0.1, recurrent_dropout=0.10, activation='tanh', return_sequences=True)))\n",
    "model5.add(Bidirectional(LSTM(64, dropout=0.2, recurrent_dropout=0.20, activation='tanh', return_sequences=True)))\n",
    "model5.add(Bidirectional(SimpleRNN(64, dropout=0.2, recurrent_dropout=0.20, activation='tanh', return_sequences=True)))\n",
    "model5.add(Conv1D(72, 3, activation='relu'))\n",
    "model5.add(MaxPooling1D(2))\n",
    "model5.add(SimpleRNN(64, activation='tanh', dropout=0.2, recurrent_dropout=0.20, return_sequences=True))\n",
    "model5.add(GRU(64, recurrent_dropout=0.20, recurrent_regularizer='l1_l2'))\n",
    "model5.add(Dropout(0.2))\n",
    "model5.add(Dense(42, activation='softmax'))\n",
    "model5.summary()"
   ]
  },
  {
   "cell_type": "code",
   "execution_count": null,
   "metadata": {},
   "outputs": [],
   "source": [
    "model5.compile(optimizer='rmsprop',\n",
    "            loss='categorical_crossentropy',\n",
    "            metrics=['accuracy']\n",
    "            )\n",
    "#SETUP A EARLY STOPPING CALL and model check point API\n",
    "earlystopping = keras.callbacks.EarlyStopping(monitor='accuracy',\n",
    "                                             patience=5,\n",
    "                                              verbose=1,\n",
    "                                              mode='min'\n",
    "                                             )\n",
    "checkpointer = ModelCheckpoint(filepath='bestvalue',moniter='val_loss', verbose=0, save_best_only=True)\n",
    "callback_list = [checkpointer, earlystopping]\n",
    "callback_list = [earlystopping]\n",
    "\n",
    "# fit model to the data\n",
    "history5 = model5.fit(train_padseq, Y_train, \n",
    "                   batch_size=128, \n",
    "                    epochs=15,\n",
    "                    validation_split=0.2\n",
    "                   )"
   ]
  },
  {
   "cell_type": "code",
   "execution_count": null,
   "metadata": {},
   "outputs": [],
   "source": [
    "# evalute the model\n",
    "test_loss, test_acc = model5.evaluate(test_padseq, Y_test, verbose=0)\n",
    "print(\"Test loss and accuracy:\", test_loss, test_acc)\n",
    "\n",
    "plot_loss_accuracy(history5)\n",
    "\n",
    "Y_pred = model5.predict(test_padseq)\n",
    "Y_pred = np.argmax(Y_pred,axis=1)\n",
    "Y_test = np.argmax(Y_test,axis=1)\n",
    "print(Y_test.shape, Y_pred.shape)\n",
    "print(Y_test[:5], Y_pred[:5])\n",
    "\n",
    "print(classification_report(Y_test, Y_pred))\n",
    "\n",
    "plt.figure(figsize=(10, 10))\n",
    "sns.heatmap(confusion_matrix(Y_test, Y_pred), annot=True);\n",
    "plt.title('Confusion Matrix', fontsize=20);"
   ]
  },
  {
   "cell_type": "markdown",
   "metadata": {},
   "source": [
    "Stopped: \n",
    "\n",
    "Best training accuracy:\n",
    "\n",
    "Best validation accuracy: \n",
    "\n",
    "Test accuracy:\n",
    "\n",
    "Training time:"
   ]
  }
 ],
 "metadata": {
  "kernelspec": {
   "display_name": "Python 3.8.5 ('base')",
   "language": "python",
   "name": "python3"
  },
  "language_info": {
   "codemirror_mode": {
    "name": "ipython",
    "version": 3
   },
   "file_extension": ".py",
   "mimetype": "text/x-python",
   "name": "python",
   "nbconvert_exporter": "python",
   "pygments_lexer": "ipython3",
   "version": "3.8.5"
  },
  "orig_nbformat": 4,
  "vscode": {
   "interpreter": {
    "hash": "85b31755cbf75356c393a3522367cd288f0b05170e2bd292c75b11fc3d2da2cf"
   }
  }
 },
 "nbformat": 4,
 "nbformat_minor": 2
}
